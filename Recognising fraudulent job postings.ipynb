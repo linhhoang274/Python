{
 "cells": [
  {
   "cell_type": "markdown",
   "id": "b78e2365",
   "metadata": {},
   "source": [
    "# 1. Libraries import"
   ]
  },
  {
   "cell_type": "code",
   "execution_count": 1,
   "id": "48c2284e",
   "metadata": {},
   "outputs": [
    {
     "name": "stderr",
     "output_type": "stream",
     "text": [
      "Fontconfig error: Cannot load default config file: No such file: (null)\n"
     ]
    }
   ],
   "source": [
    "import pandas as pd\n",
    "import numpy as np\n",
    "import itertools\n",
    "import re\n",
    "\n",
    "#matplotlib for plotting\n",
    "import matplotlib.pyplot as plt\n",
    "from matplotlib import gridspec\n",
    "import matplotlib.ticker as mtick #for percentage ticks\n",
    "import matplotlib.patches as mpatches\n",
    "import seaborn as sns\n",
    "\n",
    "#sklearn for modeling\n",
    "from sklearn import tree\n",
    "from sklearn.tree import DecisionTreeClassifier #Decision Tree algorithm\n",
    "from sklearn.preprocessing import LabelEncoder #OneHotEncoding\n",
    "from sklearn.metrics import classification_report \n",
    "\n",
    "from sklearn.model_selection import train_test_split #Data split function\n",
    "from imblearn.over_sampling import SMOTE\n",
    "from sklearn.decomposition import PCA\n",
    "\n",
    "from sklearn.feature_extraction.text import CountVectorizer\n",
    "from sklearn.naive_bayes import MultinomialNB\n",
    "from sklearn.linear_model import LogisticRegression\n",
    "\n",
    "#Evaluation\n",
    "from sklearn.metrics import accuracy_score\n",
    "from sklearn.metrics import confusion_matrix\n",
    "from sklearn.metrics import roc_curve, auc\n",
    "\n",
    "#Decision tree plot\n",
    "import pydotplus\n",
    "from IPython.display import Image\n",
    "\n",
    "#Randome forest\n",
    "from sklearn.ensemble import RandomForestClassifier\n",
    "from sklearn import metrics"
   ]
  },
  {
   "cell_type": "markdown",
   "id": "fee2b03c",
   "metadata": {},
   "source": [
    "# 2. Exploring data"
   ]
  },
  {
   "cell_type": "code",
   "execution_count": 2,
   "id": "b10813fc",
   "metadata": {},
   "outputs": [
    {
     "data": {
      "text/html": [
       "<div>\n",
       "<style scoped>\n",
       "    .dataframe tbody tr th:only-of-type {\n",
       "        vertical-align: middle;\n",
       "    }\n",
       "\n",
       "    .dataframe tbody tr th {\n",
       "        vertical-align: top;\n",
       "    }\n",
       "\n",
       "    .dataframe thead th {\n",
       "        text-align: right;\n",
       "    }\n",
       "</style>\n",
       "<table border=\"1\" class=\"dataframe\">\n",
       "  <thead>\n",
       "    <tr style=\"text-align: right;\">\n",
       "      <th></th>\n",
       "      <th>job_id</th>\n",
       "      <th>title</th>\n",
       "      <th>location</th>\n",
       "      <th>department</th>\n",
       "      <th>salary_range</th>\n",
       "      <th>company_profile</th>\n",
       "      <th>description</th>\n",
       "      <th>requirements</th>\n",
       "      <th>benefits</th>\n",
       "      <th>telecommuting</th>\n",
       "      <th>has_company_logo</th>\n",
       "      <th>has_questions</th>\n",
       "      <th>employment_type</th>\n",
       "      <th>required_experience</th>\n",
       "      <th>required_education</th>\n",
       "      <th>industry</th>\n",
       "      <th>function</th>\n",
       "      <th>fraudulent</th>\n",
       "    </tr>\n",
       "  </thead>\n",
       "  <tbody>\n",
       "    <tr>\n",
       "      <th>0</th>\n",
       "      <td>1</td>\n",
       "      <td>Marketing Intern</td>\n",
       "      <td>US, NY, New York</td>\n",
       "      <td>Marketing</td>\n",
       "      <td>NaN</td>\n",
       "      <td>We're Food52, and we've created a groundbreaki...</td>\n",
       "      <td>Food52, a fast-growing, James Beard Award-winn...</td>\n",
       "      <td>Experience with content management systems a m...</td>\n",
       "      <td>NaN</td>\n",
       "      <td>0</td>\n",
       "      <td>1</td>\n",
       "      <td>0</td>\n",
       "      <td>Other</td>\n",
       "      <td>Internship</td>\n",
       "      <td>NaN</td>\n",
       "      <td>NaN</td>\n",
       "      <td>Marketing</td>\n",
       "      <td>0</td>\n",
       "    </tr>\n",
       "    <tr>\n",
       "      <th>1</th>\n",
       "      <td>2</td>\n",
       "      <td>Customer Service - Cloud Video Production</td>\n",
       "      <td>NZ, , Auckland</td>\n",
       "      <td>Success</td>\n",
       "      <td>NaN</td>\n",
       "      <td>90 Seconds, the worlds Cloud Video Production ...</td>\n",
       "      <td>Organised - Focused - Vibrant - Awesome!Do you...</td>\n",
       "      <td>What we expect from you:Your key responsibilit...</td>\n",
       "      <td>What you will get from usThrough being part of...</td>\n",
       "      <td>0</td>\n",
       "      <td>1</td>\n",
       "      <td>0</td>\n",
       "      <td>Full-time</td>\n",
       "      <td>Not Applicable</td>\n",
       "      <td>NaN</td>\n",
       "      <td>Marketing and Advertising</td>\n",
       "      <td>Customer Service</td>\n",
       "      <td>0</td>\n",
       "    </tr>\n",
       "    <tr>\n",
       "      <th>2</th>\n",
       "      <td>3</td>\n",
       "      <td>Commissioning Machinery Assistant (CMA)</td>\n",
       "      <td>US, IA, Wever</td>\n",
       "      <td>NaN</td>\n",
       "      <td>NaN</td>\n",
       "      <td>Valor Services provides Workforce Solutions th...</td>\n",
       "      <td>Our client, located in Houston, is actively se...</td>\n",
       "      <td>Implement pre-commissioning and commissioning ...</td>\n",
       "      <td>NaN</td>\n",
       "      <td>0</td>\n",
       "      <td>1</td>\n",
       "      <td>0</td>\n",
       "      <td>NaN</td>\n",
       "      <td>NaN</td>\n",
       "      <td>NaN</td>\n",
       "      <td>NaN</td>\n",
       "      <td>NaN</td>\n",
       "      <td>0</td>\n",
       "    </tr>\n",
       "    <tr>\n",
       "      <th>3</th>\n",
       "      <td>4</td>\n",
       "      <td>Account Executive - Washington DC</td>\n",
       "      <td>US, DC, Washington</td>\n",
       "      <td>Sales</td>\n",
       "      <td>NaN</td>\n",
       "      <td>Our passion for improving quality of life thro...</td>\n",
       "      <td>THE COMPANY: ESRI – Environmental Systems Rese...</td>\n",
       "      <td>EDUCATION: Bachelor’s or Master’s in GIS, busi...</td>\n",
       "      <td>Our culture is anything but corporate—we have ...</td>\n",
       "      <td>0</td>\n",
       "      <td>1</td>\n",
       "      <td>0</td>\n",
       "      <td>Full-time</td>\n",
       "      <td>Mid-Senior level</td>\n",
       "      <td>Bachelor's Degree</td>\n",
       "      <td>Computer Software</td>\n",
       "      <td>Sales</td>\n",
       "      <td>0</td>\n",
       "    </tr>\n",
       "    <tr>\n",
       "      <th>4</th>\n",
       "      <td>5</td>\n",
       "      <td>Bill Review Manager</td>\n",
       "      <td>US, FL, Fort Worth</td>\n",
       "      <td>NaN</td>\n",
       "      <td>NaN</td>\n",
       "      <td>SpotSource Solutions LLC is a Global Human Cap...</td>\n",
       "      <td>JOB TITLE: Itemization Review ManagerLOCATION:...</td>\n",
       "      <td>QUALIFICATIONS:RN license in the State of Texa...</td>\n",
       "      <td>Full Benefits Offered</td>\n",
       "      <td>0</td>\n",
       "      <td>1</td>\n",
       "      <td>1</td>\n",
       "      <td>Full-time</td>\n",
       "      <td>Mid-Senior level</td>\n",
       "      <td>Bachelor's Degree</td>\n",
       "      <td>Hospital &amp; Health Care</td>\n",
       "      <td>Health Care Provider</td>\n",
       "      <td>0</td>\n",
       "    </tr>\n",
       "  </tbody>\n",
       "</table>\n",
       "</div>"
      ],
      "text/plain": [
       "   job_id                                      title            location  \\\n",
       "0       1                           Marketing Intern    US, NY, New York   \n",
       "1       2  Customer Service - Cloud Video Production      NZ, , Auckland   \n",
       "2       3    Commissioning Machinery Assistant (CMA)       US, IA, Wever   \n",
       "3       4          Account Executive - Washington DC  US, DC, Washington   \n",
       "4       5                        Bill Review Manager  US, FL, Fort Worth   \n",
       "\n",
       "  department salary_range                                    company_profile  \\\n",
       "0  Marketing          NaN  We're Food52, and we've created a groundbreaki...   \n",
       "1    Success          NaN  90 Seconds, the worlds Cloud Video Production ...   \n",
       "2        NaN          NaN  Valor Services provides Workforce Solutions th...   \n",
       "3      Sales          NaN  Our passion for improving quality of life thro...   \n",
       "4        NaN          NaN  SpotSource Solutions LLC is a Global Human Cap...   \n",
       "\n",
       "                                         description  \\\n",
       "0  Food52, a fast-growing, James Beard Award-winn...   \n",
       "1  Organised - Focused - Vibrant - Awesome!Do you...   \n",
       "2  Our client, located in Houston, is actively se...   \n",
       "3  THE COMPANY: ESRI – Environmental Systems Rese...   \n",
       "4  JOB TITLE: Itemization Review ManagerLOCATION:...   \n",
       "\n",
       "                                        requirements  \\\n",
       "0  Experience with content management systems a m...   \n",
       "1  What we expect from you:Your key responsibilit...   \n",
       "2  Implement pre-commissioning and commissioning ...   \n",
       "3  EDUCATION: Bachelor’s or Master’s in GIS, busi...   \n",
       "4  QUALIFICATIONS:RN license in the State of Texa...   \n",
       "\n",
       "                                            benefits  telecommuting  \\\n",
       "0                                                NaN              0   \n",
       "1  What you will get from usThrough being part of...              0   \n",
       "2                                                NaN              0   \n",
       "3  Our culture is anything but corporate—we have ...              0   \n",
       "4                              Full Benefits Offered              0   \n",
       "\n",
       "   has_company_logo  has_questions employment_type required_experience  \\\n",
       "0                 1              0           Other          Internship   \n",
       "1                 1              0       Full-time      Not Applicable   \n",
       "2                 1              0             NaN                 NaN   \n",
       "3                 1              0       Full-time    Mid-Senior level   \n",
       "4                 1              1       Full-time    Mid-Senior level   \n",
       "\n",
       "  required_education                   industry              function  \\\n",
       "0                NaN                        NaN             Marketing   \n",
       "1                NaN  Marketing and Advertising      Customer Service   \n",
       "2                NaN                        NaN                   NaN   \n",
       "3  Bachelor's Degree          Computer Software                 Sales   \n",
       "4  Bachelor's Degree     Hospital & Health Care  Health Care Provider   \n",
       "\n",
       "   fraudulent  \n",
       "0           0  \n",
       "1           0  \n",
       "2           0  \n",
       "3           0  \n",
       "4           0  "
      ]
     },
     "execution_count": 2,
     "metadata": {},
     "output_type": "execute_result"
    }
   ],
   "source": [
    "data = pd.read_csv('fake_job_postings.csv')\n",
    "data.head()"
   ]
  },
  {
   "cell_type": "code",
   "execution_count": 3,
   "id": "edf09e0d",
   "metadata": {},
   "outputs": [
    {
     "data": {
      "text/plain": [
       "(17880, 18)"
      ]
     },
     "execution_count": 3,
     "metadata": {},
     "output_type": "execute_result"
    }
   ],
   "source": [
    "data.shape"
   ]
  },
  {
   "cell_type": "code",
   "execution_count": 4,
   "id": "6f2f85ba",
   "metadata": {},
   "outputs": [
    {
     "name": "stdout",
     "output_type": "stream",
     "text": [
      "<class 'pandas.core.frame.DataFrame'>\n",
      "RangeIndex: 17880 entries, 0 to 17879\n",
      "Data columns (total 18 columns):\n",
      " #   Column               Non-Null Count  Dtype \n",
      "---  ------               --------------  ----- \n",
      " 0   job_id               17880 non-null  int64 \n",
      " 1   title                17880 non-null  object\n",
      " 2   location             17534 non-null  object\n",
      " 3   department           6333 non-null   object\n",
      " 4   salary_range         2868 non-null   object\n",
      " 5   company_profile      14572 non-null  object\n",
      " 6   description          17879 non-null  object\n",
      " 7   requirements         15185 non-null  object\n",
      " 8   benefits             10670 non-null  object\n",
      " 9   telecommuting        17880 non-null  int64 \n",
      " 10  has_company_logo     17880 non-null  int64 \n",
      " 11  has_questions        17880 non-null  int64 \n",
      " 12  employment_type      14409 non-null  object\n",
      " 13  required_experience  10830 non-null  object\n",
      " 14  required_education   9775 non-null   object\n",
      " 15  industry             12977 non-null  object\n",
      " 16  function             11425 non-null  object\n",
      " 17  fraudulent           17880 non-null  int64 \n",
      "dtypes: int64(5), object(13)\n",
      "memory usage: 2.5+ MB\n"
     ]
    }
   ],
   "source": [
    "data.info()"
   ]
  },
  {
   "cell_type": "markdown",
   "id": "9d8c48c6",
   "metadata": {},
   "source": [
    "Checking the features in the dataset. Right now it looks like some features have too many different values, which can result in model overfitting. Hence, the most valuable features to be selected and some feature engeneering to be done."
   ]
  },
  {
   "cell_type": "code",
   "execution_count": 5,
   "id": "f0eb3823",
   "metadata": {},
   "outputs": [
    {
     "data": {
      "text/html": [
       "<div>\n",
       "<style scoped>\n",
       "    .dataframe tbody tr th:only-of-type {\n",
       "        vertical-align: middle;\n",
       "    }\n",
       "\n",
       "    .dataframe tbody tr th {\n",
       "        vertical-align: top;\n",
       "    }\n",
       "\n",
       "    .dataframe thead th {\n",
       "        text-align: right;\n",
       "    }\n",
       "</style>\n",
       "<table border=\"1\" class=\"dataframe\">\n",
       "  <thead>\n",
       "    <tr style=\"text-align: right;\">\n",
       "      <th></th>\n",
       "      <th>job_id</th>\n",
       "      <th>telecommuting</th>\n",
       "      <th>has_company_logo</th>\n",
       "      <th>has_questions</th>\n",
       "      <th>fraudulent</th>\n",
       "    </tr>\n",
       "  </thead>\n",
       "  <tbody>\n",
       "    <tr>\n",
       "      <th>count</th>\n",
       "      <td>17880.0</td>\n",
       "      <td>17880.0</td>\n",
       "      <td>17880.0</td>\n",
       "      <td>17880.0</td>\n",
       "      <td>17880.0</td>\n",
       "    </tr>\n",
       "    <tr>\n",
       "      <th>mean</th>\n",
       "      <td>8940.0</td>\n",
       "      <td>0.0</td>\n",
       "      <td>1.0</td>\n",
       "      <td>0.0</td>\n",
       "      <td>0.0</td>\n",
       "    </tr>\n",
       "    <tr>\n",
       "      <th>std</th>\n",
       "      <td>5162.0</td>\n",
       "      <td>0.0</td>\n",
       "      <td>0.0</td>\n",
       "      <td>0.0</td>\n",
       "      <td>0.0</td>\n",
       "    </tr>\n",
       "    <tr>\n",
       "      <th>min</th>\n",
       "      <td>1.0</td>\n",
       "      <td>0.0</td>\n",
       "      <td>0.0</td>\n",
       "      <td>0.0</td>\n",
       "      <td>0.0</td>\n",
       "    </tr>\n",
       "    <tr>\n",
       "      <th>25%</th>\n",
       "      <td>4471.0</td>\n",
       "      <td>0.0</td>\n",
       "      <td>1.0</td>\n",
       "      <td>0.0</td>\n",
       "      <td>0.0</td>\n",
       "    </tr>\n",
       "    <tr>\n",
       "      <th>50%</th>\n",
       "      <td>8940.0</td>\n",
       "      <td>0.0</td>\n",
       "      <td>1.0</td>\n",
       "      <td>0.0</td>\n",
       "      <td>0.0</td>\n",
       "    </tr>\n",
       "    <tr>\n",
       "      <th>75%</th>\n",
       "      <td>13410.0</td>\n",
       "      <td>0.0</td>\n",
       "      <td>1.0</td>\n",
       "      <td>1.0</td>\n",
       "      <td>0.0</td>\n",
       "    </tr>\n",
       "    <tr>\n",
       "      <th>max</th>\n",
       "      <td>17880.0</td>\n",
       "      <td>1.0</td>\n",
       "      <td>1.0</td>\n",
       "      <td>1.0</td>\n",
       "      <td>1.0</td>\n",
       "    </tr>\n",
       "  </tbody>\n",
       "</table>\n",
       "</div>"
      ],
      "text/plain": [
       "        job_id  telecommuting  has_company_logo  has_questions  fraudulent\n",
       "count  17880.0        17880.0           17880.0        17880.0     17880.0\n",
       "mean    8940.0            0.0               1.0            0.0         0.0\n",
       "std     5162.0            0.0               0.0            0.0         0.0\n",
       "min        1.0            0.0               0.0            0.0         0.0\n",
       "25%     4471.0            0.0               1.0            0.0         0.0\n",
       "50%     8940.0            0.0               1.0            0.0         0.0\n",
       "75%    13410.0            0.0               1.0            1.0         0.0\n",
       "max    17880.0            1.0               1.0            1.0         1.0"
      ]
     },
     "execution_count": 5,
     "metadata": {},
     "output_type": "execute_result"
    }
   ],
   "source": [
    "data.describe().round()"
   ]
  },
  {
   "cell_type": "markdown",
   "id": "bdeef493",
   "metadata": {},
   "source": [
    "Some basic statistics for the numeric variables"
   ]
  },
  {
   "cell_type": "code",
   "execution_count": 6,
   "id": "a74ca231",
   "metadata": {},
   "outputs": [
    {
     "data": {
      "text/html": [
       "<style type=\"text/css\">\n",
       "</style>\n",
       "<table id=\"T_7a0e8\">\n",
       "  <thead>\n",
       "    <tr>\n",
       "      <th class=\"blank level0\" >&nbsp;</th>\n",
       "      <th id=\"T_7a0e8_level0_col0\" class=\"col_heading level0 col0\" >job_id</th>\n",
       "      <th id=\"T_7a0e8_level0_col1\" class=\"col_heading level0 col1\" >telecommuting</th>\n",
       "      <th id=\"T_7a0e8_level0_col2\" class=\"col_heading level0 col2\" >has_company_logo</th>\n",
       "      <th id=\"T_7a0e8_level0_col3\" class=\"col_heading level0 col3\" >has_questions</th>\n",
       "      <th id=\"T_7a0e8_level0_col4\" class=\"col_heading level0 col4\" >fraudulent</th>\n",
       "    </tr>\n",
       "  </thead>\n",
       "  <tbody>\n",
       "    <tr>\n",
       "      <th id=\"T_7a0e8_level0_row0\" class=\"row_heading level0 row0\" >job_id</th>\n",
       "      <td id=\"T_7a0e8_row0_col0\" class=\"data row0 col0\" >1.000000</td>\n",
       "      <td id=\"T_7a0e8_row0_col1\" class=\"data row0 col1\" >-0.004559</td>\n",
       "      <td id=\"T_7a0e8_row0_col2\" class=\"data row0 col2\" >-0.014539</td>\n",
       "      <td id=\"T_7a0e8_row0_col3\" class=\"data row0 col3\" >-0.087025</td>\n",
       "      <td id=\"T_7a0e8_row0_col4\" class=\"data row0 col4\" >0.079872</td>\n",
       "    </tr>\n",
       "    <tr>\n",
       "      <th id=\"T_7a0e8_level0_row1\" class=\"row_heading level0 row1\" >telecommuting</th>\n",
       "      <td id=\"T_7a0e8_row1_col0\" class=\"data row1 col0\" >-0.004559</td>\n",
       "      <td id=\"T_7a0e8_row1_col1\" class=\"data row1 col1\" >1.000000</td>\n",
       "      <td id=\"T_7a0e8_row1_col2\" class=\"data row1 col2\" >-0.019836</td>\n",
       "      <td id=\"T_7a0e8_row1_col3\" class=\"data row1 col3\" >0.020345</td>\n",
       "      <td id=\"T_7a0e8_row1_col4\" class=\"data row1 col4\" >0.034523</td>\n",
       "    </tr>\n",
       "    <tr>\n",
       "      <th id=\"T_7a0e8_level0_row2\" class=\"row_heading level0 row2\" >has_company_logo</th>\n",
       "      <td id=\"T_7a0e8_row2_col0\" class=\"data row2 col0\" >-0.014539</td>\n",
       "      <td id=\"T_7a0e8_row2_col1\" class=\"data row2 col1\" >-0.019836</td>\n",
       "      <td id=\"T_7a0e8_row2_col2\" class=\"data row2 col2\" >1.000000</td>\n",
       "      <td id=\"T_7a0e8_row2_col3\" class=\"data row2 col3\" >0.233932</td>\n",
       "      <td id=\"T_7a0e8_row2_col4\" class=\"data row2 col4\" >-0.261971</td>\n",
       "    </tr>\n",
       "    <tr>\n",
       "      <th id=\"T_7a0e8_level0_row3\" class=\"row_heading level0 row3\" >has_questions</th>\n",
       "      <td id=\"T_7a0e8_row3_col0\" class=\"data row3 col0\" >-0.087025</td>\n",
       "      <td id=\"T_7a0e8_row3_col1\" class=\"data row3 col1\" >0.020345</td>\n",
       "      <td id=\"T_7a0e8_row3_col2\" class=\"data row3 col2\" >0.233932</td>\n",
       "      <td id=\"T_7a0e8_row3_col3\" class=\"data row3 col3\" >1.000000</td>\n",
       "      <td id=\"T_7a0e8_row3_col4\" class=\"data row3 col4\" >-0.091627</td>\n",
       "    </tr>\n",
       "    <tr>\n",
       "      <th id=\"T_7a0e8_level0_row4\" class=\"row_heading level0 row4\" >fraudulent</th>\n",
       "      <td id=\"T_7a0e8_row4_col0\" class=\"data row4 col0\" >0.079872</td>\n",
       "      <td id=\"T_7a0e8_row4_col1\" class=\"data row4 col1\" >0.034523</td>\n",
       "      <td id=\"T_7a0e8_row4_col2\" class=\"data row4 col2\" >-0.261971</td>\n",
       "      <td id=\"T_7a0e8_row4_col3\" class=\"data row4 col3\" >-0.091627</td>\n",
       "      <td id=\"T_7a0e8_row4_col4\" class=\"data row4 col4\" >1.000000</td>\n",
       "    </tr>\n",
       "  </tbody>\n",
       "</table>\n"
      ],
      "text/plain": [
       "<pandas.io.formats.style.Styler at 0x7f123cf13c40>"
      ]
     },
     "execution_count": 6,
     "metadata": {},
     "output_type": "execute_result"
    }
   ],
   "source": [
    "data.corr().style"
   ]
  },
  {
   "cell_type": "markdown",
   "id": "58c73028",
   "metadata": {},
   "source": [
    "Check for correlations between the numeric variables, having a company logo seems to indicate a smaller probability of being a fraudulent ad"
   ]
  },
  {
   "cell_type": "markdown",
   "id": "05af5912",
   "metadata": {},
   "source": [
    "# 2.1 Visualizing Data"
   ]
  },
  {
   "cell_type": "code",
   "execution_count": 7,
   "id": "2f50a7f2",
   "metadata": {},
   "outputs": [
    {
     "data": {
      "image/png": "[encoded data removed]",
      "text/plain": [
       "<Figure size 576x360 with 2 Axes>"
      ]
     },
     "metadata": {
      "needs_background": "light"
     },
     "output_type": "display_data"
    }
   ],
   "source": [
    "# plot fraud vs. non-fraud \n",
    "keys, counts = np.unique(data.fraudulent, return_counts=True)\n",
    "counts_norm = counts/counts.sum()\n",
    "\n",
    "fig = plt.figure(figsize=(8, 5)) #specify figure size\n",
    "gs = gridspec.GridSpec(1, 2, width_ratios=[3,1]) #specify relative size of left and right plot\n",
    "\n",
    "#Absolute values\n",
    "ax0 = plt.subplot(gs[0])\n",
    "ax0 = plt.bar(['no fraud', 'fraud'], counts, color=['#1f77b4','#ff7f0e']) #left bar plot\n",
    "ax0 = plt.title('Fraud vs. no fraud:\\n Absolute distribution') \n",
    "ax0 = plt.ylabel('frequency')\n",
    "ax0 = plt.text(['no fraud'], counts[0]/2, counts[0]) #add text box with count of non-fraudulent cases\n",
    "ax0 = plt.text(['fraud'], counts[1]/2, counts[1]) #add text box with count of fraudulent cases\n",
    "\n",
    "#Normalized values\n",
    "ax1 = plt.subplot(gs[1])\n",
    "ax1 = plt.bar(['Data'], [counts_norm[0]], label='no fraud')\n",
    "ax1 = plt.bar(['Data'], [counts_norm[1]], bottom=counts_norm[0], label='fraud')\n",
    "ax1 = plt.legend(bbox_to_anchor=(1, 1))\n",
    "ax1 = plt.title('Fraud vs. no fraud:\\n Relative distribution')\n",
    "ax1 = plt.ylabel('frequency')\n",
    "ax1 = plt.text(['Data'],counts_norm[0]/2, '{}%'.format((counts_norm[0]*100).round(1)))\n",
    "ax1 = plt.text(['Data'],(counts_norm[1]/2)+counts_norm[0], '{}%'.format((counts_norm[1]*100).round(1)))\n",
    "\n",
    "plt.tight_layout()\n",
    "plt.show()"
   ]
  },
  {
   "cell_type": "markdown",
   "id": "bfe20f30",
   "metadata": {},
   "source": [
    "Showing the distribution of fraudulent ads vs non fraudulent ads"
   ]
  },
  {
   "cell_type": "code",
   "execution_count": 8,
   "id": "7226aeb4",
   "metadata": {},
   "outputs": [
    {
     "data": {
      "text/plain": [
       "<Figure size 720x432 with 0 Axes>"
      ]
     },
     "metadata": {},
     "output_type": "display_data"
    },
    {
     "data": {
      "image/png": "[encoded data removed]",
      "text/plain": [
       "<Figure size 512.25x360 with 1 Axes>"
      ]
     },
     "metadata": {
      "needs_background": "light"
     },
     "output_type": "display_data"
    }
   ],
   "source": [
    "plt.figure(figsize=(10,6))\n",
    "ax = sns.displot(\n",
    "    data=data.isna().melt(value_name=\"null values\"),\n",
    "    y=\"variable\",\n",
    "    hue=\"null values\",\n",
    "    multiple=\"fill\",\n",
    "    aspect=1.25)"
   ]
  },
  {
   "cell_type": "markdown",
   "id": "bd083ed2",
   "metadata": {},
   "source": [
    "Showing the distibution of of null vs non null values for each variable"
   ]
  },
  {
   "cell_type": "code",
   "execution_count": 9,
   "id": "677d5aa2",
   "metadata": {},
   "outputs": [
    {
     "data": {
      "text/plain": [
       "<AxesSubplot:xlabel='count', ylabel='variable'>"
      ]
     },
     "execution_count": 9,
     "metadata": {},
     "output_type": "execute_result"
    },
    {
     "data": {
      "image/png": "[encoded data removed]",
      "text/plain": [
       "<Figure size 432x288 with 1 Axes>"
      ]
     },
     "metadata": {
      "needs_background": "light"
     },
     "output_type": "display_data"
    }
   ],
   "source": [
    "sns.countplot(data=data.isna().melt(value_name=\"null values\"), y=\"variable\", hue=\"null values\")"
   ]
  },
  {
   "cell_type": "markdown",
   "id": "e5e3eed1",
   "metadata": {},
   "source": [
    "Showing the count of null vs non null values"
   ]
  },
  {
   "cell_type": "code",
   "execution_count": 10,
   "id": "a5f54ab2",
   "metadata": {},
   "outputs": [
    {
     "data": {
      "image/png": "[encoded data removed]",
      "text/plain": [
       "<Figure size 864x360 with 2 Axes>"
      ]
     },
     "metadata": {
      "needs_background": "light"
     },
     "output_type": "display_data"
    }
   ],
   "source": [
    "#frauds by incident cause\n",
    "fig = plt.figure(figsize=(12, 5)) #specify figure size\n",
    "\n",
    "#Absolute distribution\n",
    "plt.subplot(1, 2, 1)\n",
    "ax1 = data.groupby(['has_company_logo', 'fraudulent'])['fraudulent'].count().unstack().plot.bar(rot=30, ax=plt.gca(), width=0.7)\n",
    "plt.title('Fraud vs. no fraud by presence of company logo:\\n Absolute distribution') \n",
    "#plot bar labels\n",
    "for p in ax1.patches:\n",
    "    ax1.annotate(str(p.get_height()), (p.get_x() * 1.005, p.get_height() * 0.605))\n",
    "\n",
    "#Relative distribution\n",
    "plt.subplot(1, 2, 2)\n",
    "ax2 = data.groupby(['has_company_logo','fraudulent'])['fraudulent'].size().groupby(level=0).apply(\n",
    "    lambda x: 100 * x / x.sum()).unstack().plot(kind='bar',stacked=True, rot=30, ax=plt.gca())\n",
    "plt.gca().yaxis.set_major_formatter(mtick.PercentFormatter())\n",
    "plt.legend(bbox_to_anchor=(1, 1))\n",
    "plt.title('Fraud vs. no fraud by presence of company logo:\\n Relative distribution') \n",
    "#plot bar labels\n",
    "for p, q in zip(ax2.patches[0:2], ax2.patches[2:4]):\n",
    "    ax2.annotate(str(round(p.get_height(),1)) + '%', (p.get_x(), p.get_height()/2))\n",
    "    ax2.annotate(str(round(q.get_height(),1)) + '%', (q.get_x(), q.get_height()/2+p.get_height()))\n",
    "\n",
    "plt.tight_layout()\n",
    "plt.show()"
   ]
  },
  {
   "cell_type": "markdown",
   "id": "988da8c0",
   "metadata": {},
   "source": [
    "Showing the distribution of fraudulent ads vs non fraudulent ads by the presence of a company logo in the ad"
   ]
  },
  {
   "cell_type": "markdown",
   "id": "158cd22a",
   "metadata": {},
   "source": [
    "### Creating a copy of data before further processing:"
   ]
  },
  {
   "cell_type": "code",
   "execution_count": 11,
   "id": "e4cf7ad7",
   "metadata": {},
   "outputs": [
    {
     "name": "stdout",
     "output_type": "stream",
     "text": [
      "job_id 17880\n",
      "title 11231\n",
      "location 3106\n",
      "department 1338\n",
      "salary_range 875\n",
      "company_profile 1710\n",
      "description 14802\n",
      "requirements 11969\n",
      "benefits 6206\n",
      "telecommuting 2\n",
      "has_company_logo 2\n",
      "has_questions 2\n",
      "employment_type 6\n",
      "required_experience 8\n",
      "required_education 14\n",
      "industry 132\n",
      "function 38\n",
      "fraudulent 2\n"
     ]
    }
   ],
   "source": [
    "for c in data.columns:\n",
    "    print(c, len(data[c].unique()))"
   ]
  },
  {
   "cell_type": "code",
   "execution_count": 12,
   "id": "bacd3754",
   "metadata": {},
   "outputs": [
    {
     "data": {
      "text/plain": [
       "(17880, 18)"
      ]
     },
     "execution_count": 12,
     "metadata": {},
     "output_type": "execute_result"
    }
   ],
   "source": [
    "df = data.copy()\n",
    "df.shape"
   ]
  },
  {
   "cell_type": "markdown",
   "id": "f1f7de32",
   "metadata": {},
   "source": [
    "# 3. Feature engeneering"
   ]
  },
  {
   "cell_type": "markdown",
   "id": "e1935ece",
   "metadata": {},
   "source": [
    "Thoughts on different attributes...\n",
    "\n",
    "- job_id 17880 - irrelevant, to be dropped\n",
    "- title 11231 - almost no null values to transform to binary, to be dropped\n",
    "- location 3106 - needs to be parsed: extract country code, leave top 90% and the rest to be transormed to 'others'\n",
    "- department 1338 - leave top 90% and the rest to be transormed to 'others'\n",
    "- salary_range 875 - very important, convert to numeric\n",
    "- company_profile 1710 - to be transformed to binary, yes/no\n",
    "- description 14802 - out of scope for this model, almost no null values to transform to binary, to be dropped\n",
    "- requirements 11969 - to be transformed to binary, yes/no\n",
    "- benefits 6206 - to be transformed to binary, yes/no\n",
    "- telecommuting 2 - no preprocessing needed\n",
    "- has_company_logo 2 - no preprocessing needed\n",
    "- has_questions 2 - no preprocessing needed\n",
    "- employment_type 6 - no preprocessing needed\n",
    "- required_experience 8 - no preprocessing needed\n",
    "- required_education 14 - no preprocessing needed\n",
    "- industry 132 - leave top 90% and the rest to be transormed to 'others'\n",
    "- function 38 - leave top 90% and the rest to be transormed to 'others'\n",
    "- fraudulent 2 - target variable"
   ]
  },
  {
   "cell_type": "code",
   "execution_count": 13,
   "id": "0a3de62d",
   "metadata": {},
   "outputs": [
    {
     "name": "stdout",
     "output_type": "stream",
     "text": [
      "0    17014\n",
      "1      866\n"
     ]
    }
   ],
   "source": [
    "print(data.fraudulent.value_counts().to_string())"
   ]
  },
  {
   "cell_type": "markdown",
   "id": "05a83d06",
   "metadata": {},
   "source": [
    "## 3.1 Drop unnecessary features"
   ]
  },
  {
   "cell_type": "markdown",
   "id": "33f89fac",
   "metadata": {},
   "source": [
    "Features to be dropped:\n",
    "- irrelevant: job_id\n",
    "- free text, out of scope: company_profile, requirements, description, benefits"
   ]
  },
  {
   "cell_type": "code",
   "execution_count": 14,
   "id": "248f76ec",
   "metadata": {},
   "outputs": [
    {
     "data": {
      "text/html": [
       "<div>\n",
       "<style scoped>\n",
       "    .dataframe tbody tr th:only-of-type {\n",
       "        vertical-align: middle;\n",
       "    }\n",
       "\n",
       "    .dataframe tbody tr th {\n",
       "        vertical-align: top;\n",
       "    }\n",
       "\n",
       "    .dataframe thead th {\n",
       "        text-align: right;\n",
       "    }\n",
       "</style>\n",
       "<table border=\"1\" class=\"dataframe\">\n",
       "  <thead>\n",
       "    <tr style=\"text-align: right;\">\n",
       "      <th></th>\n",
       "      <th>location</th>\n",
       "      <th>department</th>\n",
       "      <th>salary_range</th>\n",
       "      <th>company_profile</th>\n",
       "      <th>requirements</th>\n",
       "      <th>benefits</th>\n",
       "      <th>telecommuting</th>\n",
       "      <th>has_company_logo</th>\n",
       "      <th>has_questions</th>\n",
       "      <th>employment_type</th>\n",
       "      <th>required_experience</th>\n",
       "      <th>required_education</th>\n",
       "      <th>industry</th>\n",
       "      <th>function</th>\n",
       "      <th>fraudulent</th>\n",
       "    </tr>\n",
       "  </thead>\n",
       "  <tbody>\n",
       "    <tr>\n",
       "      <th>0</th>\n",
       "      <td>US, NY, New York</td>\n",
       "      <td>Marketing</td>\n",
       "      <td>NaN</td>\n",
       "      <td>We're Food52, and we've created a groundbreaki...</td>\n",
       "      <td>Experience with content management systems a m...</td>\n",
       "      <td>NaN</td>\n",
       "      <td>0</td>\n",
       "      <td>1</td>\n",
       "      <td>0</td>\n",
       "      <td>Other</td>\n",
       "      <td>Internship</td>\n",
       "      <td>NaN</td>\n",
       "      <td>NaN</td>\n",
       "      <td>Marketing</td>\n",
       "      <td>0</td>\n",
       "    </tr>\n",
       "    <tr>\n",
       "      <th>1</th>\n",
       "      <td>NZ, , Auckland</td>\n",
       "      <td>Success</td>\n",
       "      <td>NaN</td>\n",
       "      <td>90 Seconds, the worlds Cloud Video Production ...</td>\n",
       "      <td>What we expect from you:Your key responsibilit...</td>\n",
       "      <td>What you will get from usThrough being part of...</td>\n",
       "      <td>0</td>\n",
       "      <td>1</td>\n",
       "      <td>0</td>\n",
       "      <td>Full-time</td>\n",
       "      <td>Not Applicable</td>\n",
       "      <td>NaN</td>\n",
       "      <td>Marketing and Advertising</td>\n",
       "      <td>Customer Service</td>\n",
       "      <td>0</td>\n",
       "    </tr>\n",
       "    <tr>\n",
       "      <th>2</th>\n",
       "      <td>US, IA, Wever</td>\n",
       "      <td>NaN</td>\n",
       "      <td>NaN</td>\n",
       "      <td>Valor Services provides Workforce Solutions th...</td>\n",
       "      <td>Implement pre-commissioning and commissioning ...</td>\n",
       "      <td>NaN</td>\n",
       "      <td>0</td>\n",
       "      <td>1</td>\n",
       "      <td>0</td>\n",
       "      <td>NaN</td>\n",
       "      <td>NaN</td>\n",
       "      <td>NaN</td>\n",
       "      <td>NaN</td>\n",
       "      <td>NaN</td>\n",
       "      <td>0</td>\n",
       "    </tr>\n",
       "    <tr>\n",
       "      <th>3</th>\n",
       "      <td>US, DC, Washington</td>\n",
       "      <td>Sales</td>\n",
       "      <td>NaN</td>\n",
       "      <td>Our passion for improving quality of life thro...</td>\n",
       "      <td>EDUCATION: Bachelor’s or Master’s in GIS, busi...</td>\n",
       "      <td>Our culture is anything but corporate—we have ...</td>\n",
       "      <td>0</td>\n",
       "      <td>1</td>\n",
       "      <td>0</td>\n",
       "      <td>Full-time</td>\n",
       "      <td>Mid-Senior level</td>\n",
       "      <td>Bachelor's Degree</td>\n",
       "      <td>Computer Software</td>\n",
       "      <td>Sales</td>\n",
       "      <td>0</td>\n",
       "    </tr>\n",
       "    <tr>\n",
       "      <th>4</th>\n",
       "      <td>US, FL, Fort Worth</td>\n",
       "      <td>NaN</td>\n",
       "      <td>NaN</td>\n",
       "      <td>SpotSource Solutions LLC is a Global Human Cap...</td>\n",
       "      <td>QUALIFICATIONS:RN license in the State of Texa...</td>\n",
       "      <td>Full Benefits Offered</td>\n",
       "      <td>0</td>\n",
       "      <td>1</td>\n",
       "      <td>1</td>\n",
       "      <td>Full-time</td>\n",
       "      <td>Mid-Senior level</td>\n",
       "      <td>Bachelor's Degree</td>\n",
       "      <td>Hospital &amp; Health Care</td>\n",
       "      <td>Health Care Provider</td>\n",
       "      <td>0</td>\n",
       "    </tr>\n",
       "  </tbody>\n",
       "</table>\n",
       "</div>"
      ],
      "text/plain": [
       "             location department salary_range  \\\n",
       "0    US, NY, New York  Marketing          NaN   \n",
       "1      NZ, , Auckland    Success          NaN   \n",
       "2       US, IA, Wever        NaN          NaN   \n",
       "3  US, DC, Washington      Sales          NaN   \n",
       "4  US, FL, Fort Worth        NaN          NaN   \n",
       "\n",
       "                                     company_profile  \\\n",
       "0  We're Food52, and we've created a groundbreaki...   \n",
       "1  90 Seconds, the worlds Cloud Video Production ...   \n",
       "2  Valor Services provides Workforce Solutions th...   \n",
       "3  Our passion for improving quality of life thro...   \n",
       "4  SpotSource Solutions LLC is a Global Human Cap...   \n",
       "\n",
       "                                        requirements  \\\n",
       "0  Experience with content management systems a m...   \n",
       "1  What we expect from you:Your key responsibilit...   \n",
       "2  Implement pre-commissioning and commissioning ...   \n",
       "3  EDUCATION: Bachelor’s or Master’s in GIS, busi...   \n",
       "4  QUALIFICATIONS:RN license in the State of Texa...   \n",
       "\n",
       "                                            benefits  telecommuting  \\\n",
       "0                                                NaN              0   \n",
       "1  What you will get from usThrough being part of...              0   \n",
       "2                                                NaN              0   \n",
       "3  Our culture is anything but corporate—we have ...              0   \n",
       "4                              Full Benefits Offered              0   \n",
       "\n",
       "   has_company_logo  has_questions employment_type required_experience  \\\n",
       "0                 1              0           Other          Internship   \n",
       "1                 1              0       Full-time      Not Applicable   \n",
       "2                 1              0             NaN                 NaN   \n",
       "3                 1              0       Full-time    Mid-Senior level   \n",
       "4                 1              1       Full-time    Mid-Senior level   \n",
       "\n",
       "  required_education                   industry              function  \\\n",
       "0                NaN                        NaN             Marketing   \n",
       "1                NaN  Marketing and Advertising      Customer Service   \n",
       "2                NaN                        NaN                   NaN   \n",
       "3  Bachelor's Degree          Computer Software                 Sales   \n",
       "4  Bachelor's Degree     Hospital & Health Care  Health Care Provider   \n",
       "\n",
       "   fraudulent  \n",
       "0           0  \n",
       "1           0  \n",
       "2           0  \n",
       "3           0  \n",
       "4           0  "
      ]
     },
     "execution_count": 14,
     "metadata": {},
     "output_type": "execute_result"
    }
   ],
   "source": [
    "df.drop(['job_id', 'description', 'title'], axis = 1, inplace = True)\n",
    "df.head()"
   ]
  },
  {
   "cell_type": "code",
   "execution_count": 15,
   "id": "75ee3fbe",
   "metadata": {},
   "outputs": [
    {
     "data": {
      "text/plain": [
       "(17880, 15)"
      ]
     },
     "execution_count": 15,
     "metadata": {},
     "output_type": "execute_result"
    }
   ],
   "source": [
    "df.shape"
   ]
  },
  {
   "cell_type": "markdown",
   "id": "642f8730",
   "metadata": {},
   "source": [
    "## 3.2 Salary feature"
   ]
  },
  {
   "cell_type": "markdown",
   "id": "952ef258",
   "metadata": {},
   "source": [
    "Creating features that would define the low margin of salary and the range."
   ]
  },
  {
   "cell_type": "code",
   "execution_count": 16,
   "id": "ea3c2905",
   "metadata": {},
   "outputs": [],
   "source": [
    "df['salaryRange'] = data.salary_range.apply(lambda x: str(x).split('-'))"
   ]
  },
  {
   "cell_type": "markdown",
   "id": "4414384f",
   "metadata": {},
   "source": [
    "Defining salary margins:"
   ]
  },
  {
   "cell_type": "code",
   "execution_count": 17,
   "id": "fdd0bebb",
   "metadata": {},
   "outputs": [
    {
     "data": {
      "text/html": [
       "<div>\n",
       "<style scoped>\n",
       "    .dataframe tbody tr th:only-of-type {\n",
       "        vertical-align: middle;\n",
       "    }\n",
       "\n",
       "    .dataframe tbody tr th {\n",
       "        vertical-align: top;\n",
       "    }\n",
       "\n",
       "    .dataframe thead th {\n",
       "        text-align: right;\n",
       "    }\n",
       "</style>\n",
       "<table border=\"1\" class=\"dataframe\">\n",
       "  <thead>\n",
       "    <tr style=\"text-align: right;\">\n",
       "      <th></th>\n",
       "      <th>location</th>\n",
       "      <th>department</th>\n",
       "      <th>salary_range</th>\n",
       "      <th>company_profile</th>\n",
       "      <th>requirements</th>\n",
       "      <th>benefits</th>\n",
       "      <th>telecommuting</th>\n",
       "      <th>has_company_logo</th>\n",
       "      <th>has_questions</th>\n",
       "      <th>employment_type</th>\n",
       "      <th>required_experience</th>\n",
       "      <th>required_education</th>\n",
       "      <th>industry</th>\n",
       "      <th>function</th>\n",
       "      <th>fraudulent</th>\n",
       "      <th>salaryRange</th>\n",
       "      <th>salaryLow</th>\n",
       "      <th>salaryHigh</th>\n",
       "    </tr>\n",
       "  </thead>\n",
       "  <tbody>\n",
       "    <tr>\n",
       "      <th>6</th>\n",
       "      <td>DE, BE, Berlin</td>\n",
       "      <td>ANDROIDPIT</td>\n",
       "      <td>20000-28000</td>\n",
       "      <td>Founded in 2009, the Fonpit AG rose with its i...</td>\n",
       "      <td>Your Know-How:                                ...</td>\n",
       "      <td>Your Benefits: Being part of a fast-growing co...</td>\n",
       "      <td>0</td>\n",
       "      <td>1</td>\n",
       "      <td>1</td>\n",
       "      <td>Full-time</td>\n",
       "      <td>Mid-Senior level</td>\n",
       "      <td>Master's Degree</td>\n",
       "      <td>Online Media</td>\n",
       "      <td>Management</td>\n",
       "      <td>0</td>\n",
       "      <td>[20000, 28000]</td>\n",
       "      <td>20000.0</td>\n",
       "      <td>28000.0</td>\n",
       "    </tr>\n",
       "    <tr>\n",
       "      <th>10</th>\n",
       "      <td>US, NJ, Jersey City</td>\n",
       "      <td>NaN</td>\n",
       "      <td>100000-120000</td>\n",
       "      <td>NaN</td>\n",
       "      <td>Position : #URL_86fd830a95a64e2b30ceed829e63fd...</td>\n",
       "      <td>Benefits - FullBonus Eligible - YesInterview T...</td>\n",
       "      <td>0</td>\n",
       "      <td>0</td>\n",
       "      <td>0</td>\n",
       "      <td>Full-time</td>\n",
       "      <td>Mid-Senior level</td>\n",
       "      <td>Bachelor's Degree</td>\n",
       "      <td>Information Technology and Services</td>\n",
       "      <td>Information Technology</td>\n",
       "      <td>0</td>\n",
       "      <td>[100000, 120000]</td>\n",
       "      <td>100000.0</td>\n",
       "      <td>120000.0</td>\n",
       "    </tr>\n",
       "    <tr>\n",
       "      <th>15</th>\n",
       "      <td>SG, 01, Singapore</td>\n",
       "      <td>Sales</td>\n",
       "      <td>120000-150000</td>\n",
       "      <td>Jungle Ventures is the leading Singapore based...</td>\n",
       "      <td>Key Superpowers3-5 years of high-pressure sale...</td>\n",
       "      <td>Basic: SGD 120,000Equity negotiable for a rock...</td>\n",
       "      <td>0</td>\n",
       "      <td>1</td>\n",
       "      <td>1</td>\n",
       "      <td>Full-time</td>\n",
       "      <td>Executive</td>\n",
       "      <td>Bachelor's Degree</td>\n",
       "      <td>Facilities Services</td>\n",
       "      <td>Sales</td>\n",
       "      <td>0</td>\n",
       "      <td>[120000, 150000]</td>\n",
       "      <td>120000.0</td>\n",
       "      <td>150000.0</td>\n",
       "    </tr>\n",
       "    <tr>\n",
       "      <th>23</th>\n",
       "      <td>US, CA, Carlsbad</td>\n",
       "      <td>Businessfriend.com</td>\n",
       "      <td>100000-120000</td>\n",
       "      <td>WDM Group is an innovative, forward thinking d...</td>\n",
       "      <td>Job Requirements:A reputation as a \"go-getter\"...</td>\n",
       "      <td>Businessfriend will offer a competitive six fi...</td>\n",
       "      <td>0</td>\n",
       "      <td>1</td>\n",
       "      <td>0</td>\n",
       "      <td>Full-time</td>\n",
       "      <td>Executive</td>\n",
       "      <td>Unspecified</td>\n",
       "      <td>Internet</td>\n",
       "      <td>Sales</td>\n",
       "      <td>0</td>\n",
       "      <td>[100000, 120000]</td>\n",
       "      <td>100000.0</td>\n",
       "      <td>120000.0</td>\n",
       "    </tr>\n",
       "    <tr>\n",
       "      <th>31</th>\n",
       "      <td>US, KS,</td>\n",
       "      <td>NaN</td>\n",
       "      <td>50000-65000</td>\n",
       "      <td>NaN</td>\n",
       "      <td>Must Have's3+ years of experience with web-bas...</td>\n",
       "      <td>Medical, Dental, Vision, Life, Disability, Pre...</td>\n",
       "      <td>0</td>\n",
       "      <td>1</td>\n",
       "      <td>0</td>\n",
       "      <td>Full-time</td>\n",
       "      <td>Associate</td>\n",
       "      <td>Unspecified</td>\n",
       "      <td>Computer Software</td>\n",
       "      <td>Engineering</td>\n",
       "      <td>0</td>\n",
       "      <td>[50000, 65000]</td>\n",
       "      <td>50000.0</td>\n",
       "      <td>65000.0</td>\n",
       "    </tr>\n",
       "  </tbody>\n",
       "</table>\n",
       "</div>"
      ],
      "text/plain": [
       "               location          department   salary_range  \\\n",
       "6        DE, BE, Berlin          ANDROIDPIT    20000-28000   \n",
       "10  US, NJ, Jersey City                 NaN  100000-120000   \n",
       "15    SG, 01, Singapore               Sales  120000-150000   \n",
       "23     US, CA, Carlsbad  Businessfriend.com  100000-120000   \n",
       "31             US, KS,                  NaN    50000-65000   \n",
       "\n",
       "                                      company_profile  \\\n",
       "6   Founded in 2009, the Fonpit AG rose with its i...   \n",
       "10                                                NaN   \n",
       "15  Jungle Ventures is the leading Singapore based...   \n",
       "23  WDM Group is an innovative, forward thinking d...   \n",
       "31                                                NaN   \n",
       "\n",
       "                                         requirements  \\\n",
       "6   Your Know-How:                                ...   \n",
       "10  Position : #URL_86fd830a95a64e2b30ceed829e63fd...   \n",
       "15  Key Superpowers3-5 years of high-pressure sale...   \n",
       "23  Job Requirements:A reputation as a \"go-getter\"...   \n",
       "31  Must Have's3+ years of experience with web-bas...   \n",
       "\n",
       "                                             benefits  telecommuting  \\\n",
       "6   Your Benefits: Being part of a fast-growing co...              0   \n",
       "10  Benefits - FullBonus Eligible - YesInterview T...              0   \n",
       "15  Basic: SGD 120,000Equity negotiable for a rock...              0   \n",
       "23  Businessfriend will offer a competitive six fi...              0   \n",
       "31  Medical, Dental, Vision, Life, Disability, Pre...              0   \n",
       "\n",
       "    has_company_logo  has_questions employment_type required_experience  \\\n",
       "6                  1              1       Full-time    Mid-Senior level   \n",
       "10                 0              0       Full-time    Mid-Senior level   \n",
       "15                 1              1       Full-time           Executive   \n",
       "23                 1              0       Full-time           Executive   \n",
       "31                 1              0       Full-time           Associate   \n",
       "\n",
       "   required_education                             industry  \\\n",
       "6     Master's Degree                         Online Media   \n",
       "10  Bachelor's Degree  Information Technology and Services   \n",
       "15  Bachelor's Degree                  Facilities Services   \n",
       "23        Unspecified                             Internet   \n",
       "31        Unspecified                    Computer Software   \n",
       "\n",
       "                  function  fraudulent       salaryRange  salaryLow  \\\n",
       "6               Management           0    [20000, 28000]    20000.0   \n",
       "10  Information Technology           0  [100000, 120000]   100000.0   \n",
       "15                   Sales           0  [120000, 150000]   120000.0   \n",
       "23                   Sales           0  [100000, 120000]   100000.0   \n",
       "31             Engineering           0    [50000, 65000]    50000.0   \n",
       "\n",
       "    salaryHigh  \n",
       "6      28000.0  \n",
       "10    120000.0  \n",
       "15    150000.0  \n",
       "23    120000.0  \n",
       "31     65000.0  "
      ]
     },
     "execution_count": 17,
     "metadata": {},
     "output_type": "execute_result"
    }
   ],
   "source": [
    "df['salaryLow'] = df.salaryRange.str[0]\n",
    "df['salaryHigh'] = df.salaryRange.str[1]\n",
    "\n",
    "for c in ['salaryLow', 'salaryHigh']:\n",
    "    df[c] = pd.to_numeric(df[c], errors = 'coerce')\n",
    "    \n",
    "df[df.salaryHigh.isna() == False].head()"
   ]
  },
  {
   "cell_type": "code",
   "execution_count": 18,
   "id": "3ed45fb9",
   "metadata": {},
   "outputs": [
    {
     "name": "stdout",
     "output_type": "stream",
     "text": [
      "17880\n",
      "17880\n"
     ]
    }
   ],
   "source": [
    "print(len(data))\n",
    "print(len(df))\n",
    "#no records are lost"
   ]
  },
  {
   "cell_type": "markdown",
   "id": "05207359",
   "metadata": {},
   "source": [
    "Defining salary range:"
   ]
  },
  {
   "cell_type": "code",
   "execution_count": 19,
   "id": "ffec566f",
   "metadata": {},
   "outputs": [
    {
     "data": {
      "text/html": [
       "<div>\n",
       "<style scoped>\n",
       "    .dataframe tbody tr th:only-of-type {\n",
       "        vertical-align: middle;\n",
       "    }\n",
       "\n",
       "    .dataframe tbody tr th {\n",
       "        vertical-align: top;\n",
       "    }\n",
       "\n",
       "    .dataframe thead th {\n",
       "        text-align: right;\n",
       "    }\n",
       "</style>\n",
       "<table border=\"1\" class=\"dataframe\">\n",
       "  <thead>\n",
       "    <tr style=\"text-align: right;\">\n",
       "      <th></th>\n",
       "      <th>location</th>\n",
       "      <th>department</th>\n",
       "      <th>salary_range</th>\n",
       "      <th>company_profile</th>\n",
       "      <th>requirements</th>\n",
       "      <th>benefits</th>\n",
       "      <th>telecommuting</th>\n",
       "      <th>has_company_logo</th>\n",
       "      <th>has_questions</th>\n",
       "      <th>employment_type</th>\n",
       "      <th>required_experience</th>\n",
       "      <th>required_education</th>\n",
       "      <th>industry</th>\n",
       "      <th>function</th>\n",
       "      <th>fraudulent</th>\n",
       "      <th>salaryRange</th>\n",
       "      <th>salaryLow</th>\n",
       "      <th>salaryHigh</th>\n",
       "      <th>salaryFork</th>\n",
       "    </tr>\n",
       "  </thead>\n",
       "  <tbody>\n",
       "    <tr>\n",
       "      <th>6</th>\n",
       "      <td>DE, BE, Berlin</td>\n",
       "      <td>ANDROIDPIT</td>\n",
       "      <td>20000-28000</td>\n",
       "      <td>Founded in 2009, the Fonpit AG rose with its i...</td>\n",
       "      <td>Your Know-How:                                ...</td>\n",
       "      <td>Your Benefits: Being part of a fast-growing co...</td>\n",
       "      <td>0</td>\n",
       "      <td>1</td>\n",
       "      <td>1</td>\n",
       "      <td>Full-time</td>\n",
       "      <td>Mid-Senior level</td>\n",
       "      <td>Master's Degree</td>\n",
       "      <td>Online Media</td>\n",
       "      <td>Management</td>\n",
       "      <td>0</td>\n",
       "      <td>[20000, 28000]</td>\n",
       "      <td>20000.0</td>\n",
       "      <td>28000.0</td>\n",
       "      <td>8000.0</td>\n",
       "    </tr>\n",
       "    <tr>\n",
       "      <th>10</th>\n",
       "      <td>US, NJ, Jersey City</td>\n",
       "      <td>NaN</td>\n",
       "      <td>100000-120000</td>\n",
       "      <td>NaN</td>\n",
       "      <td>Position : #URL_86fd830a95a64e2b30ceed829e63fd...</td>\n",
       "      <td>Benefits - FullBonus Eligible - YesInterview T...</td>\n",
       "      <td>0</td>\n",
       "      <td>0</td>\n",
       "      <td>0</td>\n",
       "      <td>Full-time</td>\n",
       "      <td>Mid-Senior level</td>\n",
       "      <td>Bachelor's Degree</td>\n",
       "      <td>Information Technology and Services</td>\n",
       "      <td>Information Technology</td>\n",
       "      <td>0</td>\n",
       "      <td>[100000, 120000]</td>\n",
       "      <td>100000.0</td>\n",
       "      <td>120000.0</td>\n",
       "      <td>20000.0</td>\n",
       "    </tr>\n",
       "    <tr>\n",
       "      <th>15</th>\n",
       "      <td>SG, 01, Singapore</td>\n",
       "      <td>Sales</td>\n",
       "      <td>120000-150000</td>\n",
       "      <td>Jungle Ventures is the leading Singapore based...</td>\n",
       "      <td>Key Superpowers3-5 years of high-pressure sale...</td>\n",
       "      <td>Basic: SGD 120,000Equity negotiable for a rock...</td>\n",
       "      <td>0</td>\n",
       "      <td>1</td>\n",
       "      <td>1</td>\n",
       "      <td>Full-time</td>\n",
       "      <td>Executive</td>\n",
       "      <td>Bachelor's Degree</td>\n",
       "      <td>Facilities Services</td>\n",
       "      <td>Sales</td>\n",
       "      <td>0</td>\n",
       "      <td>[120000, 150000]</td>\n",
       "      <td>120000.0</td>\n",
       "      <td>150000.0</td>\n",
       "      <td>30000.0</td>\n",
       "    </tr>\n",
       "    <tr>\n",
       "      <th>23</th>\n",
       "      <td>US, CA, Carlsbad</td>\n",
       "      <td>Businessfriend.com</td>\n",
       "      <td>100000-120000</td>\n",
       "      <td>WDM Group is an innovative, forward thinking d...</td>\n",
       "      <td>Job Requirements:A reputation as a \"go-getter\"...</td>\n",
       "      <td>Businessfriend will offer a competitive six fi...</td>\n",
       "      <td>0</td>\n",
       "      <td>1</td>\n",
       "      <td>0</td>\n",
       "      <td>Full-time</td>\n",
       "      <td>Executive</td>\n",
       "      <td>Unspecified</td>\n",
       "      <td>Internet</td>\n",
       "      <td>Sales</td>\n",
       "      <td>0</td>\n",
       "      <td>[100000, 120000]</td>\n",
       "      <td>100000.0</td>\n",
       "      <td>120000.0</td>\n",
       "      <td>20000.0</td>\n",
       "    </tr>\n",
       "    <tr>\n",
       "      <th>31</th>\n",
       "      <td>US, KS,</td>\n",
       "      <td>NaN</td>\n",
       "      <td>50000-65000</td>\n",
       "      <td>NaN</td>\n",
       "      <td>Must Have's3+ years of experience with web-bas...</td>\n",
       "      <td>Medical, Dental, Vision, Life, Disability, Pre...</td>\n",
       "      <td>0</td>\n",
       "      <td>1</td>\n",
       "      <td>0</td>\n",
       "      <td>Full-time</td>\n",
       "      <td>Associate</td>\n",
       "      <td>Unspecified</td>\n",
       "      <td>Computer Software</td>\n",
       "      <td>Engineering</td>\n",
       "      <td>0</td>\n",
       "      <td>[50000, 65000]</td>\n",
       "      <td>50000.0</td>\n",
       "      <td>65000.0</td>\n",
       "      <td>15000.0</td>\n",
       "    </tr>\n",
       "  </tbody>\n",
       "</table>\n",
       "</div>"
      ],
      "text/plain": [
       "               location          department   salary_range  \\\n",
       "6        DE, BE, Berlin          ANDROIDPIT    20000-28000   \n",
       "10  US, NJ, Jersey City                 NaN  100000-120000   \n",
       "15    SG, 01, Singapore               Sales  120000-150000   \n",
       "23     US, CA, Carlsbad  Businessfriend.com  100000-120000   \n",
       "31             US, KS,                  NaN    50000-65000   \n",
       "\n",
       "                                      company_profile  \\\n",
       "6   Founded in 2009, the Fonpit AG rose with its i...   \n",
       "10                                                NaN   \n",
       "15  Jungle Ventures is the leading Singapore based...   \n",
       "23  WDM Group is an innovative, forward thinking d...   \n",
       "31                                                NaN   \n",
       "\n",
       "                                         requirements  \\\n",
       "6   Your Know-How:                                ...   \n",
       "10  Position : #URL_86fd830a95a64e2b30ceed829e63fd...   \n",
       "15  Key Superpowers3-5 years of high-pressure sale...   \n",
       "23  Job Requirements:A reputation as a \"go-getter\"...   \n",
       "31  Must Have's3+ years of experience with web-bas...   \n",
       "\n",
       "                                             benefits  telecommuting  \\\n",
       "6   Your Benefits: Being part of a fast-growing co...              0   \n",
       "10  Benefits - FullBonus Eligible - YesInterview T...              0   \n",
       "15  Basic: SGD 120,000Equity negotiable for a rock...              0   \n",
       "23  Businessfriend will offer a competitive six fi...              0   \n",
       "31  Medical, Dental, Vision, Life, Disability, Pre...              0   \n",
       "\n",
       "    has_company_logo  has_questions employment_type required_experience  \\\n",
       "6                  1              1       Full-time    Mid-Senior level   \n",
       "10                 0              0       Full-time    Mid-Senior level   \n",
       "15                 1              1       Full-time           Executive   \n",
       "23                 1              0       Full-time           Executive   \n",
       "31                 1              0       Full-time           Associate   \n",
       "\n",
       "   required_education                             industry  \\\n",
       "6     Master's Degree                         Online Media   \n",
       "10  Bachelor's Degree  Information Technology and Services   \n",
       "15  Bachelor's Degree                  Facilities Services   \n",
       "23        Unspecified                             Internet   \n",
       "31        Unspecified                    Computer Software   \n",
       "\n",
       "                  function  fraudulent       salaryRange  salaryLow  \\\n",
       "6               Management           0    [20000, 28000]    20000.0   \n",
       "10  Information Technology           0  [100000, 120000]   100000.0   \n",
       "15                   Sales           0  [120000, 150000]   120000.0   \n",
       "23                   Sales           0  [100000, 120000]   100000.0   \n",
       "31             Engineering           0    [50000, 65000]    50000.0   \n",
       "\n",
       "    salaryHigh  salaryFork  \n",
       "6      28000.0      8000.0  \n",
       "10    120000.0     20000.0  \n",
       "15    150000.0     30000.0  \n",
       "23    120000.0     20000.0  \n",
       "31     65000.0     15000.0  "
      ]
     },
     "execution_count": 19,
     "metadata": {},
     "output_type": "execute_result"
    }
   ],
   "source": [
    "df['salaryFork'] = df.salaryHigh - df.salaryLow\n",
    "df[df.salaryHigh.isna() == False].head()"
   ]
  },
  {
   "cell_type": "markdown",
   "id": "c750a6ee",
   "metadata": {},
   "source": [
    "Removing unnecessary original feature:"
   ]
  },
  {
   "cell_type": "code",
   "execution_count": 20,
   "id": "8def7856",
   "metadata": {},
   "outputs": [
    {
     "data": {
      "text/html": [
       "<div>\n",
       "<style scoped>\n",
       "    .dataframe tbody tr th:only-of-type {\n",
       "        vertical-align: middle;\n",
       "    }\n",
       "\n",
       "    .dataframe tbody tr th {\n",
       "        vertical-align: top;\n",
       "    }\n",
       "\n",
       "    .dataframe thead th {\n",
       "        text-align: right;\n",
       "    }\n",
       "</style>\n",
       "<table border=\"1\" class=\"dataframe\">\n",
       "  <thead>\n",
       "    <tr style=\"text-align: right;\">\n",
       "      <th></th>\n",
       "      <th>location</th>\n",
       "      <th>department</th>\n",
       "      <th>salary_range</th>\n",
       "      <th>company_profile</th>\n",
       "      <th>requirements</th>\n",
       "      <th>benefits</th>\n",
       "      <th>telecommuting</th>\n",
       "      <th>has_company_logo</th>\n",
       "      <th>has_questions</th>\n",
       "      <th>employment_type</th>\n",
       "      <th>required_experience</th>\n",
       "      <th>required_education</th>\n",
       "      <th>industry</th>\n",
       "      <th>function</th>\n",
       "      <th>fraudulent</th>\n",
       "      <th>salaryLow</th>\n",
       "      <th>salaryHigh</th>\n",
       "      <th>salaryFork</th>\n",
       "    </tr>\n",
       "  </thead>\n",
       "  <tbody>\n",
       "    <tr>\n",
       "      <th>0</th>\n",
       "      <td>US, NY, New York</td>\n",
       "      <td>Marketing</td>\n",
       "      <td>NaN</td>\n",
       "      <td>We're Food52, and we've created a groundbreaki...</td>\n",
       "      <td>Experience with content management systems a m...</td>\n",
       "      <td>NaN</td>\n",
       "      <td>0</td>\n",
       "      <td>1</td>\n",
       "      <td>0</td>\n",
       "      <td>Other</td>\n",
       "      <td>Internship</td>\n",
       "      <td>NaN</td>\n",
       "      <td>NaN</td>\n",
       "      <td>Marketing</td>\n",
       "      <td>0</td>\n",
       "      <td>NaN</td>\n",
       "      <td>NaN</td>\n",
       "      <td>NaN</td>\n",
       "    </tr>\n",
       "    <tr>\n",
       "      <th>1</th>\n",
       "      <td>NZ, , Auckland</td>\n",
       "      <td>Success</td>\n",
       "      <td>NaN</td>\n",
       "      <td>90 Seconds, the worlds Cloud Video Production ...</td>\n",
       "      <td>What we expect from you:Your key responsibilit...</td>\n",
       "      <td>What you will get from usThrough being part of...</td>\n",
       "      <td>0</td>\n",
       "      <td>1</td>\n",
       "      <td>0</td>\n",
       "      <td>Full-time</td>\n",
       "      <td>Not Applicable</td>\n",
       "      <td>NaN</td>\n",
       "      <td>Marketing and Advertising</td>\n",
       "      <td>Customer Service</td>\n",
       "      <td>0</td>\n",
       "      <td>NaN</td>\n",
       "      <td>NaN</td>\n",
       "      <td>NaN</td>\n",
       "    </tr>\n",
       "    <tr>\n",
       "      <th>2</th>\n",
       "      <td>US, IA, Wever</td>\n",
       "      <td>NaN</td>\n",
       "      <td>NaN</td>\n",
       "      <td>Valor Services provides Workforce Solutions th...</td>\n",
       "      <td>Implement pre-commissioning and commissioning ...</td>\n",
       "      <td>NaN</td>\n",
       "      <td>0</td>\n",
       "      <td>1</td>\n",
       "      <td>0</td>\n",
       "      <td>NaN</td>\n",
       "      <td>NaN</td>\n",
       "      <td>NaN</td>\n",
       "      <td>NaN</td>\n",
       "      <td>NaN</td>\n",
       "      <td>0</td>\n",
       "      <td>NaN</td>\n",
       "      <td>NaN</td>\n",
       "      <td>NaN</td>\n",
       "    </tr>\n",
       "    <tr>\n",
       "      <th>3</th>\n",
       "      <td>US, DC, Washington</td>\n",
       "      <td>Sales</td>\n",
       "      <td>NaN</td>\n",
       "      <td>Our passion for improving quality of life thro...</td>\n",
       "      <td>EDUCATION: Bachelor’s or Master’s in GIS, busi...</td>\n",
       "      <td>Our culture is anything but corporate—we have ...</td>\n",
       "      <td>0</td>\n",
       "      <td>1</td>\n",
       "      <td>0</td>\n",
       "      <td>Full-time</td>\n",
       "      <td>Mid-Senior level</td>\n",
       "      <td>Bachelor's Degree</td>\n",
       "      <td>Computer Software</td>\n",
       "      <td>Sales</td>\n",
       "      <td>0</td>\n",
       "      <td>NaN</td>\n",
       "      <td>NaN</td>\n",
       "      <td>NaN</td>\n",
       "    </tr>\n",
       "    <tr>\n",
       "      <th>4</th>\n",
       "      <td>US, FL, Fort Worth</td>\n",
       "      <td>NaN</td>\n",
       "      <td>NaN</td>\n",
       "      <td>SpotSource Solutions LLC is a Global Human Cap...</td>\n",
       "      <td>QUALIFICATIONS:RN license in the State of Texa...</td>\n",
       "      <td>Full Benefits Offered</td>\n",
       "      <td>0</td>\n",
       "      <td>1</td>\n",
       "      <td>1</td>\n",
       "      <td>Full-time</td>\n",
       "      <td>Mid-Senior level</td>\n",
       "      <td>Bachelor's Degree</td>\n",
       "      <td>Hospital &amp; Health Care</td>\n",
       "      <td>Health Care Provider</td>\n",
       "      <td>0</td>\n",
       "      <td>NaN</td>\n",
       "      <td>NaN</td>\n",
       "      <td>NaN</td>\n",
       "    </tr>\n",
       "  </tbody>\n",
       "</table>\n",
       "</div>"
      ],
      "text/plain": [
       "             location department salary_range  \\\n",
       "0    US, NY, New York  Marketing          NaN   \n",
       "1      NZ, , Auckland    Success          NaN   \n",
       "2       US, IA, Wever        NaN          NaN   \n",
       "3  US, DC, Washington      Sales          NaN   \n",
       "4  US, FL, Fort Worth        NaN          NaN   \n",
       "\n",
       "                                     company_profile  \\\n",
       "0  We're Food52, and we've created a groundbreaki...   \n",
       "1  90 Seconds, the worlds Cloud Video Production ...   \n",
       "2  Valor Services provides Workforce Solutions th...   \n",
       "3  Our passion for improving quality of life thro...   \n",
       "4  SpotSource Solutions LLC is a Global Human Cap...   \n",
       "\n",
       "                                        requirements  \\\n",
       "0  Experience with content management systems a m...   \n",
       "1  What we expect from you:Your key responsibilit...   \n",
       "2  Implement pre-commissioning and commissioning ...   \n",
       "3  EDUCATION: Bachelor’s or Master’s in GIS, busi...   \n",
       "4  QUALIFICATIONS:RN license in the State of Texa...   \n",
       "\n",
       "                                            benefits  telecommuting  \\\n",
       "0                                                NaN              0   \n",
       "1  What you will get from usThrough being part of...              0   \n",
       "2                                                NaN              0   \n",
       "3  Our culture is anything but corporate—we have ...              0   \n",
       "4                              Full Benefits Offered              0   \n",
       "\n",
       "   has_company_logo  has_questions employment_type required_experience  \\\n",
       "0                 1              0           Other          Internship   \n",
       "1                 1              0       Full-time      Not Applicable   \n",
       "2                 1              0             NaN                 NaN   \n",
       "3                 1              0       Full-time    Mid-Senior level   \n",
       "4                 1              1       Full-time    Mid-Senior level   \n",
       "\n",
       "  required_education                   industry              function  \\\n",
       "0                NaN                        NaN             Marketing   \n",
       "1                NaN  Marketing and Advertising      Customer Service   \n",
       "2                NaN                        NaN                   NaN   \n",
       "3  Bachelor's Degree          Computer Software                 Sales   \n",
       "4  Bachelor's Degree     Hospital & Health Care  Health Care Provider   \n",
       "\n",
       "   fraudulent  salaryLow  salaryHigh  salaryFork  \n",
       "0           0        NaN         NaN         NaN  \n",
       "1           0        NaN         NaN         NaN  \n",
       "2           0        NaN         NaN         NaN  \n",
       "3           0        NaN         NaN         NaN  \n",
       "4           0        NaN         NaN         NaN  "
      ]
     },
     "execution_count": 20,
     "metadata": {},
     "output_type": "execute_result"
    }
   ],
   "source": [
    "df.drop(['salaryRange'], axis = 1, inplace = True)\n",
    "df.head()"
   ]
  },
  {
   "cell_type": "markdown",
   "id": "4a780a7d",
   "metadata": {},
   "source": [
    "Visualising to see patterns (if any):\n",
    "Looks like smaller salaries are associated with more fraud"
   ]
  },
  {
   "cell_type": "code",
   "execution_count": 21,
   "id": "f37080d4",
   "metadata": {},
   "outputs": [
    {
     "data": {
      "text/plain": [
       "Text(0, 0.5, 'Salary fork')"
      ]
     },
     "execution_count": 21,
     "metadata": {},
     "output_type": "execute_result"
    },
    {
     "data": {
      "image/png": "[encoded data removed]",
      "text/plain": [
       "<Figure size 432x288 with 1 Axes>"
      ]
     },
     "metadata": {
      "needs_background": "light"
     },
     "output_type": "display_data"
    }
   ],
   "source": [
    "plt.figure()\n",
    "plt.plot(df[df.fraudulent == 1]['salaryLow'], df[df.fraudulent == 1]['salaryFork'], 'r.')\n",
    "plt.plot(df[df.fraudulent == 0]['salaryLow'], df[df.fraudulent == 0]['salaryFork'], 'k.')\n",
    "plt.xlim([0, 20000])\n",
    "plt.ylim([0, 10000])\n",
    "plt.xlabel('Low range of salary')\n",
    "plt.ylabel('Salary fork')"
   ]
  },
  {
   "cell_type": "markdown",
   "id": "52ad46a0",
   "metadata": {},
   "source": [
    "## 3.3 COUNTRY CODE FEATURE CREATION"
   ]
  },
  {
   "cell_type": "code",
   "execution_count": 22,
   "id": "a9838f0e",
   "metadata": {},
   "outputs": [
    {
     "data": {
      "text/html": [
       "<div>\n",
       "<style scoped>\n",
       "    .dataframe tbody tr th:only-of-type {\n",
       "        vertical-align: middle;\n",
       "    }\n",
       "\n",
       "    .dataframe tbody tr th {\n",
       "        vertical-align: top;\n",
       "    }\n",
       "\n",
       "    .dataframe thead th {\n",
       "        text-align: right;\n",
       "    }\n",
       "</style>\n",
       "<table border=\"1\" class=\"dataframe\">\n",
       "  <thead>\n",
       "    <tr style=\"text-align: right;\">\n",
       "      <th></th>\n",
       "      <th>location</th>\n",
       "      <th>department</th>\n",
       "      <th>salary_range</th>\n",
       "      <th>company_profile</th>\n",
       "      <th>requirements</th>\n",
       "      <th>benefits</th>\n",
       "      <th>telecommuting</th>\n",
       "      <th>has_company_logo</th>\n",
       "      <th>has_questions</th>\n",
       "      <th>employment_type</th>\n",
       "      <th>required_experience</th>\n",
       "      <th>required_education</th>\n",
       "      <th>industry</th>\n",
       "      <th>function</th>\n",
       "      <th>fraudulent</th>\n",
       "      <th>salaryLow</th>\n",
       "      <th>salaryHigh</th>\n",
       "      <th>salaryFork</th>\n",
       "      <th>countryCode</th>\n",
       "    </tr>\n",
       "  </thead>\n",
       "  <tbody>\n",
       "    <tr>\n",
       "      <th>0</th>\n",
       "      <td>US, NY, New York</td>\n",
       "      <td>Marketing</td>\n",
       "      <td>NaN</td>\n",
       "      <td>We're Food52, and we've created a groundbreaki...</td>\n",
       "      <td>Experience with content management systems a m...</td>\n",
       "      <td>NaN</td>\n",
       "      <td>0</td>\n",
       "      <td>1</td>\n",
       "      <td>0</td>\n",
       "      <td>Other</td>\n",
       "      <td>Internship</td>\n",
       "      <td>NaN</td>\n",
       "      <td>NaN</td>\n",
       "      <td>Marketing</td>\n",
       "      <td>0</td>\n",
       "      <td>NaN</td>\n",
       "      <td>NaN</td>\n",
       "      <td>NaN</td>\n",
       "      <td>US</td>\n",
       "    </tr>\n",
       "    <tr>\n",
       "      <th>1</th>\n",
       "      <td>NZ, , Auckland</td>\n",
       "      <td>Success</td>\n",
       "      <td>NaN</td>\n",
       "      <td>90 Seconds, the worlds Cloud Video Production ...</td>\n",
       "      <td>What we expect from you:Your key responsibilit...</td>\n",
       "      <td>What you will get from usThrough being part of...</td>\n",
       "      <td>0</td>\n",
       "      <td>1</td>\n",
       "      <td>0</td>\n",
       "      <td>Full-time</td>\n",
       "      <td>Not Applicable</td>\n",
       "      <td>NaN</td>\n",
       "      <td>Marketing and Advertising</td>\n",
       "      <td>Customer Service</td>\n",
       "      <td>0</td>\n",
       "      <td>NaN</td>\n",
       "      <td>NaN</td>\n",
       "      <td>NaN</td>\n",
       "      <td>NZ</td>\n",
       "    </tr>\n",
       "    <tr>\n",
       "      <th>2</th>\n",
       "      <td>US, IA, Wever</td>\n",
       "      <td>NaN</td>\n",
       "      <td>NaN</td>\n",
       "      <td>Valor Services provides Workforce Solutions th...</td>\n",
       "      <td>Implement pre-commissioning and commissioning ...</td>\n",
       "      <td>NaN</td>\n",
       "      <td>0</td>\n",
       "      <td>1</td>\n",
       "      <td>0</td>\n",
       "      <td>NaN</td>\n",
       "      <td>NaN</td>\n",
       "      <td>NaN</td>\n",
       "      <td>NaN</td>\n",
       "      <td>NaN</td>\n",
       "      <td>0</td>\n",
       "      <td>NaN</td>\n",
       "      <td>NaN</td>\n",
       "      <td>NaN</td>\n",
       "      <td>US</td>\n",
       "    </tr>\n",
       "    <tr>\n",
       "      <th>3</th>\n",
       "      <td>US, DC, Washington</td>\n",
       "      <td>Sales</td>\n",
       "      <td>NaN</td>\n",
       "      <td>Our passion for improving quality of life thro...</td>\n",
       "      <td>EDUCATION: Bachelor’s or Master’s in GIS, busi...</td>\n",
       "      <td>Our culture is anything but corporate—we have ...</td>\n",
       "      <td>0</td>\n",
       "      <td>1</td>\n",
       "      <td>0</td>\n",
       "      <td>Full-time</td>\n",
       "      <td>Mid-Senior level</td>\n",
       "      <td>Bachelor's Degree</td>\n",
       "      <td>Computer Software</td>\n",
       "      <td>Sales</td>\n",
       "      <td>0</td>\n",
       "      <td>NaN</td>\n",
       "      <td>NaN</td>\n",
       "      <td>NaN</td>\n",
       "      <td>US</td>\n",
       "    </tr>\n",
       "    <tr>\n",
       "      <th>4</th>\n",
       "      <td>US, FL, Fort Worth</td>\n",
       "      <td>NaN</td>\n",
       "      <td>NaN</td>\n",
       "      <td>SpotSource Solutions LLC is a Global Human Cap...</td>\n",
       "      <td>QUALIFICATIONS:RN license in the State of Texa...</td>\n",
       "      <td>Full Benefits Offered</td>\n",
       "      <td>0</td>\n",
       "      <td>1</td>\n",
       "      <td>1</td>\n",
       "      <td>Full-time</td>\n",
       "      <td>Mid-Senior level</td>\n",
       "      <td>Bachelor's Degree</td>\n",
       "      <td>Hospital &amp; Health Care</td>\n",
       "      <td>Health Care Provider</td>\n",
       "      <td>0</td>\n",
       "      <td>NaN</td>\n",
       "      <td>NaN</td>\n",
       "      <td>NaN</td>\n",
       "      <td>US</td>\n",
       "    </tr>\n",
       "  </tbody>\n",
       "</table>\n",
       "</div>"
      ],
      "text/plain": [
       "             location department salary_range  \\\n",
       "0    US, NY, New York  Marketing          NaN   \n",
       "1      NZ, , Auckland    Success          NaN   \n",
       "2       US, IA, Wever        NaN          NaN   \n",
       "3  US, DC, Washington      Sales          NaN   \n",
       "4  US, FL, Fort Worth        NaN          NaN   \n",
       "\n",
       "                                     company_profile  \\\n",
       "0  We're Food52, and we've created a groundbreaki...   \n",
       "1  90 Seconds, the worlds Cloud Video Production ...   \n",
       "2  Valor Services provides Workforce Solutions th...   \n",
       "3  Our passion for improving quality of life thro...   \n",
       "4  SpotSource Solutions LLC is a Global Human Cap...   \n",
       "\n",
       "                                        requirements  \\\n",
       "0  Experience with content management systems a m...   \n",
       "1  What we expect from you:Your key responsibilit...   \n",
       "2  Implement pre-commissioning and commissioning ...   \n",
       "3  EDUCATION: Bachelor’s or Master’s in GIS, busi...   \n",
       "4  QUALIFICATIONS:RN license in the State of Texa...   \n",
       "\n",
       "                                            benefits  telecommuting  \\\n",
       "0                                                NaN              0   \n",
       "1  What you will get from usThrough being part of...              0   \n",
       "2                                                NaN              0   \n",
       "3  Our culture is anything but corporate—we have ...              0   \n",
       "4                              Full Benefits Offered              0   \n",
       "\n",
       "   has_company_logo  has_questions employment_type required_experience  \\\n",
       "0                 1              0           Other          Internship   \n",
       "1                 1              0       Full-time      Not Applicable   \n",
       "2                 1              0             NaN                 NaN   \n",
       "3                 1              0       Full-time    Mid-Senior level   \n",
       "4                 1              1       Full-time    Mid-Senior level   \n",
       "\n",
       "  required_education                   industry              function  \\\n",
       "0                NaN                        NaN             Marketing   \n",
       "1                NaN  Marketing and Advertising      Customer Service   \n",
       "2                NaN                        NaN                   NaN   \n",
       "3  Bachelor's Degree          Computer Software                 Sales   \n",
       "4  Bachelor's Degree     Hospital & Health Care  Health Care Provider   \n",
       "\n",
       "   fraudulent  salaryLow  salaryHigh  salaryFork countryCode  \n",
       "0           0        NaN         NaN         NaN          US  \n",
       "1           0        NaN         NaN         NaN          NZ  \n",
       "2           0        NaN         NaN         NaN          US  \n",
       "3           0        NaN         NaN         NaN          US  \n",
       "4           0        NaN         NaN         NaN          US  "
      ]
     },
     "execution_count": 22,
     "metadata": {},
     "output_type": "execute_result"
    }
   ],
   "source": [
    "df['countryCode'] = df['location'].apply(lambda x: str(x).split(',')[0])\n",
    "df.head()"
   ]
  },
  {
   "cell_type": "code",
   "execution_count": 23,
   "id": "eff08581",
   "metadata": {},
   "outputs": [
    {
     "name": "stdout",
     "output_type": "stream",
     "text": [
      "US     10656\n",
      "GB      2384\n",
      "GR       940\n",
      "CA       457\n",
      "DE       383\n",
      "nan      346\n",
      "NZ       333\n",
      "IN       276\n",
      "AU       214\n",
      "PH       132\n",
      "NL       127\n",
      "BE       117\n",
      "IE       114\n",
      "SG        80\n",
      "HK        77\n",
      "PL        76\n",
      "EE        72\n",
      "IL        72\n",
      "FR        70\n",
      "ES        66\n",
      "AE        54\n",
      "EG        52\n",
      "SE        49\n",
      "RO        46\n",
      "DK        42\n",
      "ZA        40\n",
      "BR        36\n",
      "IT        31\n",
      "FI        29\n",
      "PK        27\n",
      "LT        23\n",
      "MY        21\n",
      "QA        21\n",
      "JP        20\n",
      "RU        20\n",
      "MX        18\n",
      "PT        18\n",
      "BG        17\n",
      "TR        17\n",
      "CN        15\n",
      "CH        15\n",
      "SA        15\n",
      "MU        14\n",
      "HU        14\n",
      "AT        14\n",
      "ID        13\n",
      "MT        13\n",
      "UA        13\n",
      "CY        11\n",
      "IQ        10\n",
      "KR        10\n",
      "TH        10\n",
      "NG        10\n",
      "AR         9\n",
      "LU         9\n",
      "BH         9\n",
      "BY         9\n",
      "PA         9\n",
      "NO         8\n",
      "RS         7\n",
      "KE         7\n",
      "CZ         6\n",
      "LV         6\n",
      "VN         4\n",
      "NI         4\n",
      "TT         4\n",
      "TW         4\n",
      "VI         3\n",
      "KW         2\n",
      "TN         2\n",
      "AM         2\n",
      "IS         2\n",
      "LK         2\n",
      "SK         2\n",
      "CL         2\n",
      "ZM         2\n",
      "BD         2\n",
      "HR         1\n",
      "JM         1\n",
      "KZ         1\n",
      "SV         1\n",
      "CM         1\n",
      "PE         1\n",
      "AL         1\n",
      "GH         1\n",
      "MA         1\n",
      "SI         1\n",
      "CO         1\n",
      "SD         1\n",
      "UG         1\n",
      "KH         1\n"
     ]
    }
   ],
   "source": [
    "print(df.countryCode.value_counts().to_string())"
   ]
  },
  {
   "cell_type": "markdown",
   "id": "591880bf",
   "metadata": {},
   "source": [
    "Leaving countries that account for 90% of records, the rest to be transorrmed to 'others'"
   ]
  },
  {
   "cell_type": "code",
   "execution_count": 24,
   "id": "3252d57a",
   "metadata": {},
   "outputs": [
    {
     "name": "stdout",
     "output_type": "stream",
     "text": [
      "['US', 'GB', 'GR', 'CA', 'DE', 'nan', 'NZ', 'IN', 'AU']\n"
     ]
    }
   ],
   "source": [
    "countryCodesToKeep = list(df.countryCode.value_counts()[df.countryCode.value_counts().cumsum()/len(df) < 0.90].index)\n",
    "print(countryCodesToKeep)"
   ]
  },
  {
   "cell_type": "code",
   "execution_count": 25,
   "id": "66f59c3b",
   "metadata": {},
   "outputs": [
    {
     "name": "stderr",
     "output_type": "stream",
     "text": [
      "/tmp/ipykernel_157/3652505234.py:1: SettingWithCopyWarning: \n",
      "A value is trying to be set on a copy of a slice from a DataFrame\n",
      "\n",
      "See the caveats in the documentation: https://pandas.pydata.org/pandas-docs/stable/user_guide/indexing.html#returning-a-view-versus-a-copy\n",
      "  df['countryCode'][df.countryCode.isin(countryCodesToKeep) == False] = 'Other'\n"
     ]
    },
    {
     "data": {
      "text/plain": [
       "US       10656\n",
       "GB        2384\n",
       "Other     1891\n",
       "GR         940\n",
       "CA         457\n",
       "DE         383\n",
       "nan        346\n",
       "NZ         333\n",
       "IN         276\n",
       "AU         214\n",
       "Name: countryCode, dtype: int64"
      ]
     },
     "execution_count": 25,
     "metadata": {},
     "output_type": "execute_result"
    }
   ],
   "source": [
    "df['countryCode'][df.countryCode.isin(countryCodesToKeep) == False] = 'Other'\n",
    "df.countryCode.value_counts()"
   ]
  },
  {
   "cell_type": "code",
   "execution_count": 26,
   "id": "445366c9",
   "metadata": {},
   "outputs": [
    {
     "data": {
      "text/html": [
       "<div>\n",
       "<style scoped>\n",
       "    .dataframe tbody tr th:only-of-type {\n",
       "        vertical-align: middle;\n",
       "    }\n",
       "\n",
       "    .dataframe tbody tr th {\n",
       "        vertical-align: top;\n",
       "    }\n",
       "\n",
       "    .dataframe thead th {\n",
       "        text-align: right;\n",
       "    }\n",
       "</style>\n",
       "<table border=\"1\" class=\"dataframe\">\n",
       "  <thead>\n",
       "    <tr style=\"text-align: right;\">\n",
       "      <th></th>\n",
       "      <th>department</th>\n",
       "      <th>salary_range</th>\n",
       "      <th>company_profile</th>\n",
       "      <th>requirements</th>\n",
       "      <th>benefits</th>\n",
       "      <th>telecommuting</th>\n",
       "      <th>has_company_logo</th>\n",
       "      <th>has_questions</th>\n",
       "      <th>employment_type</th>\n",
       "      <th>required_experience</th>\n",
       "      <th>required_education</th>\n",
       "      <th>industry</th>\n",
       "      <th>function</th>\n",
       "      <th>fraudulent</th>\n",
       "      <th>salaryLow</th>\n",
       "      <th>salaryHigh</th>\n",
       "      <th>salaryFork</th>\n",
       "      <th>countryCode</th>\n",
       "    </tr>\n",
       "  </thead>\n",
       "  <tbody>\n",
       "    <tr>\n",
       "      <th>0</th>\n",
       "      <td>Marketing</td>\n",
       "      <td>NaN</td>\n",
       "      <td>We're Food52, and we've created a groundbreaki...</td>\n",
       "      <td>Experience with content management systems a m...</td>\n",
       "      <td>NaN</td>\n",
       "      <td>0</td>\n",
       "      <td>1</td>\n",
       "      <td>0</td>\n",
       "      <td>Other</td>\n",
       "      <td>Internship</td>\n",
       "      <td>NaN</td>\n",
       "      <td>NaN</td>\n",
       "      <td>Marketing</td>\n",
       "      <td>0</td>\n",
       "      <td>NaN</td>\n",
       "      <td>NaN</td>\n",
       "      <td>NaN</td>\n",
       "      <td>US</td>\n",
       "    </tr>\n",
       "    <tr>\n",
       "      <th>1</th>\n",
       "      <td>Success</td>\n",
       "      <td>NaN</td>\n",
       "      <td>90 Seconds, the worlds Cloud Video Production ...</td>\n",
       "      <td>What we expect from you:Your key responsibilit...</td>\n",
       "      <td>What you will get from usThrough being part of...</td>\n",
       "      <td>0</td>\n",
       "      <td>1</td>\n",
       "      <td>0</td>\n",
       "      <td>Full-time</td>\n",
       "      <td>Not Applicable</td>\n",
       "      <td>NaN</td>\n",
       "      <td>Marketing and Advertising</td>\n",
       "      <td>Customer Service</td>\n",
       "      <td>0</td>\n",
       "      <td>NaN</td>\n",
       "      <td>NaN</td>\n",
       "      <td>NaN</td>\n",
       "      <td>NZ</td>\n",
       "    </tr>\n",
       "    <tr>\n",
       "      <th>2</th>\n",
       "      <td>NaN</td>\n",
       "      <td>NaN</td>\n",
       "      <td>Valor Services provides Workforce Solutions th...</td>\n",
       "      <td>Implement pre-commissioning and commissioning ...</td>\n",
       "      <td>NaN</td>\n",
       "      <td>0</td>\n",
       "      <td>1</td>\n",
       "      <td>0</td>\n",
       "      <td>NaN</td>\n",
       "      <td>NaN</td>\n",
       "      <td>NaN</td>\n",
       "      <td>NaN</td>\n",
       "      <td>NaN</td>\n",
       "      <td>0</td>\n",
       "      <td>NaN</td>\n",
       "      <td>NaN</td>\n",
       "      <td>NaN</td>\n",
       "      <td>US</td>\n",
       "    </tr>\n",
       "    <tr>\n",
       "      <th>3</th>\n",
       "      <td>Sales</td>\n",
       "      <td>NaN</td>\n",
       "      <td>Our passion for improving quality of life thro...</td>\n",
       "      <td>EDUCATION: Bachelor’s or Master’s in GIS, busi...</td>\n",
       "      <td>Our culture is anything but corporate—we have ...</td>\n",
       "      <td>0</td>\n",
       "      <td>1</td>\n",
       "      <td>0</td>\n",
       "      <td>Full-time</td>\n",
       "      <td>Mid-Senior level</td>\n",
       "      <td>Bachelor's Degree</td>\n",
       "      <td>Computer Software</td>\n",
       "      <td>Sales</td>\n",
       "      <td>0</td>\n",
       "      <td>NaN</td>\n",
       "      <td>NaN</td>\n",
       "      <td>NaN</td>\n",
       "      <td>US</td>\n",
       "    </tr>\n",
       "    <tr>\n",
       "      <th>4</th>\n",
       "      <td>NaN</td>\n",
       "      <td>NaN</td>\n",
       "      <td>SpotSource Solutions LLC is a Global Human Cap...</td>\n",
       "      <td>QUALIFICATIONS:RN license in the State of Texa...</td>\n",
       "      <td>Full Benefits Offered</td>\n",
       "      <td>0</td>\n",
       "      <td>1</td>\n",
       "      <td>1</td>\n",
       "      <td>Full-time</td>\n",
       "      <td>Mid-Senior level</td>\n",
       "      <td>Bachelor's Degree</td>\n",
       "      <td>Hospital &amp; Health Care</td>\n",
       "      <td>Health Care Provider</td>\n",
       "      <td>0</td>\n",
       "      <td>NaN</td>\n",
       "      <td>NaN</td>\n",
       "      <td>NaN</td>\n",
       "      <td>US</td>\n",
       "    </tr>\n",
       "  </tbody>\n",
       "</table>\n",
       "</div>"
      ],
      "text/plain": [
       "  department salary_range                                    company_profile  \\\n",
       "0  Marketing          NaN  We're Food52, and we've created a groundbreaki...   \n",
       "1    Success          NaN  90 Seconds, the worlds Cloud Video Production ...   \n",
       "2        NaN          NaN  Valor Services provides Workforce Solutions th...   \n",
       "3      Sales          NaN  Our passion for improving quality of life thro...   \n",
       "4        NaN          NaN  SpotSource Solutions LLC is a Global Human Cap...   \n",
       "\n",
       "                                        requirements  \\\n",
       "0  Experience with content management systems a m...   \n",
       "1  What we expect from you:Your key responsibilit...   \n",
       "2  Implement pre-commissioning and commissioning ...   \n",
       "3  EDUCATION: Bachelor’s or Master’s in GIS, busi...   \n",
       "4  QUALIFICATIONS:RN license in the State of Texa...   \n",
       "\n",
       "                                            benefits  telecommuting  \\\n",
       "0                                                NaN              0   \n",
       "1  What you will get from usThrough being part of...              0   \n",
       "2                                                NaN              0   \n",
       "3  Our culture is anything but corporate—we have ...              0   \n",
       "4                              Full Benefits Offered              0   \n",
       "\n",
       "   has_company_logo  has_questions employment_type required_experience  \\\n",
       "0                 1              0           Other          Internship   \n",
       "1                 1              0       Full-time      Not Applicable   \n",
       "2                 1              0             NaN                 NaN   \n",
       "3                 1              0       Full-time    Mid-Senior level   \n",
       "4                 1              1       Full-time    Mid-Senior level   \n",
       "\n",
       "  required_education                   industry              function  \\\n",
       "0                NaN                        NaN             Marketing   \n",
       "1                NaN  Marketing and Advertising      Customer Service   \n",
       "2                NaN                        NaN                   NaN   \n",
       "3  Bachelor's Degree          Computer Software                 Sales   \n",
       "4  Bachelor's Degree     Hospital & Health Care  Health Care Provider   \n",
       "\n",
       "   fraudulent  salaryLow  salaryHigh  salaryFork countryCode  \n",
       "0           0        NaN         NaN         NaN          US  \n",
       "1           0        NaN         NaN         NaN          NZ  \n",
       "2           0        NaN         NaN         NaN          US  \n",
       "3           0        NaN         NaN         NaN          US  \n",
       "4           0        NaN         NaN         NaN          US  "
      ]
     },
     "execution_count": 26,
     "metadata": {},
     "output_type": "execute_result"
    }
   ],
   "source": [
    "#dropping original feature\n",
    "df.drop(['location'], axis = 1, inplace = True)\n",
    "df.head()"
   ]
  },
  {
   "cell_type": "markdown",
   "id": "f92fcb50",
   "metadata": {},
   "source": [
    "# 3.4 Department, industry and function"
   ]
  },
  {
   "cell_type": "markdown",
   "id": "d3d10a7e",
   "metadata": {},
   "source": [
    "DEPARTMENT - leaving top 5 and 'others' to avoid the mess"
   ]
  },
  {
   "cell_type": "code",
   "execution_count": 27,
   "id": "0b01e261",
   "metadata": {},
   "outputs": [
    {
     "name": "stdout",
     "output_type": "stream",
     "text": [
      "['Sales', 'Engineering', 'Marketing', 'Operations', 'IT']\n"
     ]
    }
   ],
   "source": [
    "departmentsToKeep = list(df.department.value_counts().index)[:5]\n",
    "print(departmentsToKeep)"
   ]
  },
  {
   "cell_type": "code",
   "execution_count": 28,
   "id": "32ac4e1b",
   "metadata": {},
   "outputs": [
    {
     "name": "stderr",
     "output_type": "stream",
     "text": [
      "/tmp/ipykernel_157/130107557.py:1: SettingWithCopyWarning: \n",
      "A value is trying to be set on a copy of a slice from a DataFrame\n",
      "\n",
      "See the caveats in the documentation: https://pandas.pydata.org/pandas-docs/stable/user_guide/indexing.html#returning-a-view-versus-a-copy\n",
      "  df['department'][df.department.isin(departmentsToKeep) == False] = 'Other'\n"
     ]
    },
    {
     "data": {
      "text/plain": [
       "Other          15946\n",
       "Sales            551\n",
       "Engineering      487\n",
       "Marketing        401\n",
       "Operations       270\n",
       "IT               225\n",
       "Name: department, dtype: int64"
      ]
     },
     "execution_count": 28,
     "metadata": {},
     "output_type": "execute_result"
    }
   ],
   "source": [
    "df['department'][df.department.isin(departmentsToKeep) == False] = 'Other'\n",
    "df.department.value_counts()"
   ]
  },
  {
   "cell_type": "markdown",
   "id": "77b9c5fa",
   "metadata": {},
   "source": [
    "INDUSTRY"
   ]
  },
  {
   "cell_type": "code",
   "execution_count": 29,
   "id": "8cb18431",
   "metadata": {},
   "outputs": [
    {
     "name": "stdout",
     "output_type": "stream",
     "text": [
      "['Information Technology and Services', 'Computer Software', 'Internet', 'Marketing and Advertising', 'Education Management', 'Financial Services', 'Hospital & Health Care']\n"
     ]
    }
   ],
   "source": [
    "industriesToKeep = list(df.industry.value_counts()[df.industry.value_counts().cumsum()/len(df) < 0.40].index)\n",
    "print(industriesToKeep)"
   ]
  },
  {
   "cell_type": "code",
   "execution_count": 30,
   "id": "ab140eb5",
   "metadata": {},
   "outputs": [
    {
     "name": "stderr",
     "output_type": "stream",
     "text": [
      "/tmp/ipykernel_157/4271722255.py:1: SettingWithCopyWarning: \n",
      "A value is trying to be set on a copy of a slice from a DataFrame\n",
      "\n",
      "See the caveats in the documentation: https://pandas.pydata.org/pandas-docs/stable/user_guide/indexing.html#returning-a-view-versus-a-copy\n",
      "  df['industry'][df.industry.isin(industriesToKeep) == False] = 'Other'\n"
     ]
    },
    {
     "data": {
      "text/plain": [
       "Other                                  10782\n",
       "Information Technology and Services     1734\n",
       "Computer Software                       1376\n",
       "Internet                                1062\n",
       "Marketing and Advertising                828\n",
       "Education Management                     822\n",
       "Financial Services                       779\n",
       "Hospital & Health Care                   497\n",
       "Name: industry, dtype: int64"
      ]
     },
     "execution_count": 30,
     "metadata": {},
     "output_type": "execute_result"
    }
   ],
   "source": [
    "df['industry'][df.industry.isin(industriesToKeep) == False] = 'Other'\n",
    "df.industry.value_counts()"
   ]
  },
  {
   "cell_type": "markdown",
   "id": "6afce395",
   "metadata": {},
   "source": [
    "FUNCTION"
   ]
  },
  {
   "cell_type": "code",
   "execution_count": 31,
   "id": "b4c68814",
   "metadata": {},
   "outputs": [
    {
     "name": "stdout",
     "output_type": "stream",
     "text": [
      "['Information Technology', 'Sales', 'Engineering', 'Customer Service', 'Marketing']\n"
     ]
    }
   ],
   "source": [
    "functionsToKeep = list(df.function.value_counts()[df.function.value_counts().cumsum()/len(df) < 0.40].index)\n",
    "print(functionsToKeep)"
   ]
  },
  {
   "cell_type": "code",
   "execution_count": 32,
   "id": "86c8ac4d",
   "metadata": {},
   "outputs": [
    {
     "name": "stderr",
     "output_type": "stream",
     "text": [
      "/tmp/ipykernel_157/1911206930.py:1: SettingWithCopyWarning: \n",
      "A value is trying to be set on a copy of a slice from a DataFrame\n",
      "\n",
      "See the caveats in the documentation: https://pandas.pydata.org/pandas-docs/stable/user_guide/indexing.html#returning-a-view-versus-a-copy\n",
      "  df['function'][df.function.isin(functionsToKeep) == False] = 'Other'\n"
     ]
    },
    {
     "data": {
      "text/plain": [
       "Other                     11256\n",
       "Information Technology     1749\n",
       "Sales                      1468\n",
       "Engineering                1348\n",
       "Customer Service           1229\n",
       "Marketing                   830\n",
       "Name: function, dtype: int64"
      ]
     },
     "execution_count": 32,
     "metadata": {},
     "output_type": "execute_result"
    }
   ],
   "source": [
    "df['function'][df.function.isin(functionsToKeep) == False] = 'Other'\n",
    "df.function.value_counts()"
   ]
  },
  {
   "cell_type": "markdown",
   "id": "91a321e1",
   "metadata": {},
   "source": [
    "Checking fraudulent distribution with pivot tables"
   ]
  },
  {
   "cell_type": "code",
   "execution_count": 33,
   "id": "ddf74ad2",
   "metadata": {},
   "outputs": [
    {
     "name": "stdout",
     "output_type": "stream",
     "text": [
      "             fraudulent\n",
      "department             \n",
      "Engineering    0.094456\n",
      "Other          0.050483\n",
      "Sales          0.021779\n",
      "Marketing      0.004988\n",
      "IT             0.004444\n",
      "Operations     0.000000\n",
      "\n",
      "\n",
      "                                     fraudulent\n",
      "industry                                       \n",
      "Hospital & Health Care                 0.102616\n",
      "Other                                  0.064738\n",
      "Marketing and Advertising              0.054348\n",
      "Financial Services                     0.044929\n",
      "Information Technology and Services    0.018454\n",
      "Computer Software                      0.003634\n",
      "Education Management                   0.000000\n",
      "Internet                               0.000000\n",
      "\n",
      "\n",
      "                        fraudulent\n",
      "function                          \n",
      "Engineering               0.083828\n",
      "Customer Service          0.054516\n",
      "Other                     0.053571\n",
      "Sales                     0.027929\n",
      "Information Technology    0.018296\n",
      "Marketing                 0.012048\n",
      "\n",
      "\n"
     ]
    }
   ],
   "source": [
    "for c in ['department', 'industry', 'function']:\n",
    "    \n",
    "    try:\n",
    "        print(df.pivot_table(values = 'fraudulent', index = c, aggfunc = np.mean).sort_values(by = 'fraudulent', ascending = False))\n",
    "        print('\\n')\n",
    "    except:\n",
    "        pass"
   ]
  },
  {
   "cell_type": "markdown",
   "id": "a825e2e0",
   "metadata": {},
   "source": [
    "## 3.5 Binary feature creation: company_profile, requirements, benefits"
   ]
  },
  {
   "cell_type": "markdown",
   "id": "aff6a2b1",
   "metadata": {},
   "source": [
    "Create features hasCompany_profile, hasrequirements etc"
   ]
  },
  {
   "cell_type": "code",
   "execution_count": 34,
   "id": "c3066d41",
   "metadata": {},
   "outputs": [
    {
     "name": "stderr",
     "output_type": "stream",
     "text": [
      "/tmp/ipykernel_157/3349764736.py:2: SettingWithCopyWarning: \n",
      "A value is trying to be set on a copy of a slice from a DataFrame\n",
      "\n",
      "See the caveats in the documentation: https://pandas.pydata.org/pandas-docs/stable/user_guide/indexing.html#returning-a-view-versus-a-copy\n",
      "  df['hasCompanyProfile'][df.company_profile.isna() == False] = 1\n"
     ]
    },
    {
     "data": {
      "text/plain": [
       "1    14572\n",
       "0     3308\n",
       "Name: hasCompanyProfile, dtype: int64"
      ]
     },
     "execution_count": 34,
     "metadata": {},
     "output_type": "execute_result"
    }
   ],
   "source": [
    "df['hasCompanyProfile'] = 0\n",
    "df['hasCompanyProfile'][df.company_profile.isna() == False] = 1\n",
    "df.hasCompanyProfile.value_counts()"
   ]
  },
  {
   "cell_type": "code",
   "execution_count": 35,
   "id": "c4d0bc83",
   "metadata": {},
   "outputs": [
    {
     "name": "stderr",
     "output_type": "stream",
     "text": [
      "/tmp/ipykernel_157/3143652926.py:2: SettingWithCopyWarning: \n",
      "A value is trying to be set on a copy of a slice from a DataFrame\n",
      "\n",
      "See the caveats in the documentation: https://pandas.pydata.org/pandas-docs/stable/user_guide/indexing.html#returning-a-view-versus-a-copy\n",
      "  df['hasRequirements'][df.requirements.isna() == False] = 1\n"
     ]
    },
    {
     "data": {
      "text/plain": [
       "1    15185\n",
       "0     2695\n",
       "Name: hasRequirements, dtype: int64"
      ]
     },
     "execution_count": 35,
     "metadata": {},
     "output_type": "execute_result"
    }
   ],
   "source": [
    "df['hasRequirements'] = 0\n",
    "df['hasRequirements'][df.requirements.isna() == False] = 1\n",
    "df.hasRequirements.value_counts()"
   ]
  },
  {
   "cell_type": "code",
   "execution_count": 36,
   "id": "a0d61233",
   "metadata": {},
   "outputs": [
    {
     "name": "stderr",
     "output_type": "stream",
     "text": [
      "/tmp/ipykernel_157/1969415511.py:2: SettingWithCopyWarning: \n",
      "A value is trying to be set on a copy of a slice from a DataFrame\n",
      "\n",
      "See the caveats in the documentation: https://pandas.pydata.org/pandas-docs/stable/user_guide/indexing.html#returning-a-view-versus-a-copy\n",
      "  df['hasBenefits'][df.benefits.isna() == False] = 1\n"
     ]
    },
    {
     "data": {
      "text/plain": [
       "1    10670\n",
       "0     7210\n",
       "Name: hasBenefits, dtype: int64"
      ]
     },
     "execution_count": 36,
     "metadata": {},
     "output_type": "execute_result"
    }
   ],
   "source": [
    "df['hasBenefits'] = 0\n",
    "df['hasBenefits'][df.benefits.isna() == False] = 1\n",
    "df.hasBenefits.value_counts()"
   ]
  },
  {
   "cell_type": "code",
   "execution_count": 37,
   "id": "d6045251",
   "metadata": {
    "scrolled": true
   },
   "outputs": [
    {
     "data": {
      "text/html": [
       "<div>\n",
       "<style scoped>\n",
       "    .dataframe tbody tr th:only-of-type {\n",
       "        vertical-align: middle;\n",
       "    }\n",
       "\n",
       "    .dataframe tbody tr th {\n",
       "        vertical-align: top;\n",
       "    }\n",
       "\n",
       "    .dataframe thead th {\n",
       "        text-align: right;\n",
       "    }\n",
       "</style>\n",
       "<table border=\"1\" class=\"dataframe\">\n",
       "  <thead>\n",
       "    <tr style=\"text-align: right;\">\n",
       "      <th></th>\n",
       "      <th>department</th>\n",
       "      <th>telecommuting</th>\n",
       "      <th>has_company_logo</th>\n",
       "      <th>has_questions</th>\n",
       "      <th>employment_type</th>\n",
       "      <th>required_experience</th>\n",
       "      <th>required_education</th>\n",
       "      <th>industry</th>\n",
       "      <th>function</th>\n",
       "      <th>fraudulent</th>\n",
       "      <th>salaryLow</th>\n",
       "      <th>salaryHigh</th>\n",
       "      <th>salaryFork</th>\n",
       "      <th>countryCode</th>\n",
       "      <th>hasCompanyProfile</th>\n",
       "      <th>hasRequirements</th>\n",
       "      <th>hasBenefits</th>\n",
       "    </tr>\n",
       "  </thead>\n",
       "  <tbody>\n",
       "    <tr>\n",
       "      <th>0</th>\n",
       "      <td>Marketing</td>\n",
       "      <td>0</td>\n",
       "      <td>1</td>\n",
       "      <td>0</td>\n",
       "      <td>Other</td>\n",
       "      <td>Internship</td>\n",
       "      <td>NaN</td>\n",
       "      <td>Other</td>\n",
       "      <td>Marketing</td>\n",
       "      <td>0</td>\n",
       "      <td>NaN</td>\n",
       "      <td>NaN</td>\n",
       "      <td>NaN</td>\n",
       "      <td>US</td>\n",
       "      <td>1</td>\n",
       "      <td>1</td>\n",
       "      <td>0</td>\n",
       "    </tr>\n",
       "    <tr>\n",
       "      <th>1</th>\n",
       "      <td>Other</td>\n",
       "      <td>0</td>\n",
       "      <td>1</td>\n",
       "      <td>0</td>\n",
       "      <td>Full-time</td>\n",
       "      <td>Not Applicable</td>\n",
       "      <td>NaN</td>\n",
       "      <td>Marketing and Advertising</td>\n",
       "      <td>Customer Service</td>\n",
       "      <td>0</td>\n",
       "      <td>NaN</td>\n",
       "      <td>NaN</td>\n",
       "      <td>NaN</td>\n",
       "      <td>NZ</td>\n",
       "      <td>1</td>\n",
       "      <td>1</td>\n",
       "      <td>1</td>\n",
       "    </tr>\n",
       "    <tr>\n",
       "      <th>2</th>\n",
       "      <td>Other</td>\n",
       "      <td>0</td>\n",
       "      <td>1</td>\n",
       "      <td>0</td>\n",
       "      <td>NaN</td>\n",
       "      <td>NaN</td>\n",
       "      <td>NaN</td>\n",
       "      <td>Other</td>\n",
       "      <td>Other</td>\n",
       "      <td>0</td>\n",
       "      <td>NaN</td>\n",
       "      <td>NaN</td>\n",
       "      <td>NaN</td>\n",
       "      <td>US</td>\n",
       "      <td>1</td>\n",
       "      <td>1</td>\n",
       "      <td>0</td>\n",
       "    </tr>\n",
       "    <tr>\n",
       "      <th>3</th>\n",
       "      <td>Sales</td>\n",
       "      <td>0</td>\n",
       "      <td>1</td>\n",
       "      <td>0</td>\n",
       "      <td>Full-time</td>\n",
       "      <td>Mid-Senior level</td>\n",
       "      <td>Bachelor's Degree</td>\n",
       "      <td>Computer Software</td>\n",
       "      <td>Sales</td>\n",
       "      <td>0</td>\n",
       "      <td>NaN</td>\n",
       "      <td>NaN</td>\n",
       "      <td>NaN</td>\n",
       "      <td>US</td>\n",
       "      <td>1</td>\n",
       "      <td>1</td>\n",
       "      <td>1</td>\n",
       "    </tr>\n",
       "    <tr>\n",
       "      <th>4</th>\n",
       "      <td>Other</td>\n",
       "      <td>0</td>\n",
       "      <td>1</td>\n",
       "      <td>1</td>\n",
       "      <td>Full-time</td>\n",
       "      <td>Mid-Senior level</td>\n",
       "      <td>Bachelor's Degree</td>\n",
       "      <td>Hospital &amp; Health Care</td>\n",
       "      <td>Other</td>\n",
       "      <td>0</td>\n",
       "      <td>NaN</td>\n",
       "      <td>NaN</td>\n",
       "      <td>NaN</td>\n",
       "      <td>US</td>\n",
       "      <td>1</td>\n",
       "      <td>1</td>\n",
       "      <td>1</td>\n",
       "    </tr>\n",
       "  </tbody>\n",
       "</table>\n",
       "</div>"
      ],
      "text/plain": [
       "  department  telecommuting  has_company_logo  has_questions employment_type  \\\n",
       "0  Marketing              0                 1              0           Other   \n",
       "1      Other              0                 1              0       Full-time   \n",
       "2      Other              0                 1              0             NaN   \n",
       "3      Sales              0                 1              0       Full-time   \n",
       "4      Other              0                 1              1       Full-time   \n",
       "\n",
       "  required_experience required_education                   industry  \\\n",
       "0          Internship                NaN                      Other   \n",
       "1      Not Applicable                NaN  Marketing and Advertising   \n",
       "2                 NaN                NaN                      Other   \n",
       "3    Mid-Senior level  Bachelor's Degree          Computer Software   \n",
       "4    Mid-Senior level  Bachelor's Degree     Hospital & Health Care   \n",
       "\n",
       "           function  fraudulent  salaryLow  salaryHigh  salaryFork  \\\n",
       "0         Marketing           0        NaN         NaN         NaN   \n",
       "1  Customer Service           0        NaN         NaN         NaN   \n",
       "2             Other           0        NaN         NaN         NaN   \n",
       "3             Sales           0        NaN         NaN         NaN   \n",
       "4             Other           0        NaN         NaN         NaN   \n",
       "\n",
       "  countryCode  hasCompanyProfile  hasRequirements  hasBenefits  \n",
       "0          US                  1                1            0  \n",
       "1          NZ                  1                1            1  \n",
       "2          US                  1                1            0  \n",
       "3          US                  1                1            1  \n",
       "4          US                  1                1            1  "
      ]
     },
     "execution_count": 37,
     "metadata": {},
     "output_type": "execute_result"
    }
   ],
   "source": [
    "df.drop(['company_profile', 'requirements', 'benefits', 'salary_range'], axis = 1, inplace = True)\n",
    "df.head()"
   ]
  },
  {
   "cell_type": "markdown",
   "id": "4d4530d8",
   "metadata": {},
   "source": [
    "# 4. Get_Dummies"
   ]
  },
  {
   "cell_type": "code",
   "execution_count": 38,
   "id": "7cc26315",
   "metadata": {},
   "outputs": [
    {
     "data": {
      "text/html": [
       "<style type=\"text/css\">\n",
       "</style>\n",
       "<table id=\"T_19aaa\">\n",
       "  <thead>\n",
       "    <tr>\n",
       "      <th class=\"blank level0\" >&nbsp;</th>\n",
       "      <th id=\"T_19aaa_level0_col0\" class=\"col_heading level0 col0\" >telecommuting</th>\n",
       "      <th id=\"T_19aaa_level0_col1\" class=\"col_heading level0 col1\" >has_company_logo</th>\n",
       "      <th id=\"T_19aaa_level0_col2\" class=\"col_heading level0 col2\" >has_questions</th>\n",
       "      <th id=\"T_19aaa_level0_col3\" class=\"col_heading level0 col3\" >fraudulent</th>\n",
       "      <th id=\"T_19aaa_level0_col4\" class=\"col_heading level0 col4\" >salaryLow</th>\n",
       "      <th id=\"T_19aaa_level0_col5\" class=\"col_heading level0 col5\" >salaryHigh</th>\n",
       "      <th id=\"T_19aaa_level0_col6\" class=\"col_heading level0 col6\" >salaryFork</th>\n",
       "      <th id=\"T_19aaa_level0_col7\" class=\"col_heading level0 col7\" >hasCompanyProfile</th>\n",
       "      <th id=\"T_19aaa_level0_col8\" class=\"col_heading level0 col8\" >hasRequirements</th>\n",
       "      <th id=\"T_19aaa_level0_col9\" class=\"col_heading level0 col9\" >hasBenefits</th>\n",
       "      <th id=\"T_19aaa_level0_col10\" class=\"col_heading level0 col10\" >department_Engineering</th>\n",
       "      <th id=\"T_19aaa_level0_col11\" class=\"col_heading level0 col11\" >department_IT</th>\n",
       "      <th id=\"T_19aaa_level0_col12\" class=\"col_heading level0 col12\" >department_Marketing</th>\n",
       "      <th id=\"T_19aaa_level0_col13\" class=\"col_heading level0 col13\" >department_Operations</th>\n",
       "      <th id=\"T_19aaa_level0_col14\" class=\"col_heading level0 col14\" >department_Other</th>\n",
       "      <th id=\"T_19aaa_level0_col15\" class=\"col_heading level0 col15\" >department_Sales</th>\n",
       "      <th id=\"T_19aaa_level0_col16\" class=\"col_heading level0 col16\" >employment_type_Contract</th>\n",
       "      <th id=\"T_19aaa_level0_col17\" class=\"col_heading level0 col17\" >employment_type_Full-time</th>\n",
       "      <th id=\"T_19aaa_level0_col18\" class=\"col_heading level0 col18\" >employment_type_Other</th>\n",
       "      <th id=\"T_19aaa_level0_col19\" class=\"col_heading level0 col19\" >employment_type_Part-time</th>\n",
       "      <th id=\"T_19aaa_level0_col20\" class=\"col_heading level0 col20\" >employment_type_Temporary</th>\n",
       "      <th id=\"T_19aaa_level0_col21\" class=\"col_heading level0 col21\" >required_experience_Associate</th>\n",
       "      <th id=\"T_19aaa_level0_col22\" class=\"col_heading level0 col22\" >required_experience_Director</th>\n",
       "      <th id=\"T_19aaa_level0_col23\" class=\"col_heading level0 col23\" >required_experience_Entry level</th>\n",
       "      <th id=\"T_19aaa_level0_col24\" class=\"col_heading level0 col24\" >required_experience_Executive</th>\n",
       "      <th id=\"T_19aaa_level0_col25\" class=\"col_heading level0 col25\" >required_experience_Internship</th>\n",
       "      <th id=\"T_19aaa_level0_col26\" class=\"col_heading level0 col26\" >required_experience_Mid-Senior level</th>\n",
       "      <th id=\"T_19aaa_level0_col27\" class=\"col_heading level0 col27\" >required_experience_Not Applicable</th>\n",
       "      <th id=\"T_19aaa_level0_col28\" class=\"col_heading level0 col28\" >required_education_Associate Degree</th>\n",
       "      <th id=\"T_19aaa_level0_col29\" class=\"col_heading level0 col29\" >required_education_Bachelor's Degree</th>\n",
       "      <th id=\"T_19aaa_level0_col30\" class=\"col_heading level0 col30\" >required_education_Certification</th>\n",
       "      <th id=\"T_19aaa_level0_col31\" class=\"col_heading level0 col31\" >required_education_Doctorate</th>\n",
       "      <th id=\"T_19aaa_level0_col32\" class=\"col_heading level0 col32\" >required_education_High School or equivalent</th>\n",
       "      <th id=\"T_19aaa_level0_col33\" class=\"col_heading level0 col33\" >required_education_Master's Degree</th>\n",
       "      <th id=\"T_19aaa_level0_col34\" class=\"col_heading level0 col34\" >required_education_Professional</th>\n",
       "      <th id=\"T_19aaa_level0_col35\" class=\"col_heading level0 col35\" >required_education_Some College Coursework Completed</th>\n",
       "      <th id=\"T_19aaa_level0_col36\" class=\"col_heading level0 col36\" >required_education_Some High School Coursework</th>\n",
       "      <th id=\"T_19aaa_level0_col37\" class=\"col_heading level0 col37\" >required_education_Unspecified</th>\n",
       "      <th id=\"T_19aaa_level0_col38\" class=\"col_heading level0 col38\" >required_education_Vocational</th>\n",
       "      <th id=\"T_19aaa_level0_col39\" class=\"col_heading level0 col39\" >required_education_Vocational - Degree</th>\n",
       "      <th id=\"T_19aaa_level0_col40\" class=\"col_heading level0 col40\" >required_education_Vocational - HS Diploma</th>\n",
       "      <th id=\"T_19aaa_level0_col41\" class=\"col_heading level0 col41\" >industry_Computer Software</th>\n",
       "      <th id=\"T_19aaa_level0_col42\" class=\"col_heading level0 col42\" >industry_Education Management</th>\n",
       "      <th id=\"T_19aaa_level0_col43\" class=\"col_heading level0 col43\" >industry_Financial Services</th>\n",
       "      <th id=\"T_19aaa_level0_col44\" class=\"col_heading level0 col44\" >industry_Hospital & Health Care</th>\n",
       "      <th id=\"T_19aaa_level0_col45\" class=\"col_heading level0 col45\" >industry_Information Technology and Services</th>\n",
       "      <th id=\"T_19aaa_level0_col46\" class=\"col_heading level0 col46\" >industry_Internet</th>\n",
       "      <th id=\"T_19aaa_level0_col47\" class=\"col_heading level0 col47\" >industry_Marketing and Advertising</th>\n",
       "      <th id=\"T_19aaa_level0_col48\" class=\"col_heading level0 col48\" >industry_Other</th>\n",
       "      <th id=\"T_19aaa_level0_col49\" class=\"col_heading level0 col49\" >function_Customer Service</th>\n",
       "      <th id=\"T_19aaa_level0_col50\" class=\"col_heading level0 col50\" >function_Engineering</th>\n",
       "      <th id=\"T_19aaa_level0_col51\" class=\"col_heading level0 col51\" >function_Information Technology</th>\n",
       "      <th id=\"T_19aaa_level0_col52\" class=\"col_heading level0 col52\" >function_Marketing</th>\n",
       "      <th id=\"T_19aaa_level0_col53\" class=\"col_heading level0 col53\" >function_Other</th>\n",
       "      <th id=\"T_19aaa_level0_col54\" class=\"col_heading level0 col54\" >function_Sales</th>\n",
       "      <th id=\"T_19aaa_level0_col55\" class=\"col_heading level0 col55\" >countryCode_AU</th>\n",
       "      <th id=\"T_19aaa_level0_col56\" class=\"col_heading level0 col56\" >countryCode_CA</th>\n",
       "      <th id=\"T_19aaa_level0_col57\" class=\"col_heading level0 col57\" >countryCode_DE</th>\n",
       "      <th id=\"T_19aaa_level0_col58\" class=\"col_heading level0 col58\" >countryCode_GB</th>\n",
       "      <th id=\"T_19aaa_level0_col59\" class=\"col_heading level0 col59\" >countryCode_GR</th>\n",
       "      <th id=\"T_19aaa_level0_col60\" class=\"col_heading level0 col60\" >countryCode_IN</th>\n",
       "      <th id=\"T_19aaa_level0_col61\" class=\"col_heading level0 col61\" >countryCode_NZ</th>\n",
       "      <th id=\"T_19aaa_level0_col62\" class=\"col_heading level0 col62\" >countryCode_Other</th>\n",
       "      <th id=\"T_19aaa_level0_col63\" class=\"col_heading level0 col63\" >countryCode_US</th>\n",
       "      <th id=\"T_19aaa_level0_col64\" class=\"col_heading level0 col64\" >countryCode_nan</th>\n",
       "    </tr>\n",
       "  </thead>\n",
       "  <tbody>\n",
       "    <tr>\n",
       "      <th id=\"T_19aaa_level0_row0\" class=\"row_heading level0 row0\" >0</th>\n",
       "      <td id=\"T_19aaa_row0_col0\" class=\"data row0 col0\" >0</td>\n",
       "      <td id=\"T_19aaa_row0_col1\" class=\"data row0 col1\" >1</td>\n",
       "      <td id=\"T_19aaa_row0_col2\" class=\"data row0 col2\" >0</td>\n",
       "      <td id=\"T_19aaa_row0_col3\" class=\"data row0 col3\" >0</td>\n",
       "      <td id=\"T_19aaa_row0_col4\" class=\"data row0 col4\" >nan</td>\n",
       "      <td id=\"T_19aaa_row0_col5\" class=\"data row0 col5\" >nan</td>\n",
       "      <td id=\"T_19aaa_row0_col6\" class=\"data row0 col6\" >nan</td>\n",
       "      <td id=\"T_19aaa_row0_col7\" class=\"data row0 col7\" >1</td>\n",
       "      <td id=\"T_19aaa_row0_col8\" class=\"data row0 col8\" >1</td>\n",
       "      <td id=\"T_19aaa_row0_col9\" class=\"data row0 col9\" >0</td>\n",
       "      <td id=\"T_19aaa_row0_col10\" class=\"data row0 col10\" >0</td>\n",
       "      <td id=\"T_19aaa_row0_col11\" class=\"data row0 col11\" >0</td>\n",
       "      <td id=\"T_19aaa_row0_col12\" class=\"data row0 col12\" >1</td>\n",
       "      <td id=\"T_19aaa_row0_col13\" class=\"data row0 col13\" >0</td>\n",
       "      <td id=\"T_19aaa_row0_col14\" class=\"data row0 col14\" >0</td>\n",
       "      <td id=\"T_19aaa_row0_col15\" class=\"data row0 col15\" >0</td>\n",
       "      <td id=\"T_19aaa_row0_col16\" class=\"data row0 col16\" >0</td>\n",
       "      <td id=\"T_19aaa_row0_col17\" class=\"data row0 col17\" >0</td>\n",
       "      <td id=\"T_19aaa_row0_col18\" class=\"data row0 col18\" >1</td>\n",
       "      <td id=\"T_19aaa_row0_col19\" class=\"data row0 col19\" >0</td>\n",
       "      <td id=\"T_19aaa_row0_col20\" class=\"data row0 col20\" >0</td>\n",
       "      <td id=\"T_19aaa_row0_col21\" class=\"data row0 col21\" >0</td>\n",
       "      <td id=\"T_19aaa_row0_col22\" class=\"data row0 col22\" >0</td>\n",
       "      <td id=\"T_19aaa_row0_col23\" class=\"data row0 col23\" >0</td>\n",
       "      <td id=\"T_19aaa_row0_col24\" class=\"data row0 col24\" >0</td>\n",
       "      <td id=\"T_19aaa_row0_col25\" class=\"data row0 col25\" >1</td>\n",
       "      <td id=\"T_19aaa_row0_col26\" class=\"data row0 col26\" >0</td>\n",
       "      <td id=\"T_19aaa_row0_col27\" class=\"data row0 col27\" >0</td>\n",
       "      <td id=\"T_19aaa_row0_col28\" class=\"data row0 col28\" >0</td>\n",
       "      <td id=\"T_19aaa_row0_col29\" class=\"data row0 col29\" >0</td>\n",
       "      <td id=\"T_19aaa_row0_col30\" class=\"data row0 col30\" >0</td>\n",
       "      <td id=\"T_19aaa_row0_col31\" class=\"data row0 col31\" >0</td>\n",
       "      <td id=\"T_19aaa_row0_col32\" class=\"data row0 col32\" >0</td>\n",
       "      <td id=\"T_19aaa_row0_col33\" class=\"data row0 col33\" >0</td>\n",
       "      <td id=\"T_19aaa_row0_col34\" class=\"data row0 col34\" >0</td>\n",
       "      <td id=\"T_19aaa_row0_col35\" class=\"data row0 col35\" >0</td>\n",
       "      <td id=\"T_19aaa_row0_col36\" class=\"data row0 col36\" >0</td>\n",
       "      <td id=\"T_19aaa_row0_col37\" class=\"data row0 col37\" >0</td>\n",
       "      <td id=\"T_19aaa_row0_col38\" class=\"data row0 col38\" >0</td>\n",
       "      <td id=\"T_19aaa_row0_col39\" class=\"data row0 col39\" >0</td>\n",
       "      <td id=\"T_19aaa_row0_col40\" class=\"data row0 col40\" >0</td>\n",
       "      <td id=\"T_19aaa_row0_col41\" class=\"data row0 col41\" >0</td>\n",
       "      <td id=\"T_19aaa_row0_col42\" class=\"data row0 col42\" >0</td>\n",
       "      <td id=\"T_19aaa_row0_col43\" class=\"data row0 col43\" >0</td>\n",
       "      <td id=\"T_19aaa_row0_col44\" class=\"data row0 col44\" >0</td>\n",
       "      <td id=\"T_19aaa_row0_col45\" class=\"data row0 col45\" >0</td>\n",
       "      <td id=\"T_19aaa_row0_col46\" class=\"data row0 col46\" >0</td>\n",
       "      <td id=\"T_19aaa_row0_col47\" class=\"data row0 col47\" >0</td>\n",
       "      <td id=\"T_19aaa_row0_col48\" class=\"data row0 col48\" >1</td>\n",
       "      <td id=\"T_19aaa_row0_col49\" class=\"data row0 col49\" >0</td>\n",
       "      <td id=\"T_19aaa_row0_col50\" class=\"data row0 col50\" >0</td>\n",
       "      <td id=\"T_19aaa_row0_col51\" class=\"data row0 col51\" >0</td>\n",
       "      <td id=\"T_19aaa_row0_col52\" class=\"data row0 col52\" >1</td>\n",
       "      <td id=\"T_19aaa_row0_col53\" class=\"data row0 col53\" >0</td>\n",
       "      <td id=\"T_19aaa_row0_col54\" class=\"data row0 col54\" >0</td>\n",
       "      <td id=\"T_19aaa_row0_col55\" class=\"data row0 col55\" >0</td>\n",
       "      <td id=\"T_19aaa_row0_col56\" class=\"data row0 col56\" >0</td>\n",
       "      <td id=\"T_19aaa_row0_col57\" class=\"data row0 col57\" >0</td>\n",
       "      <td id=\"T_19aaa_row0_col58\" class=\"data row0 col58\" >0</td>\n",
       "      <td id=\"T_19aaa_row0_col59\" class=\"data row0 col59\" >0</td>\n",
       "      <td id=\"T_19aaa_row0_col60\" class=\"data row0 col60\" >0</td>\n",
       "      <td id=\"T_19aaa_row0_col61\" class=\"data row0 col61\" >0</td>\n",
       "      <td id=\"T_19aaa_row0_col62\" class=\"data row0 col62\" >0</td>\n",
       "      <td id=\"T_19aaa_row0_col63\" class=\"data row0 col63\" >1</td>\n",
       "      <td id=\"T_19aaa_row0_col64\" class=\"data row0 col64\" >0</td>\n",
       "    </tr>\n",
       "    <tr>\n",
       "      <th id=\"T_19aaa_level0_row1\" class=\"row_heading level0 row1\" >1</th>\n",
       "      <td id=\"T_19aaa_row1_col0\" class=\"data row1 col0\" >0</td>\n",
       "      <td id=\"T_19aaa_row1_col1\" class=\"data row1 col1\" >1</td>\n",
       "      <td id=\"T_19aaa_row1_col2\" class=\"data row1 col2\" >0</td>\n",
       "      <td id=\"T_19aaa_row1_col3\" class=\"data row1 col3\" >0</td>\n",
       "      <td id=\"T_19aaa_row1_col4\" class=\"data row1 col4\" >nan</td>\n",
       "      <td id=\"T_19aaa_row1_col5\" class=\"data row1 col5\" >nan</td>\n",
       "      <td id=\"T_19aaa_row1_col6\" class=\"data row1 col6\" >nan</td>\n",
       "      <td id=\"T_19aaa_row1_col7\" class=\"data row1 col7\" >1</td>\n",
       "      <td id=\"T_19aaa_row1_col8\" class=\"data row1 col8\" >1</td>\n",
       "      <td id=\"T_19aaa_row1_col9\" class=\"data row1 col9\" >1</td>\n",
       "      <td id=\"T_19aaa_row1_col10\" class=\"data row1 col10\" >0</td>\n",
       "      <td id=\"T_19aaa_row1_col11\" class=\"data row1 col11\" >0</td>\n",
       "      <td id=\"T_19aaa_row1_col12\" class=\"data row1 col12\" >0</td>\n",
       "      <td id=\"T_19aaa_row1_col13\" class=\"data row1 col13\" >0</td>\n",
       "      <td id=\"T_19aaa_row1_col14\" class=\"data row1 col14\" >1</td>\n",
       "      <td id=\"T_19aaa_row1_col15\" class=\"data row1 col15\" >0</td>\n",
       "      <td id=\"T_19aaa_row1_col16\" class=\"data row1 col16\" >0</td>\n",
       "      <td id=\"T_19aaa_row1_col17\" class=\"data row1 col17\" >1</td>\n",
       "      <td id=\"T_19aaa_row1_col18\" class=\"data row1 col18\" >0</td>\n",
       "      <td id=\"T_19aaa_row1_col19\" class=\"data row1 col19\" >0</td>\n",
       "      <td id=\"T_19aaa_row1_col20\" class=\"data row1 col20\" >0</td>\n",
       "      <td id=\"T_19aaa_row1_col21\" class=\"data row1 col21\" >0</td>\n",
       "      <td id=\"T_19aaa_row1_col22\" class=\"data row1 col22\" >0</td>\n",
       "      <td id=\"T_19aaa_row1_col23\" class=\"data row1 col23\" >0</td>\n",
       "      <td id=\"T_19aaa_row1_col24\" class=\"data row1 col24\" >0</td>\n",
       "      <td id=\"T_19aaa_row1_col25\" class=\"data row1 col25\" >0</td>\n",
       "      <td id=\"T_19aaa_row1_col26\" class=\"data row1 col26\" >0</td>\n",
       "      <td id=\"T_19aaa_row1_col27\" class=\"data row1 col27\" >1</td>\n",
       "      <td id=\"T_19aaa_row1_col28\" class=\"data row1 col28\" >0</td>\n",
       "      <td id=\"T_19aaa_row1_col29\" class=\"data row1 col29\" >0</td>\n",
       "      <td id=\"T_19aaa_row1_col30\" class=\"data row1 col30\" >0</td>\n",
       "      <td id=\"T_19aaa_row1_col31\" class=\"data row1 col31\" >0</td>\n",
       "      <td id=\"T_19aaa_row1_col32\" class=\"data row1 col32\" >0</td>\n",
       "      <td id=\"T_19aaa_row1_col33\" class=\"data row1 col33\" >0</td>\n",
       "      <td id=\"T_19aaa_row1_col34\" class=\"data row1 col34\" >0</td>\n",
       "      <td id=\"T_19aaa_row1_col35\" class=\"data row1 col35\" >0</td>\n",
       "      <td id=\"T_19aaa_row1_col36\" class=\"data row1 col36\" >0</td>\n",
       "      <td id=\"T_19aaa_row1_col37\" class=\"data row1 col37\" >0</td>\n",
       "      <td id=\"T_19aaa_row1_col38\" class=\"data row1 col38\" >0</td>\n",
       "      <td id=\"T_19aaa_row1_col39\" class=\"data row1 col39\" >0</td>\n",
       "      <td id=\"T_19aaa_row1_col40\" class=\"data row1 col40\" >0</td>\n",
       "      <td id=\"T_19aaa_row1_col41\" class=\"data row1 col41\" >0</td>\n",
       "      <td id=\"T_19aaa_row1_col42\" class=\"data row1 col42\" >0</td>\n",
       "      <td id=\"T_19aaa_row1_col43\" class=\"data row1 col43\" >0</td>\n",
       "      <td id=\"T_19aaa_row1_col44\" class=\"data row1 col44\" >0</td>\n",
       "      <td id=\"T_19aaa_row1_col45\" class=\"data row1 col45\" >0</td>\n",
       "      <td id=\"T_19aaa_row1_col46\" class=\"data row1 col46\" >0</td>\n",
       "      <td id=\"T_19aaa_row1_col47\" class=\"data row1 col47\" >1</td>\n",
       "      <td id=\"T_19aaa_row1_col48\" class=\"data row1 col48\" >0</td>\n",
       "      <td id=\"T_19aaa_row1_col49\" class=\"data row1 col49\" >1</td>\n",
       "      <td id=\"T_19aaa_row1_col50\" class=\"data row1 col50\" >0</td>\n",
       "      <td id=\"T_19aaa_row1_col51\" class=\"data row1 col51\" >0</td>\n",
       "      <td id=\"T_19aaa_row1_col52\" class=\"data row1 col52\" >0</td>\n",
       "      <td id=\"T_19aaa_row1_col53\" class=\"data row1 col53\" >0</td>\n",
       "      <td id=\"T_19aaa_row1_col54\" class=\"data row1 col54\" >0</td>\n",
       "      <td id=\"T_19aaa_row1_col55\" class=\"data row1 col55\" >0</td>\n",
       "      <td id=\"T_19aaa_row1_col56\" class=\"data row1 col56\" >0</td>\n",
       "      <td id=\"T_19aaa_row1_col57\" class=\"data row1 col57\" >0</td>\n",
       "      <td id=\"T_19aaa_row1_col58\" class=\"data row1 col58\" >0</td>\n",
       "      <td id=\"T_19aaa_row1_col59\" class=\"data row1 col59\" >0</td>\n",
       "      <td id=\"T_19aaa_row1_col60\" class=\"data row1 col60\" >0</td>\n",
       "      <td id=\"T_19aaa_row1_col61\" class=\"data row1 col61\" >1</td>\n",
       "      <td id=\"T_19aaa_row1_col62\" class=\"data row1 col62\" >0</td>\n",
       "      <td id=\"T_19aaa_row1_col63\" class=\"data row1 col63\" >0</td>\n",
       "      <td id=\"T_19aaa_row1_col64\" class=\"data row1 col64\" >0</td>\n",
       "    </tr>\n",
       "    <tr>\n",
       "      <th id=\"T_19aaa_level0_row2\" class=\"row_heading level0 row2\" >2</th>\n",
       "      <td id=\"T_19aaa_row2_col0\" class=\"data row2 col0\" >0</td>\n",
       "      <td id=\"T_19aaa_row2_col1\" class=\"data row2 col1\" >1</td>\n",
       "      <td id=\"T_19aaa_row2_col2\" class=\"data row2 col2\" >0</td>\n",
       "      <td id=\"T_19aaa_row2_col3\" class=\"data row2 col3\" >0</td>\n",
       "      <td id=\"T_19aaa_row2_col4\" class=\"data row2 col4\" >nan</td>\n",
       "      <td id=\"T_19aaa_row2_col5\" class=\"data row2 col5\" >nan</td>\n",
       "      <td id=\"T_19aaa_row2_col6\" class=\"data row2 col6\" >nan</td>\n",
       "      <td id=\"T_19aaa_row2_col7\" class=\"data row2 col7\" >1</td>\n",
       "      <td id=\"T_19aaa_row2_col8\" class=\"data row2 col8\" >1</td>\n",
       "      <td id=\"T_19aaa_row2_col9\" class=\"data row2 col9\" >0</td>\n",
       "      <td id=\"T_19aaa_row2_col10\" class=\"data row2 col10\" >0</td>\n",
       "      <td id=\"T_19aaa_row2_col11\" class=\"data row2 col11\" >0</td>\n",
       "      <td id=\"T_19aaa_row2_col12\" class=\"data row2 col12\" >0</td>\n",
       "      <td id=\"T_19aaa_row2_col13\" class=\"data row2 col13\" >0</td>\n",
       "      <td id=\"T_19aaa_row2_col14\" class=\"data row2 col14\" >1</td>\n",
       "      <td id=\"T_19aaa_row2_col15\" class=\"data row2 col15\" >0</td>\n",
       "      <td id=\"T_19aaa_row2_col16\" class=\"data row2 col16\" >0</td>\n",
       "      <td id=\"T_19aaa_row2_col17\" class=\"data row2 col17\" >0</td>\n",
       "      <td id=\"T_19aaa_row2_col18\" class=\"data row2 col18\" >0</td>\n",
       "      <td id=\"T_19aaa_row2_col19\" class=\"data row2 col19\" >0</td>\n",
       "      <td id=\"T_19aaa_row2_col20\" class=\"data row2 col20\" >0</td>\n",
       "      <td id=\"T_19aaa_row2_col21\" class=\"data row2 col21\" >0</td>\n",
       "      <td id=\"T_19aaa_row2_col22\" class=\"data row2 col22\" >0</td>\n",
       "      <td id=\"T_19aaa_row2_col23\" class=\"data row2 col23\" >0</td>\n",
       "      <td id=\"T_19aaa_row2_col24\" class=\"data row2 col24\" >0</td>\n",
       "      <td id=\"T_19aaa_row2_col25\" class=\"data row2 col25\" >0</td>\n",
       "      <td id=\"T_19aaa_row2_col26\" class=\"data row2 col26\" >0</td>\n",
       "      <td id=\"T_19aaa_row2_col27\" class=\"data row2 col27\" >0</td>\n",
       "      <td id=\"T_19aaa_row2_col28\" class=\"data row2 col28\" >0</td>\n",
       "      <td id=\"T_19aaa_row2_col29\" class=\"data row2 col29\" >0</td>\n",
       "      <td id=\"T_19aaa_row2_col30\" class=\"data row2 col30\" >0</td>\n",
       "      <td id=\"T_19aaa_row2_col31\" class=\"data row2 col31\" >0</td>\n",
       "      <td id=\"T_19aaa_row2_col32\" class=\"data row2 col32\" >0</td>\n",
       "      <td id=\"T_19aaa_row2_col33\" class=\"data row2 col33\" >0</td>\n",
       "      <td id=\"T_19aaa_row2_col34\" class=\"data row2 col34\" >0</td>\n",
       "      <td id=\"T_19aaa_row2_col35\" class=\"data row2 col35\" >0</td>\n",
       "      <td id=\"T_19aaa_row2_col36\" class=\"data row2 col36\" >0</td>\n",
       "      <td id=\"T_19aaa_row2_col37\" class=\"data row2 col37\" >0</td>\n",
       "      <td id=\"T_19aaa_row2_col38\" class=\"data row2 col38\" >0</td>\n",
       "      <td id=\"T_19aaa_row2_col39\" class=\"data row2 col39\" >0</td>\n",
       "      <td id=\"T_19aaa_row2_col40\" class=\"data row2 col40\" >0</td>\n",
       "      <td id=\"T_19aaa_row2_col41\" class=\"data row2 col41\" >0</td>\n",
       "      <td id=\"T_19aaa_row2_col42\" class=\"data row2 col42\" >0</td>\n",
       "      <td id=\"T_19aaa_row2_col43\" class=\"data row2 col43\" >0</td>\n",
       "      <td id=\"T_19aaa_row2_col44\" class=\"data row2 col44\" >0</td>\n",
       "      <td id=\"T_19aaa_row2_col45\" class=\"data row2 col45\" >0</td>\n",
       "      <td id=\"T_19aaa_row2_col46\" class=\"data row2 col46\" >0</td>\n",
       "      <td id=\"T_19aaa_row2_col47\" class=\"data row2 col47\" >0</td>\n",
       "      <td id=\"T_19aaa_row2_col48\" class=\"data row2 col48\" >1</td>\n",
       "      <td id=\"T_19aaa_row2_col49\" class=\"data row2 col49\" >0</td>\n",
       "      <td id=\"T_19aaa_row2_col50\" class=\"data row2 col50\" >0</td>\n",
       "      <td id=\"T_19aaa_row2_col51\" class=\"data row2 col51\" >0</td>\n",
       "      <td id=\"T_19aaa_row2_col52\" class=\"data row2 col52\" >0</td>\n",
       "      <td id=\"T_19aaa_row2_col53\" class=\"data row2 col53\" >1</td>\n",
       "      <td id=\"T_19aaa_row2_col54\" class=\"data row2 col54\" >0</td>\n",
       "      <td id=\"T_19aaa_row2_col55\" class=\"data row2 col55\" >0</td>\n",
       "      <td id=\"T_19aaa_row2_col56\" class=\"data row2 col56\" >0</td>\n",
       "      <td id=\"T_19aaa_row2_col57\" class=\"data row2 col57\" >0</td>\n",
       "      <td id=\"T_19aaa_row2_col58\" class=\"data row2 col58\" >0</td>\n",
       "      <td id=\"T_19aaa_row2_col59\" class=\"data row2 col59\" >0</td>\n",
       "      <td id=\"T_19aaa_row2_col60\" class=\"data row2 col60\" >0</td>\n",
       "      <td id=\"T_19aaa_row2_col61\" class=\"data row2 col61\" >0</td>\n",
       "      <td id=\"T_19aaa_row2_col62\" class=\"data row2 col62\" >0</td>\n",
       "      <td id=\"T_19aaa_row2_col63\" class=\"data row2 col63\" >1</td>\n",
       "      <td id=\"T_19aaa_row2_col64\" class=\"data row2 col64\" >0</td>\n",
       "    </tr>\n",
       "    <tr>\n",
       "      <th id=\"T_19aaa_level0_row3\" class=\"row_heading level0 row3\" >3</th>\n",
       "      <td id=\"T_19aaa_row3_col0\" class=\"data row3 col0\" >0</td>\n",
       "      <td id=\"T_19aaa_row3_col1\" class=\"data row3 col1\" >1</td>\n",
       "      <td id=\"T_19aaa_row3_col2\" class=\"data row3 col2\" >0</td>\n",
       "      <td id=\"T_19aaa_row3_col3\" class=\"data row3 col3\" >0</td>\n",
       "      <td id=\"T_19aaa_row3_col4\" class=\"data row3 col4\" >nan</td>\n",
       "      <td id=\"T_19aaa_row3_col5\" class=\"data row3 col5\" >nan</td>\n",
       "      <td id=\"T_19aaa_row3_col6\" class=\"data row3 col6\" >nan</td>\n",
       "      <td id=\"T_19aaa_row3_col7\" class=\"data row3 col7\" >1</td>\n",
       "      <td id=\"T_19aaa_row3_col8\" class=\"data row3 col8\" >1</td>\n",
       "      <td id=\"T_19aaa_row3_col9\" class=\"data row3 col9\" >1</td>\n",
       "      <td id=\"T_19aaa_row3_col10\" class=\"data row3 col10\" >0</td>\n",
       "      <td id=\"T_19aaa_row3_col11\" class=\"data row3 col11\" >0</td>\n",
       "      <td id=\"T_19aaa_row3_col12\" class=\"data row3 col12\" >0</td>\n",
       "      <td id=\"T_19aaa_row3_col13\" class=\"data row3 col13\" >0</td>\n",
       "      <td id=\"T_19aaa_row3_col14\" class=\"data row3 col14\" >0</td>\n",
       "      <td id=\"T_19aaa_row3_col15\" class=\"data row3 col15\" >1</td>\n",
       "      <td id=\"T_19aaa_row3_col16\" class=\"data row3 col16\" >0</td>\n",
       "      <td id=\"T_19aaa_row3_col17\" class=\"data row3 col17\" >1</td>\n",
       "      <td id=\"T_19aaa_row3_col18\" class=\"data row3 col18\" >0</td>\n",
       "      <td id=\"T_19aaa_row3_col19\" class=\"data row3 col19\" >0</td>\n",
       "      <td id=\"T_19aaa_row3_col20\" class=\"data row3 col20\" >0</td>\n",
       "      <td id=\"T_19aaa_row3_col21\" class=\"data row3 col21\" >0</td>\n",
       "      <td id=\"T_19aaa_row3_col22\" class=\"data row3 col22\" >0</td>\n",
       "      <td id=\"T_19aaa_row3_col23\" class=\"data row3 col23\" >0</td>\n",
       "      <td id=\"T_19aaa_row3_col24\" class=\"data row3 col24\" >0</td>\n",
       "      <td id=\"T_19aaa_row3_col25\" class=\"data row3 col25\" >0</td>\n",
       "      <td id=\"T_19aaa_row3_col26\" class=\"data row3 col26\" >1</td>\n",
       "      <td id=\"T_19aaa_row3_col27\" class=\"data row3 col27\" >0</td>\n",
       "      <td id=\"T_19aaa_row3_col28\" class=\"data row3 col28\" >0</td>\n",
       "      <td id=\"T_19aaa_row3_col29\" class=\"data row3 col29\" >1</td>\n",
       "      <td id=\"T_19aaa_row3_col30\" class=\"data row3 col30\" >0</td>\n",
       "      <td id=\"T_19aaa_row3_col31\" class=\"data row3 col31\" >0</td>\n",
       "      <td id=\"T_19aaa_row3_col32\" class=\"data row3 col32\" >0</td>\n",
       "      <td id=\"T_19aaa_row3_col33\" class=\"data row3 col33\" >0</td>\n",
       "      <td id=\"T_19aaa_row3_col34\" class=\"data row3 col34\" >0</td>\n",
       "      <td id=\"T_19aaa_row3_col35\" class=\"data row3 col35\" >0</td>\n",
       "      <td id=\"T_19aaa_row3_col36\" class=\"data row3 col36\" >0</td>\n",
       "      <td id=\"T_19aaa_row3_col37\" class=\"data row3 col37\" >0</td>\n",
       "      <td id=\"T_19aaa_row3_col38\" class=\"data row3 col38\" >0</td>\n",
       "      <td id=\"T_19aaa_row3_col39\" class=\"data row3 col39\" >0</td>\n",
       "      <td id=\"T_19aaa_row3_col40\" class=\"data row3 col40\" >0</td>\n",
       "      <td id=\"T_19aaa_row3_col41\" class=\"data row3 col41\" >1</td>\n",
       "      <td id=\"T_19aaa_row3_col42\" class=\"data row3 col42\" >0</td>\n",
       "      <td id=\"T_19aaa_row3_col43\" class=\"data row3 col43\" >0</td>\n",
       "      <td id=\"T_19aaa_row3_col44\" class=\"data row3 col44\" >0</td>\n",
       "      <td id=\"T_19aaa_row3_col45\" class=\"data row3 col45\" >0</td>\n",
       "      <td id=\"T_19aaa_row3_col46\" class=\"data row3 col46\" >0</td>\n",
       "      <td id=\"T_19aaa_row3_col47\" class=\"data row3 col47\" >0</td>\n",
       "      <td id=\"T_19aaa_row3_col48\" class=\"data row3 col48\" >0</td>\n",
       "      <td id=\"T_19aaa_row3_col49\" class=\"data row3 col49\" >0</td>\n",
       "      <td id=\"T_19aaa_row3_col50\" class=\"data row3 col50\" >0</td>\n",
       "      <td id=\"T_19aaa_row3_col51\" class=\"data row3 col51\" >0</td>\n",
       "      <td id=\"T_19aaa_row3_col52\" class=\"data row3 col52\" >0</td>\n",
       "      <td id=\"T_19aaa_row3_col53\" class=\"data row3 col53\" >0</td>\n",
       "      <td id=\"T_19aaa_row3_col54\" class=\"data row3 col54\" >1</td>\n",
       "      <td id=\"T_19aaa_row3_col55\" class=\"data row3 col55\" >0</td>\n",
       "      <td id=\"T_19aaa_row3_col56\" class=\"data row3 col56\" >0</td>\n",
       "      <td id=\"T_19aaa_row3_col57\" class=\"data row3 col57\" >0</td>\n",
       "      <td id=\"T_19aaa_row3_col58\" class=\"data row3 col58\" >0</td>\n",
       "      <td id=\"T_19aaa_row3_col59\" class=\"data row3 col59\" >0</td>\n",
       "      <td id=\"T_19aaa_row3_col60\" class=\"data row3 col60\" >0</td>\n",
       "      <td id=\"T_19aaa_row3_col61\" class=\"data row3 col61\" >0</td>\n",
       "      <td id=\"T_19aaa_row3_col62\" class=\"data row3 col62\" >0</td>\n",
       "      <td id=\"T_19aaa_row3_col63\" class=\"data row3 col63\" >1</td>\n",
       "      <td id=\"T_19aaa_row3_col64\" class=\"data row3 col64\" >0</td>\n",
       "    </tr>\n",
       "    <tr>\n",
       "      <th id=\"T_19aaa_level0_row4\" class=\"row_heading level0 row4\" >4</th>\n",
       "      <td id=\"T_19aaa_row4_col0\" class=\"data row4 col0\" >0</td>\n",
       "      <td id=\"T_19aaa_row4_col1\" class=\"data row4 col1\" >1</td>\n",
       "      <td id=\"T_19aaa_row4_col2\" class=\"data row4 col2\" >1</td>\n",
       "      <td id=\"T_19aaa_row4_col3\" class=\"data row4 col3\" >0</td>\n",
       "      <td id=\"T_19aaa_row4_col4\" class=\"data row4 col4\" >nan</td>\n",
       "      <td id=\"T_19aaa_row4_col5\" class=\"data row4 col5\" >nan</td>\n",
       "      <td id=\"T_19aaa_row4_col6\" class=\"data row4 col6\" >nan</td>\n",
       "      <td id=\"T_19aaa_row4_col7\" class=\"data row4 col7\" >1</td>\n",
       "      <td id=\"T_19aaa_row4_col8\" class=\"data row4 col8\" >1</td>\n",
       "      <td id=\"T_19aaa_row4_col9\" class=\"data row4 col9\" >1</td>\n",
       "      <td id=\"T_19aaa_row4_col10\" class=\"data row4 col10\" >0</td>\n",
       "      <td id=\"T_19aaa_row4_col11\" class=\"data row4 col11\" >0</td>\n",
       "      <td id=\"T_19aaa_row4_col12\" class=\"data row4 col12\" >0</td>\n",
       "      <td id=\"T_19aaa_row4_col13\" class=\"data row4 col13\" >0</td>\n",
       "      <td id=\"T_19aaa_row4_col14\" class=\"data row4 col14\" >1</td>\n",
       "      <td id=\"T_19aaa_row4_col15\" class=\"data row4 col15\" >0</td>\n",
       "      <td id=\"T_19aaa_row4_col16\" class=\"data row4 col16\" >0</td>\n",
       "      <td id=\"T_19aaa_row4_col17\" class=\"data row4 col17\" >1</td>\n",
       "      <td id=\"T_19aaa_row4_col18\" class=\"data row4 col18\" >0</td>\n",
       "      <td id=\"T_19aaa_row4_col19\" class=\"data row4 col19\" >0</td>\n",
       "      <td id=\"T_19aaa_row4_col20\" class=\"data row4 col20\" >0</td>\n",
       "      <td id=\"T_19aaa_row4_col21\" class=\"data row4 col21\" >0</td>\n",
       "      <td id=\"T_19aaa_row4_col22\" class=\"data row4 col22\" >0</td>\n",
       "      <td id=\"T_19aaa_row4_col23\" class=\"data row4 col23\" >0</td>\n",
       "      <td id=\"T_19aaa_row4_col24\" class=\"data row4 col24\" >0</td>\n",
       "      <td id=\"T_19aaa_row4_col25\" class=\"data row4 col25\" >0</td>\n",
       "      <td id=\"T_19aaa_row4_col26\" class=\"data row4 col26\" >1</td>\n",
       "      <td id=\"T_19aaa_row4_col27\" class=\"data row4 col27\" >0</td>\n",
       "      <td id=\"T_19aaa_row4_col28\" class=\"data row4 col28\" >0</td>\n",
       "      <td id=\"T_19aaa_row4_col29\" class=\"data row4 col29\" >1</td>\n",
       "      <td id=\"T_19aaa_row4_col30\" class=\"data row4 col30\" >0</td>\n",
       "      <td id=\"T_19aaa_row4_col31\" class=\"data row4 col31\" >0</td>\n",
       "      <td id=\"T_19aaa_row4_col32\" class=\"data row4 col32\" >0</td>\n",
       "      <td id=\"T_19aaa_row4_col33\" class=\"data row4 col33\" >0</td>\n",
       "      <td id=\"T_19aaa_row4_col34\" class=\"data row4 col34\" >0</td>\n",
       "      <td id=\"T_19aaa_row4_col35\" class=\"data row4 col35\" >0</td>\n",
       "      <td id=\"T_19aaa_row4_col36\" class=\"data row4 col36\" >0</td>\n",
       "      <td id=\"T_19aaa_row4_col37\" class=\"data row4 col37\" >0</td>\n",
       "      <td id=\"T_19aaa_row4_col38\" class=\"data row4 col38\" >0</td>\n",
       "      <td id=\"T_19aaa_row4_col39\" class=\"data row4 col39\" >0</td>\n",
       "      <td id=\"T_19aaa_row4_col40\" class=\"data row4 col40\" >0</td>\n",
       "      <td id=\"T_19aaa_row4_col41\" class=\"data row4 col41\" >0</td>\n",
       "      <td id=\"T_19aaa_row4_col42\" class=\"data row4 col42\" >0</td>\n",
       "      <td id=\"T_19aaa_row4_col43\" class=\"data row4 col43\" >0</td>\n",
       "      <td id=\"T_19aaa_row4_col44\" class=\"data row4 col44\" >1</td>\n",
       "      <td id=\"T_19aaa_row4_col45\" class=\"data row4 col45\" >0</td>\n",
       "      <td id=\"T_19aaa_row4_col46\" class=\"data row4 col46\" >0</td>\n",
       "      <td id=\"T_19aaa_row4_col47\" class=\"data row4 col47\" >0</td>\n",
       "      <td id=\"T_19aaa_row4_col48\" class=\"data row4 col48\" >0</td>\n",
       "      <td id=\"T_19aaa_row4_col49\" class=\"data row4 col49\" >0</td>\n",
       "      <td id=\"T_19aaa_row4_col50\" class=\"data row4 col50\" >0</td>\n",
       "      <td id=\"T_19aaa_row4_col51\" class=\"data row4 col51\" >0</td>\n",
       "      <td id=\"T_19aaa_row4_col52\" class=\"data row4 col52\" >0</td>\n",
       "      <td id=\"T_19aaa_row4_col53\" class=\"data row4 col53\" >1</td>\n",
       "      <td id=\"T_19aaa_row4_col54\" class=\"data row4 col54\" >0</td>\n",
       "      <td id=\"T_19aaa_row4_col55\" class=\"data row4 col55\" >0</td>\n",
       "      <td id=\"T_19aaa_row4_col56\" class=\"data row4 col56\" >0</td>\n",
       "      <td id=\"T_19aaa_row4_col57\" class=\"data row4 col57\" >0</td>\n",
       "      <td id=\"T_19aaa_row4_col58\" class=\"data row4 col58\" >0</td>\n",
       "      <td id=\"T_19aaa_row4_col59\" class=\"data row4 col59\" >0</td>\n",
       "      <td id=\"T_19aaa_row4_col60\" class=\"data row4 col60\" >0</td>\n",
       "      <td id=\"T_19aaa_row4_col61\" class=\"data row4 col61\" >0</td>\n",
       "      <td id=\"T_19aaa_row4_col62\" class=\"data row4 col62\" >0</td>\n",
       "      <td id=\"T_19aaa_row4_col63\" class=\"data row4 col63\" >1</td>\n",
       "      <td id=\"T_19aaa_row4_col64\" class=\"data row4 col64\" >0</td>\n",
       "    </tr>\n",
       "  </tbody>\n",
       "</table>\n"
      ],
      "text/plain": [
       "<pandas.io.formats.style.Styler at 0x7f123cf5df10>"
      ]
     },
     "execution_count": 38,
     "metadata": {},
     "output_type": "execute_result"
    }
   ],
   "source": [
    "df = pd.get_dummies(df, columns=[\"department\", \"employment_type\", \"required_experience\", \"required_education\", \"industry\", 'function', 'countryCode'], \n",
    "                      prefix=[\"department\", \"employment_type\", \"required_experience\", \"required_education\", \"industry\", 'function', 'countryCode']) #we add a prefix for easier identification\n",
    "\n",
    "df.head().style"
   ]
  },
  {
   "cell_type": "markdown",
   "id": "c3cb3fa6",
   "metadata": {},
   "source": [
    "Remove nan values"
   ]
  },
  {
   "cell_type": "code",
   "execution_count": 39,
   "id": "8054248e",
   "metadata": {},
   "outputs": [
    {
     "name": "stdout",
     "output_type": "stream",
     "text": [
      "17880\n",
      "2841\n"
     ]
    }
   ],
   "source": [
    "print(len(df))\n",
    "df.dropna(inplace = True)\n",
    "print(len(df))"
   ]
  },
  {
   "cell_type": "markdown",
   "id": "b3aafaf9",
   "metadata": {},
   "source": [
    "# 5. Data split"
   ]
  },
  {
   "cell_type": "code",
   "execution_count": 40,
   "id": "32040fba",
   "metadata": {},
   "outputs": [
    {
     "name": "stdout",
     "output_type": "stream",
     "text": [
      "Index(['telecommuting', 'has_company_logo', 'has_questions', 'salaryLow',\n",
      "       'salaryHigh', 'salaryFork', 'hasCompanyProfile', 'hasRequirements',\n",
      "       'hasBenefits', 'department_Engineering', 'department_IT',\n",
      "       'department_Marketing', 'department_Operations', 'department_Other',\n",
      "       'department_Sales', 'employment_type_Contract',\n",
      "       'employment_type_Full-time', 'employment_type_Other',\n",
      "       'employment_type_Part-time', 'employment_type_Temporary',\n",
      "       'required_experience_Associate', 'required_experience_Director',\n",
      "       'required_experience_Entry level', 'required_experience_Executive',\n",
      "       'required_experience_Internship',\n",
      "       'required_experience_Mid-Senior level',\n",
      "       'required_experience_Not Applicable',\n",
      "       'required_education_Associate Degree',\n",
      "       'required_education_Bachelor's Degree',\n",
      "       'required_education_Certification', 'required_education_Doctorate',\n",
      "       'required_education_High School or equivalent',\n",
      "       'required_education_Master's Degree', 'required_education_Professional',\n",
      "       'required_education_Some College Coursework Completed',\n",
      "       'required_education_Some High School Coursework',\n",
      "       'required_education_Unspecified', 'required_education_Vocational',\n",
      "       'required_education_Vocational - Degree',\n",
      "       'required_education_Vocational - HS Diploma',\n",
      "       'industry_Computer Software', 'industry_Education Management',\n",
      "       'industry_Financial Services', 'industry_Hospital & Health Care',\n",
      "       'industry_Information Technology and Services', 'industry_Internet',\n",
      "       'industry_Marketing and Advertising', 'industry_Other',\n",
      "       'function_Customer Service', 'function_Engineering',\n",
      "       'function_Information Technology', 'function_Marketing',\n",
      "       'function_Other', 'function_Sales', 'countryCode_AU', 'countryCode_CA',\n",
      "       'countryCode_DE', 'countryCode_GB', 'countryCode_GR', 'countryCode_IN',\n",
      "       'countryCode_NZ', 'countryCode_Other', 'countryCode_US',\n",
      "       'countryCode_nan'],\n",
      "      dtype='object')\n"
     ]
    }
   ],
   "source": [
    "X, y = df.drop('fraudulent', axis = 1), df['fraudulent']\n",
    "print(X.columns)"
   ]
  },
  {
   "cell_type": "code",
   "execution_count": 41,
   "id": "c52b868c",
   "metadata": {},
   "outputs": [
    {
     "name": "stdout",
     "output_type": "stream",
     "text": [
      "1988 853\n"
     ]
    }
   ],
   "source": [
    "X_train, X_test, y_train, y_test = train_test_split(X, y, test_size = 0.3, random_state = 42)\n",
    "print(len(X_train), len(X_test))"
   ]
  },
  {
   "cell_type": "markdown",
   "id": "8fd71098",
   "metadata": {},
   "source": [
    "Visualisation:"
   ]
  },
  {
   "cell_type": "code",
   "execution_count": 42,
   "id": "279b8c2d",
   "metadata": {},
   "outputs": [
    {
     "data": {
      "image/png": "[encoded data removed]",
      "text/plain": [
       "<Figure size 432x288 with 1 Axes>"
      ]
     },
     "metadata": {
      "needs_background": "light"
     },
     "output_type": "display_data"
    }
   ],
   "source": [
    "train_dist = y_train.value_counts() / len(y_train) #normalize absolute count values for plotting\n",
    "test_dist = y_test.value_counts() / len(y_test)\n",
    "data_dist = y.value_counts() / len(y)\n",
    "\n",
    "fig, ax = plt.subplots()\n",
    "\n",
    "ax.barh(['Test','Train','Data'], [test_dist[0], train_dist[0], data_dist[0]], color='#1f77b4', label='0 (no)')\n",
    "ax.barh(['Test','Train','Data'], [test_dist[1], train_dist[1], data_dist[1]], left=[test_dist[0], train_dist[0], data_dist[0]], color='#ff7f0e', label='1 (yes)')\n",
    "ax.set_title('Split visualization')\n",
    "ax.legend(loc='upper left')\n",
    "plt.xlabel('Proportion')\n",
    "plt.ylabel('Partition')\n",
    "\n",
    "#plot bar values\n",
    "for part, a, b in zip(['Test', 'Train','Data'], [test_dist[0], train_dist[0], data_dist[0]], [test_dist[1], train_dist[1], data_dist[1]]):\n",
    "    plt.text(a/2, part, str(np.round(a, 2)))\n",
    "    plt.text(b/2+a, part, str(np.round(b, 2)));"
   ]
  },
  {
   "cell_type": "markdown",
   "id": "7f059ffb",
   "metadata": {},
   "source": [
    "# 6. Data rebalancing"
   ]
  },
  {
   "cell_type": "code",
   "execution_count": 43,
   "id": "8c3ea604",
   "metadata": {},
   "outputs": [],
   "source": [
    "smote = SMOTE(sampling_strategy='minority', random_state = 42)\n",
    "X_sm, y_sm = smote.fit_resample(X_train, y_train) #ONLY APPLIED TO TRAINING!!!"
   ]
  },
  {
   "cell_type": "markdown",
   "id": "dd4c81fd",
   "metadata": {},
   "source": [
    "New data split:"
   ]
  },
  {
   "cell_type": "code",
   "execution_count": 44,
   "id": "b6f9b436",
   "metadata": {},
   "outputs": [
    {
     "data": {
      "image/png": "[encoded data removed]",
      "text/plain": [
       "<Figure size 432x288 with 1 Axes>"
      ]
     },
     "metadata": {
      "needs_background": "light"
     },
     "output_type": "display_data"
    }
   ],
   "source": [
    "train_dist = y_train.value_counts() / len(y_train) #normalize absolute count values for plotting\n",
    "test_dist = y_test.value_counts() / len(y_test)\n",
    "data_dist = y.value_counts() / len(y)\n",
    "smote_dist = pd.Series(y_sm).value_counts() / len(pd.Series(y_sm))\n",
    "\n",
    "fig, ax = plt.subplots()\n",
    "\n",
    "ax.barh(['X_train (SMOTE)','Test','Train','Data'], [smote_dist[0], test_dist[0], train_dist[0], data_dist[0]], color='#1f77b4', label='0 (no)')\n",
    "ax.barh(['X_train (SMOTE)','Test','Train','Data'], [smote_dist[1], test_dist[1], train_dist[1], data_dist[1]], left=[smote_dist[0], test_dist[0], train_dist[0], data_dist[0]], color='#ff7f0e', label='1 (yes)')\n",
    "ax.set_title('Split visualization')\n",
    "ax.legend(loc='upper left')\n",
    "plt.xlabel('Proportion')\n",
    "plt.ylabel('Partition')\n",
    "\n",
    "#plot bar values\n",
    "for part, a, b in zip(['X_train (SMOTE)', 'Test', 'Train','Data'], [smote_dist[0], test_dist[0], train_dist[0], data_dist[0]], [smote_dist[1], test_dist[1], train_dist[1], data_dist[1]]):\n",
    "    plt.text(a/2, part, str(np.round(a, 2)))\n",
    "    plt.text(b/2+a, part, str(np.round(b, 2)));"
   ]
  },
  {
   "cell_type": "markdown",
   "id": "5b34b85f",
   "metadata": {},
   "source": [
    "# 7. Model building"
   ]
  },
  {
   "cell_type": "markdown",
   "id": "7747aaae",
   "metadata": {},
   "source": [
    "### 7.1 Decision tree"
   ]
  },
  {
   "cell_type": "code",
   "execution_count": 45,
   "id": "7575f431",
   "metadata": {},
   "outputs": [
    {
     "name": "stdout",
     "output_type": "stream",
     "text": [
      "Accuracy is:  82.53\n"
     ]
    }
   ],
   "source": [
    "#Define Decision tree classifier with some default parameters\n",
    "tree_bal = tree.DecisionTreeClassifier(criterion = \"gini\", random_state = 100,\n",
    "                               max_depth=3, min_samples_leaf=3).fit(X_sm, y_sm)\n",
    "\n",
    "y_pred_tree_bal = tree_bal.predict(X_test)\n",
    "y_predProba_tree_bal = tree_bal.predict_proba(X_test)\n",
    "print (\"Accuracy is: \", (accuracy_score(y_test, y_pred_tree_bal)*100).round(2))"
   ]
  },
  {
   "cell_type": "markdown",
   "id": "f1f1bd43",
   "metadata": {},
   "source": [
    "#### Feature importances:"
   ]
  },
  {
   "cell_type": "code",
   "execution_count": 46,
   "id": "e025b7e1",
   "metadata": {},
   "outputs": [
    {
     "data": {
      "text/html": [
       "<div>\n",
       "<style scoped>\n",
       "    .dataframe tbody tr th:only-of-type {\n",
       "        vertical-align: middle;\n",
       "    }\n",
       "\n",
       "    .dataframe tbody tr th {\n",
       "        vertical-align: top;\n",
       "    }\n",
       "\n",
       "    .dataframe thead th {\n",
       "        text-align: right;\n",
       "    }\n",
       "</style>\n",
       "<table border=\"1\" class=\"dataframe\">\n",
       "  <thead>\n",
       "    <tr style=\"text-align: right;\">\n",
       "      <th></th>\n",
       "      <th>feature</th>\n",
       "      <th>importance</th>\n",
       "    </tr>\n",
       "  </thead>\n",
       "  <tbody>\n",
       "    <tr>\n",
       "      <th>0</th>\n",
       "      <td>telecommuting</td>\n",
       "      <td>0.000000</td>\n",
       "    </tr>\n",
       "    <tr>\n",
       "      <th>1</th>\n",
       "      <td>has_company_logo</td>\n",
       "      <td>0.396257</td>\n",
       "    </tr>\n",
       "    <tr>\n",
       "      <th>2</th>\n",
       "      <td>has_questions</td>\n",
       "      <td>0.000000</td>\n",
       "    </tr>\n",
       "    <tr>\n",
       "      <th>3</th>\n",
       "      <td>salaryLow</td>\n",
       "      <td>0.140562</td>\n",
       "    </tr>\n",
       "    <tr>\n",
       "      <th>4</th>\n",
       "      <td>salaryHigh</td>\n",
       "      <td>0.000000</td>\n",
       "    </tr>\n",
       "    <tr>\n",
       "      <th>...</th>\n",
       "      <td>...</td>\n",
       "      <td>...</td>\n",
       "    </tr>\n",
       "    <tr>\n",
       "      <th>59</th>\n",
       "      <td>countryCode_IN</td>\n",
       "      <td>0.000000</td>\n",
       "    </tr>\n",
       "    <tr>\n",
       "      <th>60</th>\n",
       "      <td>countryCode_NZ</td>\n",
       "      <td>0.000000</td>\n",
       "    </tr>\n",
       "    <tr>\n",
       "      <th>61</th>\n",
       "      <td>countryCode_Other</td>\n",
       "      <td>0.000000</td>\n",
       "    </tr>\n",
       "    <tr>\n",
       "      <th>62</th>\n",
       "      <td>countryCode_US</td>\n",
       "      <td>0.000000</td>\n",
       "    </tr>\n",
       "    <tr>\n",
       "      <th>63</th>\n",
       "      <td>countryCode_nan</td>\n",
       "      <td>0.000000</td>\n",
       "    </tr>\n",
       "  </tbody>\n",
       "</table>\n",
       "<p>64 rows × 2 columns</p>\n",
       "</div>"
      ],
      "text/plain": [
       "              feature  importance\n",
       "0       telecommuting    0.000000\n",
       "1    has_company_logo    0.396257\n",
       "2       has_questions    0.000000\n",
       "3           salaryLow    0.140562\n",
       "4          salaryHigh    0.000000\n",
       "..                ...         ...\n",
       "59     countryCode_IN    0.000000\n",
       "60     countryCode_NZ    0.000000\n",
       "61  countryCode_Other    0.000000\n",
       "62     countryCode_US    0.000000\n",
       "63    countryCode_nan    0.000000\n",
       "\n",
       "[64 rows x 2 columns]"
      ]
     },
     "execution_count": 46,
     "metadata": {},
     "output_type": "execute_result"
    }
   ],
   "source": [
    "d = []\n",
    "for i in range(len(X_train.columns)):\n",
    "    d.append({'feature':X_train.columns[i], 'importance':tree_bal.feature_importances_[i]})\n",
    "results = pd.DataFrame(d)\n",
    "results"
   ]
  },
  {
   "cell_type": "code",
   "execution_count": 47,
   "id": "fba4b705",
   "metadata": {
    "scrolled": true
   },
   "outputs": [
    {
     "data": {
      "text/plain": [
       "<AxesSubplot:ylabel='feature'>"
      ]
     },
     "execution_count": 47,
     "metadata": {},
     "output_type": "execute_result"
    },
    {
     "data": {
      "text/plain": [
       "<Figure size 432x288 with 0 Axes>"
      ]
     },
     "metadata": {},
     "output_type": "display_data"
    },
    {
     "data": {
      "image/png": "[encoded data removed]",
      "text/plain": [
       "<Figure size 432x288 with 1 Axes>"
      ]
     },
     "metadata": {
      "needs_background": "light"
     },
     "output_type": "display_data"
    }
   ],
   "source": [
    "plt.figure()\n",
    "results[results.importance != 0].sort_values(by = 'importance', ascending = True).plot.barh(x = 'feature', y = 'importance')"
   ]
  },
  {
   "cell_type": "markdown",
   "id": "8e8da84f",
   "metadata": {},
   "source": [
    "### 7.2 Random forest"
   ]
  },
  {
   "cell_type": "code",
   "execution_count": 48,
   "id": "f3e5f890",
   "metadata": {},
   "outputs": [],
   "source": [
    "#Create a Gaussian Classifier\n",
    "forest_bal = RandomForestClassifier(n_estimators=100, criterion = \"gini\", random_state = 100,\n",
    "                               max_depth=3, min_samples_leaf=3)\n",
    "\n",
    "#Train the model using the training sets y_pred=clf.predict(X_test)\n",
    "forest_bal.fit(X_sm, y_sm)\n",
    "\n",
    "y_pred_forest_bal = forest_bal.predict(X_test)\n",
    "y_predProba_forest_bal = forest_bal.predict_proba(X_test)"
   ]
  },
  {
   "cell_type": "code",
   "execution_count": 49,
   "id": "6966c2b9",
   "metadata": {},
   "outputs": [
    {
     "name": "stdout",
     "output_type": "stream",
     "text": [
      "Accuracy: 84.29\n"
     ]
    }
   ],
   "source": [
    "print(\"Accuracy:\", (accuracy_score(y_test, y_pred_forest_bal) * 100).round(2))"
   ]
  },
  {
   "cell_type": "markdown",
   "id": "cecb1739",
   "metadata": {},
   "source": [
    "#### Feature importance"
   ]
  },
  {
   "cell_type": "code",
   "execution_count": 50,
   "id": "c3f6b16a",
   "metadata": {},
   "outputs": [
    {
     "data": {
      "text/html": [
       "<div>\n",
       "<style scoped>\n",
       "    .dataframe tbody tr th:only-of-type {\n",
       "        vertical-align: middle;\n",
       "    }\n",
       "\n",
       "    .dataframe tbody tr th {\n",
       "        vertical-align: top;\n",
       "    }\n",
       "\n",
       "    .dataframe thead th {\n",
       "        text-align: right;\n",
       "    }\n",
       "</style>\n",
       "<table border=\"1\" class=\"dataframe\">\n",
       "  <thead>\n",
       "    <tr style=\"text-align: right;\">\n",
       "      <th></th>\n",
       "      <th>feature</th>\n",
       "      <th>importance</th>\n",
       "    </tr>\n",
       "  </thead>\n",
       "  <tbody>\n",
       "    <tr>\n",
       "      <th>0</th>\n",
       "      <td>telecommuting</td>\n",
       "      <td>0.002212</td>\n",
       "    </tr>\n",
       "    <tr>\n",
       "      <th>1</th>\n",
       "      <td>has_company_logo</td>\n",
       "      <td>0.185993</td>\n",
       "    </tr>\n",
       "    <tr>\n",
       "      <th>2</th>\n",
       "      <td>has_questions</td>\n",
       "      <td>0.056077</td>\n",
       "    </tr>\n",
       "    <tr>\n",
       "      <th>3</th>\n",
       "      <td>salaryLow</td>\n",
       "      <td>0.024161</td>\n",
       "    </tr>\n",
       "    <tr>\n",
       "      <th>4</th>\n",
       "      <td>salaryHigh</td>\n",
       "      <td>0.015761</td>\n",
       "    </tr>\n",
       "    <tr>\n",
       "      <th>...</th>\n",
       "      <td>...</td>\n",
       "      <td>...</td>\n",
       "    </tr>\n",
       "    <tr>\n",
       "      <th>59</th>\n",
       "      <td>countryCode_IN</td>\n",
       "      <td>0.001036</td>\n",
       "    </tr>\n",
       "    <tr>\n",
       "      <th>60</th>\n",
       "      <td>countryCode_NZ</td>\n",
       "      <td>0.000345</td>\n",
       "    </tr>\n",
       "    <tr>\n",
       "      <th>61</th>\n",
       "      <td>countryCode_Other</td>\n",
       "      <td>0.003257</td>\n",
       "    </tr>\n",
       "    <tr>\n",
       "      <th>62</th>\n",
       "      <td>countryCode_US</td>\n",
       "      <td>0.029875</td>\n",
       "    </tr>\n",
       "    <tr>\n",
       "      <th>63</th>\n",
       "      <td>countryCode_nan</td>\n",
       "      <td>0.000000</td>\n",
       "    </tr>\n",
       "  </tbody>\n",
       "</table>\n",
       "<p>64 rows × 2 columns</p>\n",
       "</div>"
      ],
      "text/plain": [
       "              feature  importance\n",
       "0       telecommuting    0.002212\n",
       "1    has_company_logo    0.185993\n",
       "2       has_questions    0.056077\n",
       "3           salaryLow    0.024161\n",
       "4          salaryHigh    0.015761\n",
       "..                ...         ...\n",
       "59     countryCode_IN    0.001036\n",
       "60     countryCode_NZ    0.000345\n",
       "61  countryCode_Other    0.003257\n",
       "62     countryCode_US    0.029875\n",
       "63    countryCode_nan    0.000000\n",
       "\n",
       "[64 rows x 2 columns]"
      ]
     },
     "execution_count": 50,
     "metadata": {},
     "output_type": "execute_result"
    }
   ],
   "source": [
    "f = []\n",
    "for i in range(len(X_train.columns)):\n",
    "    f.append({'feature':X_train.columns[i], 'importance':forest_bal.feature_importances_[i]})\n",
    "results_forest = pd.DataFrame(f)\n",
    "results_forest"
   ]
  },
  {
   "cell_type": "code",
   "execution_count": 51,
   "id": "ae9d2b5d",
   "metadata": {},
   "outputs": [
    {
     "data": {
      "text/plain": [
       "<AxesSubplot:ylabel='feature'>"
      ]
     },
     "execution_count": 51,
     "metadata": {},
     "output_type": "execute_result"
    },
    {
     "data": {
      "text/plain": [
       "<Figure size 432x288 with 0 Axes>"
      ]
     },
     "metadata": {},
     "output_type": "display_data"
    },
    {
     "data": {
      "image/png": "[encoded data removed]",
      "text/plain": [
       "<Figure size 432x288 with 1 Axes>"
      ]
     },
     "metadata": {
      "needs_background": "light"
     },
     "output_type": "display_data"
    }
   ],
   "source": [
    "plt.figure()\n",
    "results_forest[results_forest.importance > 0.025].sort_values(by = 'importance', ascending = True).plot.barh(x = 'feature', y = 'importance')"
   ]
  },
  {
   "cell_type": "markdown",
   "id": "202ed540",
   "metadata": {},
   "source": [
    "# 8. Model Evaluation: Decision Tree vs Random forest"
   ]
  },
  {
   "cell_type": "markdown",
   "id": "7fd486d8",
   "metadata": {},
   "source": [
    "### Confusion matrix"
   ]
  },
  {
   "cell_type": "code",
   "execution_count": 52,
   "id": "6328751f",
   "metadata": {},
   "outputs": [],
   "source": [
    "def plot_confusion_matrix(cm, classes,\n",
    "                          normalize=False,\n",
    "                          title='Confusion matrix',\n",
    "                          cmap=plt.cm.Blues):\n",
    "    \"\"\"\n",
    "    This function prints and plots the confusion matrix.\n",
    "    Normalization can be applied by setting `normalize=True`.\n",
    "    \"\"\"\n",
    "    if normalize:\n",
    "        cm = cm.astype('float') / cm.sum(axis=1)[:, np.newaxis]\n",
    "        #print(\"Normalized confusion matrix\")\n",
    "    #else:\n",
    "    #    print('Confusion matrix, without normalization')\n",
    "\n",
    "    #print(cm)\n",
    "\n",
    "    plt.imshow(cm, interpolation='nearest', cmap=cmap)\n",
    "    plt.title(title)\n",
    "    plt.colorbar()\n",
    "    tick_marks = np.arange(len(classes))\n",
    "    plt.xticks(tick_marks, classes, rotation=45)\n",
    "    plt.yticks(tick_marks, classes)\n",
    "\n",
    "    fmt = '.2f' if normalize else 'd'\n",
    "    thresh = cm.max() / 2.\n",
    "    for i, j in itertools.product(range(cm.shape[0]), range(cm.shape[1])):\n",
    "        plt.text(j, i, format(cm[i, j], fmt),\n",
    "                 horizontalalignment=\"center\",\n",
    "                 color=\"white\" if cm[i, j] > thresh else \"black\")\n",
    "\n",
    "    plt.tight_layout()\n",
    "    plt.ylim([1.5, -0.5]) #added to fix a bug that causes the matrix to be squished\n",
    "    plt.ylabel('True label')\n",
    "    plt.xlabel('Predicted label')"
   ]
  },
  {
   "cell_type": "code",
   "execution_count": 53,
   "id": "f7855a08",
   "metadata": {},
   "outputs": [
    {
     "data": {
      "image/png": "[encoded data removed]",
      "text/plain": [
       "<Figure size 1872x720 with 7 Axes>"
      ]
     },
     "metadata": {
      "needs_background": "light"
     },
     "output_type": "display_data"
    }
   ],
   "source": [
    "# Compute confusion matrix\n",
    "class_names = ['no fraud', 'fraud']\n",
    "cnf_matrix_tree_bal = confusion_matrix(y_test, y_pred_tree_bal)\n",
    "cnf_matrix_forest_bal = confusion_matrix(y_test, y_pred_forest_bal)\n",
    "\n",
    "np.set_printoptions(precision=2)\n",
    "plt.figure(figsize=(26,10))\n",
    "\n",
    "# Plot Decision Tree non-normalized confusion matrix\n",
    "plt.subplot(221) \n",
    "plot_confusion_matrix(cnf_matrix_tree_bal, classes=class_names,\n",
    "                      title='Decision Tree confusion matrix, without normalization')\n",
    "\n",
    "# Plot Decision Tree normalized confusion matrix\n",
    "plt.subplot(222) \n",
    "plot_confusion_matrix(cnf_matrix_tree_bal, classes=class_names, normalize=True,\n",
    "                      title='Decision Tree normalized confusion matrix')\n",
    "\n",
    "#Plot Random Forest non-normalized confusion matrix\n",
    "plt.subplot(223) \n",
    "plot_confusion_matrix(cnf_matrix_forest_bal, classes=class_names,\n",
    "                      title='Random Forest confusion matrix, without normalization')\n",
    "\n",
    "#Plot Random Forest normalized confusion matrix\n",
    "plt.subplot(224) \n",
    "plot_confusion_matrix(cnf_matrix_forest_bal, classes=class_names, normalize=True,\n",
    "                      title='Random Forest normalized confusion matrix')\n",
    "\n",
    "\n",
    "plt.tight_layout()\n",
    "plt.show()"
   ]
  },
  {
   "cell_type": "markdown",
   "id": "f1d8bddc",
   "metadata": {},
   "source": [
    "Decision Tree model gets correctly more 'fraud' cases and but fewer 'no fraud' cases than Random Forest model."
   ]
  },
  {
   "cell_type": "markdown",
   "id": "1ead029e",
   "metadata": {},
   "source": [
    "# 9. Bag of words models"
   ]
  },
  {
   "cell_type": "markdown",
   "id": "7aaf2682",
   "metadata": {},
   "source": [
    "## 9.1 Transform database rows to text representation\n",
    "\n",
    "Join each column in a row to a single string. Remove all characters from substrings that are not letters. "
   ]
  },
  {
   "cell_type": "code",
   "execution_count": 54,
   "id": "6d26282b",
   "metadata": {},
   "outputs": [],
   "source": [
    "df_words = data.copy()\n",
    "X_w, y_w = df_words.drop('fraudulent', axis = 1), df_words['fraudulent']\n",
    "X_w=list(map(lambda row: ' '.join(str(x) for x in row), X_w.values))\n",
    "X_w=list(map(lambda row: re.sub(\"[^a-zA-Z]|nan\",\" \", row), X_w))"
   ]
  },
  {
   "cell_type": "markdown",
   "id": "868e02c3",
   "metadata": {},
   "source": [
    "## 9.2 Transform text representation to bag of words\n",
    "\n",
    "Count each distinct word that is not a stop word. Transform each dataset row to a vector that holds information on how many of each distinct words the row contains."
   ]
  },
  {
   "cell_type": "code",
   "execution_count": 55,
   "id": "6548732d",
   "metadata": {},
   "outputs": [
    {
     "name": "stdout",
     "output_type": "stream",
     "text": [
      "{'marketing': 50259, 'intern': 43114, 'ny': 56027, 'new': 55279, 'york': 95928}\n"
     ]
    }
   ],
   "source": [
    "vectorizer = CountVectorizer(lowercase=True, stop_words='english')\n",
    "vectorizer.fit(X_w)\n",
    "d = vectorizer.vocabulary_\n",
    "headOfDict = {k: d[k] for k in list(d)[:5]}\n",
    "print(headOfDict)\n",
    "X_w = vectorizer.transform(X_w)"
   ]
  },
  {
   "cell_type": "markdown",
   "id": "6e39b263",
   "metadata": {},
   "source": [
    "## 9.3 Split the data"
   ]
  },
  {
   "cell_type": "code",
   "execution_count": 56,
   "id": "80c5ba1e",
   "metadata": {},
   "outputs": [],
   "source": [
    "X_train_w, X_test_w, y_train_w, y_test_w = train_test_split(X_w, y_w, test_size = 0.3, random_state = 42)"
   ]
  },
  {
   "cell_type": "markdown",
   "id": "0b889748",
   "metadata": {},
   "source": [
    "## 9.4 Rebalance the data\n",
    "\n",
    "As previously seen, there are far too many non fraudlent job postings when compared to fraudlent ones. Let's balance the training data with SMOTE."
   ]
  },
  {
   "cell_type": "code",
   "execution_count": 57,
   "id": "e1bf06fb",
   "metadata": {},
   "outputs": [],
   "source": [
    "smote = SMOTE(sampling_strategy='minority', random_state = 42)\n",
    "X_sm_w, y_sm_w = smote.fit_resample(X_train_w, y_train_w) "
   ]
  },
  {
   "cell_type": "markdown",
   "id": "ae27601a",
   "metadata": {},
   "source": [
    "## 9.5 Train the models\n",
    "\n",
    "Train Naive bayes and logistic regression models with bag of words vectors"
   ]
  },
  {
   "cell_type": "code",
   "execution_count": 58,
   "id": "d8c1cc7d",
   "metadata": {},
   "outputs": [
    {
     "name": "stdout",
     "output_type": "stream",
     "text": [
      "Accuracy: 97.95\n",
      "Accuracy: 97.52\n"
     ]
    }
   ],
   "source": [
    "naive = MultinomialNB()\n",
    "nb_classifier = naive.fit(X_sm_w,y_sm_w)\n",
    "nb_predict = nb_classifier.predict(X_test_w)\n",
    "\n",
    "logistic = LogisticRegression(max_iter=500)\n",
    "lg_classifier = logistic.fit(X_sm_w,y_sm_w)\n",
    "lg_predict = lg_classifier.predict(X_test_w)\n",
    "\n",
    "print(\"Accuracy:\", (accuracy_score(y_test_w, nb_predict) * 100).round(2))\n",
    "print(\"Accuracy:\", (accuracy_score(y_test_w, lg_predict) * 100).round(2))"
   ]
  },
  {
   "cell_type": "markdown",
   "id": "8b6e3f62",
   "metadata": {},
   "source": [
    "## 9.6 Confusion matrix of the bag of words models"
   ]
  },
  {
   "cell_type": "code",
   "execution_count": 59,
   "id": "36512400",
   "metadata": {},
   "outputs": [
    {
     "data": {
      "image/png": "[encoded data removed]",
      "text/plain": [
       "<Figure size 1872x720 with 7 Axes>"
      ]
     },
     "metadata": {
      "needs_background": "light"
     },
     "output_type": "display_data"
    }
   ],
   "source": [
    "class_names = ['no fraud', 'fraud']\n",
    "nb_conf = confusion_matrix(y_test_w, nb_predict)\n",
    "lg_conf = confusion_matrix(y_test_w, lg_predict)\n",
    "\n",
    "np.set_printoptions(precision=2)\n",
    "plt.figure(figsize=(26,10))\n",
    "\n",
    "# Plot Naive Bayes non-normalized confusion matrix\n",
    "plt.subplot(221) \n",
    "plot_confusion_matrix(nb_conf, classes=class_names,\n",
    "                      title='Naive Bayes confusion matrix, without normalization')\n",
    "\n",
    "# Plot Naive Bayes normalized confusion matrix\n",
    "plt.subplot(222) \n",
    "plot_confusion_matrix(nb_conf, classes=class_names, normalize=True,\n",
    "                      title='Naive bayes normalized confusion matrix')\n",
    "\n",
    "# Plot Logistic regression non-normalized confusion matrix\n",
    "plt.subplot(223) \n",
    "plot_confusion_matrix(lg_conf, classes=class_names,\n",
    "                      title='Logistic regression confusion matrix, without normalization')\n",
    "\n",
    "# Plot Logistic regression normalized confusion matrix\n",
    "plt.subplot(224) \n",
    "plot_confusion_matrix(lg_conf, classes=class_names, normalize=True,\n",
    "                      title='Logistic regression normalized confusion matrix')\n",
    "\n",
    "plt.tight_layout()\n",
    "plt.show()"
   ]
  },
  {
   "cell_type": "markdown",
   "id": "29b52bc1",
   "metadata": {},
   "source": [
    "According to matrices, bag of words models identify non fraudlent postings with high accuracy. However, when identifying fraudlent postings, the bag of words models offer similar accuracy to previously introduced models."
   ]
  },
  {
   "cell_type": "markdown",
   "id": "ff9f46c8",
   "metadata": {},
   "source": [
    "## 9.7 Bag of words feature importance"
   ]
  },
  {
   "cell_type": "code",
   "execution_count": 60,
   "id": "91002e91",
   "metadata": {},
   "outputs": [
    {
     "name": "stderr",
     "output_type": "stream",
     "text": [
      "/opt/software/lib/python3.9/site-packages/sklearn/utils/deprecation.py:87: FutureWarning: Function get_feature_names is deprecated; get_feature_names is deprecated in 1.0 and will be removed in 1.2. Please use get_feature_names_out instead.\n",
      "  warnings.warn(msg, category=FutureWarning)\n"
     ]
    },
    {
     "data": {
      "image/png": "[encoded data removed]",
      "text/plain": [
       "<Figure size 1080x360 with 1 Axes>"
      ]
     },
     "metadata": {
      "needs_background": "light"
     },
     "output_type": "display_data"
    }
   ],
   "source": [
    "def plot_and_return_top_features(classifier, vectorizer, top_features=10):\n",
    "    \"\"\"\n",
    "    Heavily referenced from the datacamp tweet classification project, which adapted this from\n",
    "    https://medium.com/@aneesha/visualising-top-features-in-linear-svm-with-scikit-learn-and-matplotlib-3454ab18a14d\n",
    "    and https://stackoverflow.com/a/26980472 by @kjam\n",
    "    \"\"\"\n",
    "    feature_names = vectorizer.get_feature_names()\n",
    "    topn_class1 = sorted(zip(classifier.coef_[0], feature_names))[:top_features]\n",
    "    topn_class2 = sorted(zip(classifier.coef_[0], feature_names))[-top_features:]\n",
    "    top_coefficients = np.hstack([topn_class1, topn_class2])\n",
    "    if set(topn_class1).union(topn_class2):\n",
    "        top_coefficients = topn_class1\n",
    "        for ce in topn_class2:\n",
    "            if ce not in topn_class1:\n",
    "                top_coefficients.append(ce)\n",
    "    plt.figure(figsize=(15, 5))\n",
    "    colors = ['#1f77b4' if c < 0 else '#ff7f0e' for c in [tc[0] for tc in top_coefficients]]\n",
    "    plt.bar(np.arange(len(top_coefficients)), [tc[0] for tc in top_coefficients], color=colors)\n",
    "    plt.xticks(np.arange(len(top_coefficients)),\n",
    "               [tc[1] for tc in top_coefficients], rotation=60, ha='right')\n",
    "    plt.xlabel('Word')\n",
    "    plt.ylabel('Coefficient')\n",
    "    blue_patch = mpatches.Patch(color='#1f77b4', label='Fraudlent')\n",
    "    orange_patch = mpatches.Patch(color='#ff7f0e', label='Non fraudlent')\n",
    "    plt.legend(handles=[blue_patch, orange_patch])\n",
    "    plt.title(label=\"Logistic regression feature coefficients\")\n",
    "    plt.show()\n",
    "\n",
    "plot_and_return_top_features(lg_classifier, vectorizer, top_features=20)"
   ]
  },
  {
   "cell_type": "markdown",
   "id": "16234eaa",
   "metadata": {},
   "source": [
    "# 10. Comparison of best models: decision tree and logistic regression (bag-of-words\n"
   ]
  },
  {
   "cell_type": "markdown",
   "id": "314ab771",
   "metadata": {},
   "source": [
    "This part analyses whether logistics regression and decision tree predict fraudulent correctly for the same observations in order to decide whether models complement each other. The models are using different datasets, hence analysis be done on the overlapped observations."
   ]
  },
  {
   "cell_type": "code",
   "execution_count": 61,
   "id": "561b0237",
   "metadata": {},
   "outputs": [
    {
     "name": "stdout",
     "output_type": "stream",
     "text": [
      "number of test rows for decision tree: 853\n",
      "number of test rows for logistic regression: 5364\n",
      "number of overlapping rows: 274\n"
     ]
    }
   ],
   "source": [
    "print('number of test rows for decision tree: ' + str(len(y_test)))\n",
    "print('number of test rows for logistic regression: ' + str(len(y_test_w)))\n",
    "print('number of overlapping rows: ' + str(len([x for x in y_test.index if x in y_test_w.index])))"
   ]
  },
  {
   "cell_type": "markdown",
   "id": "1864dc8a",
   "metadata": {},
   "source": [
    "Creating new dataframes with indexes for both test sets for cross reference"
   ]
  },
  {
   "cell_type": "code",
   "execution_count": 62,
   "id": "659aeffa",
   "metadata": {},
   "outputs": [
    {
     "data": {
      "text/html": [
       "<div>\n",
       "<style scoped>\n",
       "    .dataframe tbody tr th:only-of-type {\n",
       "        vertical-align: middle;\n",
       "    }\n",
       "\n",
       "    .dataframe tbody tr th {\n",
       "        vertical-align: top;\n",
       "    }\n",
       "\n",
       "    .dataframe thead th {\n",
       "        text-align: right;\n",
       "    }\n",
       "</style>\n",
       "<table border=\"1\" class=\"dataframe\">\n",
       "  <thead>\n",
       "    <tr style=\"text-align: right;\">\n",
       "      <th></th>\n",
       "      <th>Words_LG</th>\n",
       "      <th>Test</th>\n",
       "    </tr>\n",
       "  </thead>\n",
       "  <tbody>\n",
       "    <tr>\n",
       "      <th>4708</th>\n",
       "      <td>0</td>\n",
       "      <td>0</td>\n",
       "    </tr>\n",
       "    <tr>\n",
       "      <th>11079</th>\n",
       "      <td>0</td>\n",
       "      <td>0</td>\n",
       "    </tr>\n",
       "    <tr>\n",
       "      <th>12357</th>\n",
       "      <td>0</td>\n",
       "      <td>0</td>\n",
       "    </tr>\n",
       "    <tr>\n",
       "      <th>14511</th>\n",
       "      <td>0</td>\n",
       "      <td>0</td>\n",
       "    </tr>\n",
       "    <tr>\n",
       "      <th>16691</th>\n",
       "      <td>0</td>\n",
       "      <td>0</td>\n",
       "    </tr>\n",
       "  </tbody>\n",
       "</table>\n",
       "</div>"
      ],
      "text/plain": [
       "       Words_LG  Test\n",
       "4708          0     0\n",
       "11079         0     0\n",
       "12357         0     0\n",
       "14511         0     0\n",
       "16691         0     0"
      ]
     },
     "execution_count": 62,
     "metadata": {},
     "output_type": "execute_result"
    }
   ],
   "source": [
    "#dataframe for logictic regression\n",
    "predictions = pd.DataFrame()\n",
    "predictions.index = y_test_w.index \n",
    "predictions['Words_LG'] = lg_predict #predictions of logistic regression\n",
    "predictions['Test'] = y_test_w #correct answers\n",
    "\n",
    "predictions.head()"
   ]
  },
  {
   "cell_type": "code",
   "execution_count": 63,
   "id": "4dcc6a89",
   "metadata": {},
   "outputs": [
    {
     "data": {
      "text/html": [
       "<div>\n",
       "<style scoped>\n",
       "    .dataframe tbody tr th:only-of-type {\n",
       "        vertical-align: middle;\n",
       "    }\n",
       "\n",
       "    .dataframe tbody tr th {\n",
       "        vertical-align: top;\n",
       "    }\n",
       "\n",
       "    .dataframe thead th {\n",
       "        text-align: right;\n",
       "    }\n",
       "</style>\n",
       "<table border=\"1\" class=\"dataframe\">\n",
       "  <thead>\n",
       "    <tr style=\"text-align: right;\">\n",
       "      <th></th>\n",
       "      <th>DT</th>\n",
       "      <th>Test</th>\n",
       "    </tr>\n",
       "  </thead>\n",
       "  <tbody>\n",
       "    <tr>\n",
       "      <th>2653</th>\n",
       "      <td>0</td>\n",
       "      <td>0</td>\n",
       "    </tr>\n",
       "    <tr>\n",
       "      <th>14353</th>\n",
       "      <td>0</td>\n",
       "      <td>0</td>\n",
       "    </tr>\n",
       "    <tr>\n",
       "      <th>7177</th>\n",
       "      <td>1</td>\n",
       "      <td>1</td>\n",
       "    </tr>\n",
       "    <tr>\n",
       "      <th>7018</th>\n",
       "      <td>0</td>\n",
       "      <td>0</td>\n",
       "    </tr>\n",
       "    <tr>\n",
       "      <th>7709</th>\n",
       "      <td>1</td>\n",
       "      <td>0</td>\n",
       "    </tr>\n",
       "  </tbody>\n",
       "</table>\n",
       "</div>"
      ],
      "text/plain": [
       "       DT  Test\n",
       "2653    0     0\n",
       "14353   0     0\n",
       "7177    1     1\n",
       "7018    0     0\n",
       "7709    1     0"
      ]
     },
     "execution_count": 63,
     "metadata": {},
     "output_type": "execute_result"
    }
   ],
   "source": [
    "#dataframe for decision tree\n",
    "predictions_sasha = pd.DataFrame()\n",
    "predictions_sasha.index = y_test.index\n",
    "predictions_sasha['DT'] = y_pred_tree_bal\n",
    "predictions_sasha['Test'] = y_test\n",
    "predictions_sasha.head()"
   ]
  },
  {
   "cell_type": "code",
   "execution_count": 64,
   "id": "1bafb176",
   "metadata": {},
   "outputs": [
    {
     "data": {
      "text/html": [
       "<div>\n",
       "<style scoped>\n",
       "    .dataframe tbody tr th:only-of-type {\n",
       "        vertical-align: middle;\n",
       "    }\n",
       "\n",
       "    .dataframe tbody tr th {\n",
       "        vertical-align: top;\n",
       "    }\n",
       "\n",
       "    .dataframe thead th {\n",
       "        text-align: right;\n",
       "    }\n",
       "</style>\n",
       "<table border=\"1\" class=\"dataframe\">\n",
       "  <thead>\n",
       "    <tr style=\"text-align: right;\">\n",
       "      <th></th>\n",
       "      <th>Words_LG</th>\n",
       "      <th>Test</th>\n",
       "      <th>DT</th>\n",
       "      <th>Testr</th>\n",
       "    </tr>\n",
       "  </thead>\n",
       "  <tbody>\n",
       "    <tr>\n",
       "      <th>11079</th>\n",
       "      <td>0</td>\n",
       "      <td>0</td>\n",
       "      <td>0</td>\n",
       "      <td>0</td>\n",
       "    </tr>\n",
       "    <tr>\n",
       "      <th>5363</th>\n",
       "      <td>0</td>\n",
       "      <td>0</td>\n",
       "      <td>0</td>\n",
       "      <td>0</td>\n",
       "    </tr>\n",
       "    <tr>\n",
       "      <th>16927</th>\n",
       "      <td>0</td>\n",
       "      <td>0</td>\n",
       "      <td>0</td>\n",
       "      <td>0</td>\n",
       "    </tr>\n",
       "    <tr>\n",
       "      <th>14049</th>\n",
       "      <td>0</td>\n",
       "      <td>0</td>\n",
       "      <td>1</td>\n",
       "      <td>0</td>\n",
       "    </tr>\n",
       "    <tr>\n",
       "      <th>9835</th>\n",
       "      <td>0</td>\n",
       "      <td>0</td>\n",
       "      <td>0</td>\n",
       "      <td>0</td>\n",
       "    </tr>\n",
       "  </tbody>\n",
       "</table>\n",
       "</div>"
      ],
      "text/plain": [
       "       Words_LG  Test  DT  Testr\n",
       "11079         0     0   0      0\n",
       "5363          0     0   0      0\n",
       "16927         0     0   0      0\n",
       "14049         0     0   1      0\n",
       "9835          0     0   0      0"
      ]
     },
     "execution_count": 64,
     "metadata": {},
     "output_type": "execute_result"
    }
   ],
   "source": [
    "#merging dataframes\n",
    "predictions = predictions.join(predictions_sasha, how = 'inner', rsuffix ='r')\n",
    "predictions.head()"
   ]
  },
  {
   "cell_type": "markdown",
   "id": "be1ea4c9",
   "metadata": {},
   "source": [
    "Comparison:"
   ]
  },
  {
   "cell_type": "code",
   "execution_count": 65,
   "id": "6d2e7357",
   "metadata": {},
   "outputs": [
    {
     "data": {
      "text/plain": [
       "18"
      ]
     },
     "execution_count": 65,
     "metadata": {},
     "output_type": "execute_result"
    }
   ],
   "source": [
    "#number of fraudulent observations in overlapping dataset = 18\n",
    "len(predictions[predictions['Test'] == 1])"
   ]
  },
  {
   "cell_type": "code",
   "execution_count": 66,
   "id": "62745ddb",
   "metadata": {},
   "outputs": [
    {
     "data": {
      "text/plain": [
       "10"
      ]
     },
     "execution_count": 66,
     "metadata": {},
     "output_type": "execute_result"
    }
   ],
   "source": [
    "#number of fraudulent observations that both models got correctly = 10/18\n",
    "len(predictions[(predictions.Test == 1) & (predictions.DT == 1) & (predictions.Words_LG == 1)])"
   ]
  },
  {
   "cell_type": "code",
   "execution_count": 67,
   "id": "e9082592",
   "metadata": {},
   "outputs": [
    {
     "data": {
      "text/plain": [
       "2"
      ]
     },
     "execution_count": 67,
     "metadata": {},
     "output_type": "execute_result"
    }
   ],
   "source": [
    "#number of fraudulent observations that were missed by both models = 2/18\n",
    "len(predictions[(predictions.Test == 1) & (predictions.DT == 0) & (predictions.Words_LG == 0)])"
   ]
  },
  {
   "cell_type": "code",
   "execution_count": 68,
   "id": "d19605be",
   "metadata": {},
   "outputs": [
    {
     "data": {
      "text/plain": [
       "5"
      ]
     },
     "execution_count": 68,
     "metadata": {},
     "output_type": "execute_result"
    }
   ],
   "source": [
    "#number of fraudulent observations that decision tree got correctly but logistic regression didn't = 5/18\n",
    "len(predictions[(predictions.Test == 1) & (predictions.DT == 1) & (predictions.Words_LG == 0)])"
   ]
  },
  {
   "cell_type": "code",
   "execution_count": 69,
   "id": "614f7f72",
   "metadata": {},
   "outputs": [
    {
     "data": {
      "text/plain": [
       "1"
      ]
     },
     "execution_count": 69,
     "metadata": {},
     "output_type": "execute_result"
    }
   ],
   "source": [
    "#number of fraudulent observations that logistic regression got correctly but decision tree didn't = 1/18\n",
    "len(predictions[(predictions.Test == 1) & (predictions.DT == 0) & (predictions.Words_LG == 1)])"
   ]
  },
  {
   "cell_type": "markdown",
   "id": "f304868b",
   "metadata": {},
   "source": [
    "Summary:\n",
    "\n",
    "18 fraudulent job postings are in the shared part of test data:\n",
    "<br>10 were correctly predicted by both models (10/18 = 56%)\n",
    "<br> 2 were completely missed by both models (2/18 = 11%)\n",
    "<br>5 were caught by decision tree, not text mining (5/18 = 27%)\n",
    "<br>1 were caught by text mining, not decision tree (1/18 = 6%)\n",
    "\n",
    "--> in this small sample, we could have captured 16/18 (compared to 10/18) fraudulent postings if models were used together. It means 38% more fraudulent job posting would have been captured. The dataset might be too small to call this figure representative, however on bigger dataset this difference can be more significant.\n"
   ]
  },
  {
   "cell_type": "markdown",
   "id": "b363be84",
   "metadata": {},
   "source": [
    "Final recommendation: bag-of-word models can be computationally heavy, hence we recomend using decision tree and if it yields result with a fairly low accuracy (eg. <70%), the observation can be double checked with logistic regression model."
   ]
  },
  {
   "cell_type": "code",
   "execution_count": null,
   "id": "58ca6630",
   "metadata": {},
   "outputs": [],
   "source": []
  }
 ],
 "metadata": {
  "kernelspec": {
   "display_name": "Python 3",
   "language": "python",
   "name": "python3"
  },
  "language_info": {
   "codemirror_mode": {
    "name": "ipython",
    "version": 3
   },
   "file_extension": ".py",
   "mimetype": "text/x-python",
   "name": "python",
   "nbconvert_exporter": "python",
   "pygments_lexer": "ipython3",
   "version": "3.9.5"
  },
  "vscode": {
   "interpreter": {
    "hash": "31f2aee4e71d21fbe5cf8b01ff0e069b9275f58929596ceb00d14d90e3e16cd6"
   }
  }
 },
 "nbformat": 4,
 "nbformat_minor": 5
}
